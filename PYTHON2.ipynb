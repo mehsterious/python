{
 "cells": [
  {
   "cell_type": "code",
   "execution_count": 4,
   "id": "edea0d97-d5b4-4f11-9e15-6ce58147f982",
   "metadata": {},
   "outputs": [
    {
     "name": "stdout",
     "output_type": "stream",
     "text": [
      "The name is  Bruce\n",
      "the age is  40\n"
     ]
    }
   ],
   "source": [
    "#Write a program to create a function that takes two arguments, name and age, and print their value.\n",
    "def info(name, age):\n",
    "    print(\"The name is \",name)\n",
    "    print(\"the age is \",age)\n",
    "info(\"Bruce\", 40)"
   ]
  },
  {
   "cell_type": "code",
   "execution_count": 5,
   "id": "d26b21ee-3df7-4603-8d05-36473843bf7e",
   "metadata": {},
   "outputs": [
    {
     "name": "stdout",
     "output_type": "stream",
     "text": [
      "Addition is :  11\n",
      "Substraction is :  3\n"
     ]
    }
   ],
   "source": [
    "#Write a program to create function calculation() such that it can accept two variables and \n",
    "#calculate addition and subtraction. Also, it must return both addition and subtraction in a single return call\n",
    "def calc(a, b):\n",
    "    addition = a+b\n",
    "    substraction = a-b\n",
    "    return addition, substraction\n",
    "result = calc(7, 4)\n",
    "print(\"Addition is : \", result[0])\n",
    "print(\"Substraction is : \", result[1])"
   ]
  },
  {
   "cell_type": "markdown",
   "id": "2b8ed1b3-1777-4c41-95da-c41ae1cc0724",
   "metadata": {},
   "source": [
    "Write a program to create a function show_employee() using the following conditions.\n",
    "●  \tIt should accept the employee’s name and salary and display both.\n",
    "●  \tIf the salary is missing in the function call then assign default value 9000 to salary\n"
   ]
  },
  {
   "cell_type": "code",
   "execution_count": 8,
   "id": "bcb0eadd-4182-4b0d-880d-65c03a553fc4",
   "metadata": {},
   "outputs": [
    {
     "name": "stdout",
     "output_type": "stream",
     "text": [
      "employee name is Bruce and salary is 100000\n",
      "employee name is Alfred and salary is 9000\n"
     ]
    }
   ],
   "source": [
    "def show_employee(name, salary = 9000):\n",
    "    print(f\"employee name is {name} and salary is {salary}\")\n",
    "show_employee(\"Bruce\", 100000) \n",
    "show_employee(\"Alfred\")\n"
   ]
  },
  {
   "cell_type": "markdown",
   "id": "bbc19f1b-4fa7-4bdd-8dc7-2e7979c30040",
   "metadata": {},
   "source": [
    "Accept a number from the user, create a function isPrime(), which accepts a number from a parameter & check prime or not. If number is prime return True & number else return false & number\n"
   ]
  },
  {
   "cell_type": "code",
   "execution_count": 44,
   "id": "3c4d731b-13f5-43be-a67d-63d3871e8218",
   "metadata": {},
   "outputs": [
    {
     "name": "stdin",
     "output_type": "stream",
     "text": [
      "Enter number here :  15\n"
     ]
    },
    {
     "name": "stdout",
     "output_type": "stream",
     "text": [
      "15  not a prime number\n"
     ]
    }
   ],
   "source": [
    "\n",
    "\n",
    "def is_prime(num):\n",
    "    if num <= 1:\n",
    "        return False, num\n",
    "    for i in range (2, num):\n",
    "        if num%i==0:\n",
    "            return False, num\n",
    "    return True, num\n",
    "\n",
    "n = int(input(\"Enter number here : \"))\n",
    "prime, num = is_prime(n)\n",
    "\n",
    "if prime:\n",
    "    print(num, \"is a prime number\")\n",
    "else:\n",
    "    print(num, \"not a prime number\")"
   ]
  },
  {
   "cell_type": "code",
   "execution_count": 60,
   "id": "a0ea2d23-5ee9-48b7-aaba-6940d00a6189",
   "metadata": {},
   "outputs": [
    {
     "name": "stdin",
     "output_type": "stream",
     "text": [
      "Enter first number 4\n",
      "Enter second number 4\n"
     ]
    },
    {
     "name": "stdout",
     "output_type": "stream",
     "text": [
      "\n",
      "1 : Addition\n",
      "2 : Substraction\n",
      "3 : Multiplication\n",
      "4 : Division\n",
      "5 : Modulus\n",
      "6 : Exit\n"
     ]
    },
    {
     "name": "stdin",
     "output_type": "stream",
     "text": [
      "\n",
      "Enter choice :  6\n"
     ]
    },
    {
     "name": "stdout",
     "output_type": "stream",
     "text": [
      "Adios\n"
     ]
    }
   ],
   "source": [
    "###### CALCULATOR\n",
    "\n",
    "def add(a, b):\n",
    "    return a+b\n",
    "def sub(a, b):\n",
    "    return a-b\n",
    "def mul(a, b):\n",
    "    return a*b\n",
    "def div(a, b):\n",
    "    if b == 0:\n",
    "        return \"Cannot divide by zero\"\n",
    "    return a/b\n",
    "def mod(a, b):\n",
    "    if b == 0:\n",
    "        return \"not allowed\"\n",
    "    return a%b \n",
    "\n",
    "def calc():\n",
    "    \n",
    "    while True:    \n",
    "        print(\"\\n1 : Addition\")\n",
    "        print(\"2 : Substraction\")\n",
    "        print(\"3 : Multiplication\")\n",
    "        print(\"4 : Division\")\n",
    "        print(\"5 : Modulus\")\n",
    "        print(\"6 : Exit\")\n",
    "      \n",
    "        user_choice = input(\"\\nEnter choice : \")\n",
    "        if user_choice >str(6):\n",
    "            print(\"invalid choice\")\n",
    "        \n",
    "        if user_choice == '1':\n",
    "            print(\"Addition is \", add(a, b))\n",
    "        elif user_choice == '2':\n",
    "            print(\"Substraction is \", sub(a, b))\n",
    "        elif user_choice == '3':\n",
    "            print(\"Multiplication is \", mul(a, b))\n",
    "        elif user_choice == '4':\n",
    "            print(\"Division is : \", div(a, b))\n",
    "        elif user_choice == '5':\n",
    "            print(\"Modulus is : \", mod(a, b))\n",
    "        else:\n",
    "            if user_choice =='6':\n",
    "                print(\"Adios, exiting\")\n",
    "                break\n",
    "a = float(input(\"Enter first number\"))\n",
    "b = float(input(\"Enter second number\"))            \n",
    "calc()            "
   ]
  },
  {
   "cell_type": "code",
   "execution_count": 9,
   "id": "d39f5475-2d59-4ee3-857e-479260defd32",
   "metadata": {},
   "outputs": [
    {
     "name": "stdin",
     "output_type": "stream",
     "text": [
      "Enter number here :  3\n"
     ]
    },
    {
     "name": "stdout",
     "output_type": "stream",
     "text": [
      "the factorial of number is 6\n"
     ]
    }
   ],
   "source": [
    "#factorial\n",
    "def fact(n):\n",
    "    if n<0:\n",
    "        return \"Negative numbers not allowed\"\n",
    "    elif n==0 or n==1:\n",
    "        return 1\n",
    "    else:\n",
    "        result = 1\n",
    "        for i in range(2, n+1):\n",
    "            result *= i \n",
    "        return result  \n",
    "n = int(input(\"Enter number here : \"))\n",
    "print(f\"the factorial of number is {fact(n)}\")        "
   ]
  },
  {
   "cell_type": "code",
   "execution_count": 21,
   "id": "a5c899b6-811b-449a-99fe-7a4daace1892",
   "metadata": {},
   "outputs": [
    {
     "name": "stdin",
     "output_type": "stream",
     "text": [
      "Enter username :  sad\n",
      "Enter Password :  das\n"
     ]
    },
    {
     "name": "stdout",
     "output_type": "stream",
     "text": [
      "Wrong credentials\n"
     ]
    },
    {
     "data": {
      "text/plain": [
       "False"
      ]
     },
     "execution_count": 21,
     "metadata": {},
     "output_type": "execute_result"
    }
   ],
   "source": [
    "#LOGIN PROGRAM\n",
    "username = input(\"Enter username : \")\n",
    "password = input(\"Enter Password : \")\n",
    "\n",
    "def login(u, p):\n",
    "    if username == \"admin\" and password == \"admin@123\":\n",
    "        print(\"Login Success\")\n",
    "        return True\n",
    "    else:\n",
    "        print(\"Wrong credentials!!!\")\n",
    "        return False\n",
    "\n",
    "login(username, password)        "
   ]
  },
  {
   "cell_type": "code",
   "execution_count": null,
   "id": "03ff1796-227f-43b7-8a31-36559467350b",
   "metadata": {},
   "outputs": [],
   "source": []
  }
 ],
 "metadata": {
  "kernelspec": {
   "display_name": "Python [conda env:base] *",
   "language": "python",
   "name": "conda-base-py"
  },
  "language_info": {
   "codemirror_mode": {
    "name": "ipython",
    "version": 3
   },
   "file_extension": ".py",
   "mimetype": "text/x-python",
   "name": "python",
   "nbconvert_exporter": "python",
   "pygments_lexer": "ipython3",
   "version": "3.12.7"
  }
 },
 "nbformat": 4,
 "nbformat_minor": 5
}
