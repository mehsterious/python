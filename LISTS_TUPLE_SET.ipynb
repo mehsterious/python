{
 "cells": [
  {
   "cell_type": "code",
   "execution_count": 40,
   "id": "1ea8bba5-3a1b-4517-94d6-7966ea7595c1",
   "metadata": {},
   "outputs": [
    {
     "name": "stdout",
     "output_type": "stream",
     "text": [
      "4\n",
      "Bruce\n",
      " Length of the list is : 17\n",
      " This sorts the list in default ascending order : [12, 23, 32.3, 34, 34, 45, 765]\n",
      " This sorts the list in default decending order : [765, 45, 34, 34, 32.3, 23, 12]\n",
      "Appends the value 10 at the end [15, 6, 100, 2545, 34.56, 12.56, 'Selina', 73, 5845, 65, 10, 21, 10, 10, 354, 'Bruce', 12.23, 10]\n",
      "Removes the value 2545 [15, 6, 100, 34.56, 12.56, 'Selina', 73, 5845, 65, 10, 21, 10, 10, 354, 'Bruce', 12.23, 10]\n",
      "Joins both the list together [15, 6, 100, 34.56, 12.56, 'Selina', 73, 5845, 65, 10, 21, 10, 10, 354, 'Bruce', 12.23, 10, 765, 45, 34, 34, 32.3, 23, 12]\n",
      "gives the index of name selina :  5\n",
      "removes a specific element based on index value  32.3 [765, 45, 34, 34, 23, 12]\n",
      "Insert a values based on index None [15, 6, 100, 7, 34.56, 12.56, 'Selina', 73, 5845, 65, 10, 21, 10, 10, 354, 'Bruce', 12.23, 10, 765, 45, 34, 34, 32.3, 23, 12]\n",
      "15\n",
      "6\n",
      "100\n",
      "7\n",
      "34.56\n",
      "12.56\n",
      "Selina\n",
      "73\n",
      "5845\n",
      "65\n",
      "10\n",
      "21\n",
      "10\n",
      "10\n",
      "354\n",
      "Bruce\n",
      "12.23\n",
      "10\n",
      "765\n",
      "45\n",
      "34\n",
      "34\n",
      "32.3\n",
      "23\n",
      "12\n"
     ]
    }
   ],
   "source": [
    "l1 = [15,6,100,2545,34.56,12.56,\"Selina\",73,5845,65,10,21,10,10,354,\"Bruce\", 12.23]\n",
    "l2 = [12,32.3,23,34,765,45,34]\n",
    "l3 = [12,56,76,8,\"Bruce\", 98]\n",
    "print(l3.index(\"Bruce\"))\n",
    "print(l3[4][0:5])\n",
    "print(f\" Length of the list is : {len(l1)}\")\n",
    "l2.sort()\n",
    "print(f\" This sorts the list in default ascending order : {l2}\")\n",
    "l2.reverse()\n",
    "print(f\" This sorts the list in default decending order : {l2}\")\n",
    "l1.append(10)\n",
    "print(\"Appends the value 10 at the end\",l1)\n",
    "l1.remove(2545)\n",
    "print(\"Removes the value 2545\",l1)\n",
    "l1.extend(l2)\n",
    "print(\"Joins both the list together\", l1)\n",
    "print(\"gives the index of name selina : \", l1.index(\"Selina\"))\n",
    "print(\"removes a specific element based on index value \", l2.pop(4) , l2)\n",
    "print(\"Insert a values based on index\" , l1.insert(3,7), l1)\n",
    "for i in l1:\n",
    "    print(i)"
   ]
  },
  {
   "cell_type": "code",
   "execution_count": 56,
   "id": "356f2474-8c08-4828-b835-2465482e446b",
   "metadata": {},
   "outputs": [
    {
     "name": "stdout",
     "output_type": "stream",
     "text": [
      "[1, 2, 34, 5, 3, 7]\n",
      "Sorted elements [1, 2, 3, 5, 7, 34]\n"
     ]
    }
   ],
   "source": [
    "#WAP to remove to find duplicates elements in list, and sort them.\n",
    "l1 = [1,2,34,5,3,2,1,2,3,7]\n",
    "temp=[] \n",
    "for i in l1:\n",
    "    if i not in temp:\n",
    "        temp.append(i)\n",
    "print(temp)        \n",
    "\n",
    "temp.sort()\n",
    "print(\"Sorted elements\", temp)"
   ]
  },
  {
   "cell_type": "code",
   "execution_count": 57,
   "id": "2ec68756-27b1-4eea-8e6d-8640928aa7da",
   "metadata": {},
   "outputs": [
    {
     "name": "stdout",
     "output_type": "stream",
     "text": [
      "Largest number is 93\n"
     ]
    }
   ],
   "source": [
    "#Write a Python program to get the largest number from a list.\n",
    "l1=[12,34,65,87,90,43,93,2]\n",
    "temp = l1[0]\n",
    "for i in l1:\n",
    "    if i > temp:\n",
    "        temp = i\n",
    "print(\"Largest number is\",temp)    \n",
    "    "
   ]
  },
  {
   "cell_type": "code",
   "execution_count": 59,
   "id": "dfd77a6e-01cd-4545-b41b-3f38e38bd6a2",
   "metadata": {},
   "outputs": [
    {
     "name": "stdout",
     "output_type": "stream",
     "text": [
      "['Green', 'White', 'Black']\n"
     ]
    }
   ],
   "source": [
    "''' Sample List : ['Red', 'Green', 'White', 'Black', 'Pink', 'Yellow']\n",
    "    Expected Output : ['Green', 'White', 'Black']'''\n",
    "s1 = ['Red', 'Green', 'White', 'Black', 'Pink', 'Yellow']\n",
    "print(s1[1:4])\n"
   ]
  },
  {
   "cell_type": "code",
   "execution_count": 78,
   "id": "3fd60cfd-f64d-433a-bf05-5e70a3a42d78",
   "metadata": {},
   "outputs": [
    {
     "name": "stdout",
     "output_type": "stream",
     "text": [
      "[10, 7, 66, 55, 88, 99, 34, 33]\n"
     ]
    }
   ],
   "source": [
    "#WAP to create a list such that new list contains alternate even and odd from given list\n",
    "l1 = [10, 7, 55, 66, 99, 88, 33, 34]\n",
    "evens =[]\n",
    "odds = []\n",
    "temp = []\n",
    "def even():\n",
    "    for i in l1:\n",
    "        if i%2==0:\n",
    "            evens.append(i)\n",
    "\n",
    "def odd():\n",
    "    for i in l1:\n",
    "        if i%2!=0:\n",
    "            odds.append(i)\n",
    "\n",
    "for e, o in zip(evens, odds):\n",
    "    temp.append(e)\n",
    "    temp.append(o)\n",
    "print(temp)    "
   ]
  },
  {
   "cell_type": "code",
   "execution_count": 84,
   "id": "67be3f2c-a18b-4beb-82bd-05576f9fc717",
   "metadata": {},
   "outputs": [
    {
     "name": "stdout",
     "output_type": "stream",
     "text": [
      "Black\n"
     ]
    }
   ],
   "source": [
    "#Write a Python program to find the list of words that are longer than given words\n",
    "l1 =  ['Red', 'Green', 'White', 'Black', 'Pink', 'Yellow']\n",
    "lenght = min(l1)\n",
    "#for i in l1:\n",
    "print(lenght)"
   ]
  },
  {
   "cell_type": "code",
   "execution_count": 7,
   "id": "353fddc5-9003-48e4-ae97-c09ad7ce21bb",
   "metadata": {},
   "outputs": [
    {
     "name": "stdout",
     "output_type": "stream",
     "text": [
      "[4, 5, 3, 87, 6, 89, 70]\n",
      "[3, 4, 5, 6, 70, 87, 89]\n"
     ]
    }
   ],
   "source": [
    "#LIST COMPREHENSION\n",
    "l1 = [4, 5, 3, 87, 6, 89, 70]\n",
    "l1 = [i for i in l1] \n",
    "print(l1)\n",
    "\n",
    "l2 = [i for i in sorted(l1)]\n",
    "print(l2)"
   ]
  },
  {
   "cell_type": "code",
   "execution_count": 19,
   "id": "4274a8c0-2b5a-4ca6-857e-3756859e816b",
   "metadata": {},
   "outputs": [
    {
     "name": "stdout",
     "output_type": "stream",
     "text": [
      "['Pass', 'Pass', 'Pass', 'Fail', 'Pass', 'Pass', 'Pass']\n",
      "['Odd', 'Even', 'Even', 'Odd', 'Odd', 'Odd', 'Even']\n",
      "7\n",
      "[23, 45, 56, 67, 78, 89, 90]\n",
      "23\n",
      "90\n"
     ]
    }
   ],
   "source": [
    "s1 = [45, 56, 78,23 ,67, 89, 90]\n",
    "s2 = ['Pass' if i > 40 else 'Fail' for i in s1]\n",
    "print(s2)\n",
    "\n",
    "s3 = ['Even' if i%2 == 0 else 'Odd' for i in s1]\n",
    "print(s3)\n",
    "print(len(s1))\n",
    "print(sorted(s1))\n",
    "print(min(s1))\n",
    "print(max(s1))"
   ]
  },
  {
   "cell_type": "code",
   "execution_count": 66,
   "id": "4f71b9bd-34e8-47e6-bbff-1bb9068c1d23",
   "metadata": {},
   "outputs": [
    {
     "name": "stdout",
     "output_type": "stream",
     "text": [
      "Length of Tuple 8\n",
      "Tuple with different data types (90, 89, 65, 4, 5, 6, 'bruce', 'Selina')\n",
      "Conversion to list :  [34, 56, 89, 78, 77, 65]\n",
      "Converting back and fourth from tuple-list(append value 69)(remove value 77)-tuple (34, 56, 89, 78, 65, 69)\n",
      "Reverse a tuple :  (69, 65, 78, 89, 56, 34)\n",
      "[34, 56, 89, 65, 69]\n",
      "Slicing a tuple :  [34, 56, 89]\n"
     ]
    }
   ],
   "source": [
    "#Create tuple and with diffrent data types\n",
    "t1 = (90, 89, 65, 4, 5, 6, 'bruce', 'Selina')\n",
    "t2 = (34, 56, 89, 78, 77, 65)\n",
    "#sum_t = sum(t2)\n",
    "#print(\"Sum of tuple : \", sum_t)\n",
    "#print( \"Sorted order \",sorted(t1))\n",
    "print(\"Length of Tuple\", len(t1))\n",
    "print(\"Tuple with different data types\", t1)\n",
    "#print(\"Max and Min\", max(t1), min(t1))\n",
    "l1 = list(t2)\n",
    "print(\"Conversion to list : \", l1)\n",
    "l1.append(69)\n",
    "l1.remove(77)\n",
    "t2 = tuple(l1)\n",
    "print(\"Converting back and fourth from tuple-list(append value 69)(remove value 77)-tuple\",t2)\n",
    "print(\"Reverse a tuple : \", t2[::-1])\n",
    "to_remove = 78\n",
    "t3 = [i for i in t2 if i!= to_remove]\n",
    "print(t3)\n",
    "print(\"Slicing a tuple : \", t3[0:3])"
   ]
  },
  {
   "cell_type": "code",
   "execution_count": 69,
   "id": "f7f86d63-e6a5-4251-87a9-4418f5ba9382",
   "metadata": {},
   "outputs": [
    {
     "name": "stdout",
     "output_type": "stream",
     "text": [
      "(17, -3)\n",
      "(18, 10)\n",
      "<class 'tuple'>\n",
      "18 10\n"
     ]
    }
   ],
   "source": [
    "#unpacking tuple \n",
    "t1 = (90, 45, 23, 56, 78, 89, 90)\n",
    "def calc(a, b):\n",
    "    c = a+b\n",
    "    d = a-b\n",
    "    return c, d\n",
    "print(calc(7, 10))   \n",
    "\n",
    "result = calc(14, 4)\n",
    "print(result)\n",
    "print (type(result))\n",
    "\n",
    "sum, sub= result #unpacking, direct refrencing\n",
    "print(sum, sub)"
   ]
  },
  {
   "cell_type": "code",
   "execution_count": 70,
   "id": "fed8c12f-c17f-440b-8b46-13f391a4393a",
   "metadata": {},
   "outputs": [
    {
     "name": "stdout",
     "output_type": "stream",
     "text": [
      "399\n"
     ]
    }
   ],
   "source": [
    "from builtins import sum\n",
    "t = (34, 56, 89, 78, 77, 65)\n",
    "total = sum(t)\n",
    "print(total)"
   ]
  },
  {
   "cell_type": "code",
   "execution_count": 92,
   "id": "a2a6a171-c0c7-430e-a2b0-5ed5e992fb4f",
   "metadata": {},
   "outputs": [
    {
     "name": "stdout",
     "output_type": "stream",
     "text": [
      "{3, 4, 5, 6, 7, 43, 12, 'bruce'}\n",
      "{3, 4, 5, 6, 7, 43, 12, 'Selina', 'bruce'}\n",
      "{3, 4, 5, 6, 7, 67, 43, 12, 45, 'Selina', 'bruce', 23}\n",
      "{3, 4, 5, 6, 7, 67, 43, 12, 45, 'bruce', 23}\n",
      "{3, 4, 5, 6, 7, 67, 43, 12, 45, 23}\n",
      "{3, 4, 5, 6, 7, 67, 43, 12, 45, 'Alfred', 23}\n",
      "[32, 1, 2, 3.21, 3, 'Bruce', 43, 21]\n",
      "Print the len of the set i.e :  8\n"
     ]
    }
   ],
   "source": [
    "# S E T  IN PYTHON\n",
    "s1 ={12, 43, 43, 12 ,4, 5, 7, 3 ,4, 5,6,7,7,7 ,\"bruce\", \"bruce\"}\n",
    "l1 = [1,2,3,3.21,21,21,21,32,43,32, \"Bruce\", \"Bruce\"]\n",
    "print(s1)\n",
    "s1.add(\"Selina\")\n",
    "print(s1)\n",
    "s2=s1\n",
    "s2.update([23, 45, 67])\n",
    "print(s2)\n",
    "s2.discard(\"Selina\")\n",
    "print(s2)\n",
    "s2.remove(\"bruce\")\n",
    "print(s2)\n",
    "sorted(s2)\n",
    "s2.add(\"Alfred\")\n",
    "print(s2)\n",
    "s3 = set(l1)\n",
    "l3 = list(s3)\n",
    "print(l3)\n",
    "print(\"Print the len of the set i.e : \",len(s3))"
   ]
  },
  {
   "cell_type": "code",
   "execution_count": null,
   "id": "c3a1fe57-e0bf-4e21-83dd-29604894e463",
   "metadata": {},
   "outputs": [],
   "source": []
  }
 ],
 "metadata": {
  "kernelspec": {
   "display_name": "Python [conda env:base] *",
   "language": "python",
   "name": "conda-base-py"
  },
  "language_info": {
   "codemirror_mode": {
    "name": "ipython",
    "version": 3
   },
   "file_extension": ".py",
   "mimetype": "text/x-python",
   "name": "python",
   "nbconvert_exporter": "python",
   "pygments_lexer": "ipython3",
   "version": "3.12.7"
  }
 },
 "nbformat": 4,
 "nbformat_minor": 5
}
