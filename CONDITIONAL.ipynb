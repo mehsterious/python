{
 "cells": [
  {
   "cell_type": "code",
   "execution_count": 8,
   "id": "277015c1-3f7b-4d2a-a004-7a88531889c4",
   "metadata": {
    "collapsed": true,
    "jupyter": {
     "outputs_hidden": true
    }
   },
   "outputs": [
    {
     "name": "stdout",
     "output_type": "stream",
     "text": [
      "0\n",
      "1\n",
      "2\n",
      "3\n",
      "4\n",
      "5\n",
      "6\n",
      "7\n",
      "8\n",
      "9\n",
      "10\n"
     ]
    }
   ],
   "source": [
    "for i in range(11):\n",
    "    print(i)\n",
    "    "
   ]
  },
  {
   "cell_type": "code",
   "execution_count": 10,
   "id": "20ce42b1-46db-4425-b088-1dce62b0bd0d",
   "metadata": {
    "collapsed": true,
    "jupyter": {
     "outputs_hidden": true
    }
   },
   "outputs": [
    {
     "name": "stdout",
     "output_type": "stream",
     "text": [
      "0\n",
      "2\n",
      "4\n",
      "6\n",
      "8\n",
      "10\n",
      "12\n",
      "14\n",
      "16\n",
      "18\n"
     ]
    }
   ],
   "source": [
    "for i in range(0, 20, 2):\n",
    "    print(i)"
   ]
  },
  {
   "cell_type": "code",
   "execution_count": 13,
   "id": "68d066e7-6cf3-433c-9b06-baa0f32102bb",
   "metadata": {},
   "outputs": [
    {
     "name": "stdout",
     "output_type": "stream",
     "text": [
      "20\n",
      "16\n",
      "12\n",
      "8\n",
      "4\n"
     ]
    }
   ],
   "source": [
    "for i in range(20, 0, -4):\n",
    "        print(i)"
   ]
  },
  {
   "cell_type": "code",
   "execution_count": 18,
   "id": "9a67c99d-2a02-40fd-bb0e-9941a8a254f4",
   "metadata": {},
   "outputs": [
    {
     "name": "stdout",
     "output_type": "stream",
     "text": [
      "3\n",
      "6\n",
      "9\n",
      "12\n",
      "15\n",
      "18\n"
     ]
    }
   ],
   "source": [
    "for i in range(1, 21):\n",
    "    if i % 3 == 0:\n",
    "        print(i)\n"
   ]
  },
  {
   "cell_type": "code",
   "execution_count": null,
   "id": "5c29d0bf-81ca-403a-beec-4ffd0e3035b4",
   "metadata": {},
   "outputs": [],
   "source": [
    "#PRINTITNG AGE \n",
    "age = int(input(\"Enter age here : \"))\n",
    "if age >=18:\n",
    "    print(\"Valid age\")\n",
    "else:\n",
    "    print(\"Not a valid age\")"
   ]
  },
  {
   "cell_type": "code",
   "execution_count": 3,
   "id": "7d401c4e-bef9-455f-93b7-1067f5da4cc0",
   "metadata": {},
   "outputs": [
    {
     "name": "stdin",
     "output_type": "stream",
     "text": [
      "Enter the number here :  -7\n"
     ]
    },
    {
     "name": "stdout",
     "output_type": "stream",
     "text": [
      "Number is negative\n"
     ]
    }
   ],
   "source": [
    "#POSITIVE AND NEGATIVE NUMBER\n",
    "num = int(input(\"Enter the number here : \"))\n",
    "if num >=0:\n",
    "    print(\"number is positive\")\n",
    "else:\n",
    "    print(\"Number is negative\")"
   ]
  },
  {
   "cell_type": "code",
   "execution_count": 9,
   "id": "f0da7767-c37a-4ded-810a-b9e70d096798",
   "metadata": {},
   "outputs": [
    {
     "name": "stdin",
     "output_type": "stream",
     "text": [
      "Enter your number here :  7\n"
     ]
    },
    {
     "name": "stdout",
     "output_type": "stream",
     "text": [
      "Number is Odd\n"
     ]
    }
   ],
   "source": [
    "#ODD EVEN LOGIC\n",
    "num = int(input(\"Enter your number here : \"))\n",
    "if num%2 ==0:\n",
    "    print(\"Number is Even\")\n",
    "else:\n",
    "    print(\"Number is Odd\")"
   ]
  },
  {
   "cell_type": "code",
   "execution_count": 13,
   "id": "89c14136-e78a-4a32-833b-e5cbb5fa0284",
   "metadata": {},
   "outputs": [
    {
     "name": "stdin",
     "output_type": "stream",
     "text": [
      "Enter the number here :  -0\n"
     ]
    },
    {
     "name": "stdout",
     "output_type": "stream",
     "text": [
      "Number is zero\n"
     ]
    }
   ],
   "source": [
    "#ELIF CONDITIONAL STATEMENT\n",
    "num = int(input(\"Enter the number here : \"))\n",
    "if num >0:\n",
    "    print(\"number is positive\")\n",
    "elif num <0:\n",
    "    print(\"Number is negative\")\n",
    "else:\n",
    "    print(\"Number is zero\")"
   ]
  },
  {
   "cell_type": "code",
   "execution_count": 23,
   "id": "0bed52f9-7a2f-4fe1-b5ec-de25964afa68",
   "metadata": {},
   "outputs": [
    {
     "name": "stdin",
     "output_type": "stream",
     "text": [
      "Enter percentage here :  36\n"
     ]
    },
    {
     "name": "stdout",
     "output_type": "stream",
     "text": [
      "FAIL!!!\n"
     ]
    }
   ],
   "source": [
    "#ELIF CONDITIONAL STATEMENT\n",
    "per = float(input(\"Enter percentage here : \"))\n",
    "if per>=80:\n",
    "    print(\"Grade A+\")\n",
    "elif per <80 and per>=75:\n",
    "    print(\"Grade A\")\n",
    "elif per <75 and per >=50:\n",
    "    print(\"Grade B\")\n",
    "elif per <50 and per>=40:\n",
    "    print(\"Grade C\")\n",
    "else:\n",
    "    print(\"FAIL!!!\")"
   ]
  },
  {
   "cell_type": "code",
   "execution_count": 27,
   "id": "c47e73ee-7147-4718-a1ba-629de3ab8b5a",
   "metadata": {},
   "outputs": [
    {
     "name": "stdin",
     "output_type": "stream",
     "text": [
      "Enter number here: 44\n"
     ]
    },
    {
     "name": "stdout",
     "output_type": "stream",
     "text": [
      "Number is vallid (>10)\n",
      "Number is even\n"
     ]
    }
   ],
   "source": [
    "#MULTIPLE IF'S\n",
    "num = int(input(\"Enter number here:\" ))\n",
    "if num > 10:\n",
    "    print(\"Number is vallid (>10)\")\n",
    "if num %2 ==0: \n",
    "    print(\"Number is even\")                \n",
    "if num < 0:\n",
    "    print(\"Number is negative\")            "
   ]
  },
  {
   "cell_type": "code",
   "execution_count": 33,
   "id": "4fd34b53-eeca-457c-a606-8d234903c5a7",
   "metadata": {},
   "outputs": [
    {
     "name": "stdout",
     "output_type": "stream",
     "text": [
      "n3 =  100\n"
     ]
    }
   ],
   "source": [
    "#NESTED IF elif\n",
    "n1 = 80\n",
    "n2 = 44\n",
    "n3 = 100\n",
    "if n1>n2:\n",
    "    if n1 > n3:\n",
    "        print(\"n1 = \",n1)\n",
    "    else:\n",
    "        print(\"n3 = \",n3)\n",
    "elif n2>n1:\n",
    "    if n2 > n3:\n",
    "        print(\"n2 = \", n2)\n",
    "    else:\n",
    "        print(\"n3 = \", n3)\n",
    "else:\n",
    "    print(\"n3 = \" ,n3)"
   ]
  },
  {
   "cell_type": "code",
   "execution_count": 36,
   "id": "1f440006-7cd0-421a-9879-ce3fa2c71c75",
   "metadata": {},
   "outputs": [
    {
     "name": "stdin",
     "output_type": "stream",
     "text": [
      "Enter the number :  4\n"
     ]
    },
    {
     "name": "stdout",
     "output_type": "stream",
     "text": [
      "Not divisible by 5\n"
     ]
    }
   ],
   "source": [
    "# NUMBER DIVISIBLE BY 5 OR NOT\n",
    "num = int(input(\"Enter the number : \"))\n",
    "if num % 5 == 0 :\n",
    "    print(\"Number divisible by 5\")\n",
    "else:\n",
    "    print(\"Not divisible by 5\")"
   ]
  },
  {
   "cell_type": "code",
   "execution_count": 66,
   "id": "d9735923-9c00-4ea2-a294-28b0aa7e2524",
   "metadata": {},
   "outputs": [
    {
     "name": "stdin",
     "output_type": "stream",
     "text": [
      "Enter price here :  90000\n"
     ]
    },
    {
     "name": "stdout",
     "output_type": "stream",
     "text": [
      "15% tax is 13500.0 and total price be 103500.0\n"
     ]
    }
   ],
   "source": [
    "#ROAD TAX CALCULATOR\n",
    "price = float(input(\"Enter price here : \"))\n",
    "if price > 80000:\n",
    "    tax = price *0.15\n",
    "    total = price+tax\n",
    "    print(f\"15% tax is {tax} and total price be {total}\")\n",
    "elif price >= 40000 and price<=80000:\n",
    "    tax = price *0.10\n",
    "    total = price+tax\n",
    "    print(f\"10% tax is {tax} and total price be {total}\")\n",
    "else:\n",
    "    tax = price *0.05\n",
    "    total = price+tax\n",
    "    print(f\"5% tax is {tax} and total price be {total}\")"
   ]
  },
  {
   "cell_type": "code",
   "execution_count": 56,
   "id": "66983777-47c1-4dbb-b68e-0c9bcb7926d8",
   "metadata": {},
   "outputs": [
    {
     "name": "stdin",
     "output_type": "stream",
     "text": [
      "Enter Number here :  8\n"
     ]
    },
    {
     "name": "stdout",
     "output_type": "stream",
     "text": [
      "Invalid_number, Enter again\n"
     ]
    },
    {
     "name": "stdin",
     "output_type": "stream",
     "text": [
      "Enter Number here :  78\n"
     ]
    },
    {
     "name": "stdout",
     "output_type": "stream",
     "text": [
      "Invalid_number, Enter again\n"
     ]
    },
    {
     "name": "stdin",
     "output_type": "stream",
     "text": [
      "Enter Number here :  4\n"
     ]
    },
    {
     "name": "stdout",
     "output_type": "stream",
     "text": [
      "Thursday\n"
     ]
    }
   ],
   "source": [
    "#DISPLAY WEEK DAYS CORRSPONDING TO NUMBERS using while scondition\n",
    "while True:    \n",
    "    num = int(input(\"Enter Number here : \"))\n",
    "    if num == 1:\n",
    "        print(\"Monday\")\n",
    "        break\n",
    "    elif num == 2:\n",
    "        print(\"Tuesday\")\n",
    "        break\n",
    "    elif num == 3:\n",
    "        print(\"Wednesday\")\n",
    "        break\n",
    "    elif num == 4:\n",
    "        print(\"Thursday\")\n",
    "        break\n",
    "    elif num == 5:\n",
    "        print(\"Friday\")\n",
    "        break\n",
    "    elif num == 6:\n",
    "        print(\"saturday\")\n",
    "        break\n",
    "    elif num == 7:\n",
    "        print(\"Sunday\")\n",
    "        break\n",
    "    else :\n",
    "        print(\"Invalid_number, Enter again\")"
   ]
  },
  {
   "cell_type": "code",
   "execution_count": 79,
   "id": "1eced111-e667-4399-8f48-b36d609b4065",
   "metadata": {},
   "outputs": [
    {
     "name": "stdin",
     "output_type": "stream",
     "text": [
      "Enter units here :  400\n"
     ]
    },
    {
     "name": "stdout",
     "output_type": "stream",
     "text": [
      " bill is :  445.0\n",
      "surcharge =  89.0\n",
      "Final amount 534.0\n"
     ]
    }
   ],
   "source": [
    "#ELECTRICITY BILL CONSUMPTION\n",
    "units = float(input(\"Enter units here : \"))\n",
    "bill = 0\n",
    "if units <=50:\n",
    "    bill = units*0.50\n",
    "    print(f\" amount is {bill}\")\n",
    "elif units >50 and units <=150:\n",
    "    bill = (50*0.50)+((units-50)*0.75)\n",
    "    print(f\" bill is {bill}\")\n",
    "elif units >150 and units <250:\n",
    "    bill = (50*0.50)+(100*0.75)+((units-150)*1.20)\n",
    "    print(f\" bill is {bill}\")\n",
    "else:\n",
    "    bill = (50*0.50)+(100*0.75)+(100*1.20)+((units-250)*1.50)\n",
    "    print(f\" bill is : \", bill)\n",
    "surcharge = bill*0.20\n",
    "print(\"surcharge = \", surcharge)\n",
    "total_bill = surcharge +bill\n",
    "print(\"Final amount\",total_bill)\n",
    "    "
   ]
  },
  {
   "cell_type": "code",
   "execution_count": 87,
   "id": "968aa8a8-2bcc-4008-ad3f-52f5b2f1229d",
   "metadata": {},
   "outputs": [
    {
     "name": "stdin",
     "output_type": "stream",
     "text": [
      "Enter first number:  5\n",
      "Enter second number:  5\n"
     ]
    },
    {
     "name": "stdout",
     "output_type": "stream",
     "text": [
      "\n",
      "Choose operation:\n",
      "1. Add\n",
      "2. Subtract\n",
      "3. Multiply\n",
      "4. Divide\n",
      "5. Floor Division\n",
      "6. Exponentiation\n"
     ]
    },
    {
     "name": "stdin",
     "output_type": "stream",
     "text": [
      "Enter your choice (1-6):  5\n"
     ]
    },
    {
     "name": "stdout",
     "output_type": "stream",
     "text": [
      "Result: 5.0 // 5.0 = 1.0\n"
     ]
    }
   ],
   "source": [
    "# MENU DRIVEN CALCULATOR \n",
    "num1 = float(input(\"Enter first number: \"))\n",
    "num2 = float(input(\"Enter second number: \"))\n",
    "while True:\n",
    "    print(\"\\nChoose operation:\")\n",
    "    print(\"1. Add\")\n",
    "    print(\"2. Subtract\")\n",
    "    print(\"3. Multiply\")\n",
    "    print(\"4. Divide\")\n",
    "    print(\"5. Floor Division\")\n",
    "    print(\"6. Exponentiation\")\n",
    "\n",
    "    choice = int(input(\"Enter your choice (1-6): \"))\n",
    "\n",
    "    if choice == 1:\n",
    "        result = num1 + num2\n",
    "        print(f\"Result: {num1} + {num2} = {result}\")\n",
    "        break\n",
    "    elif choice == 2:\n",
    "        result = num1 - num2\n",
    "        print(f\"Result: {num1} - {num2} = {result}\")\n",
    "        break\n",
    "    elif choice == 3:\n",
    "        result = num1 * num2\n",
    "        print(f\"Result: {num1} * {num2} = {result}\")\n",
    "        break\n",
    "    elif choice == 4:\n",
    "        if num2 != 0:\n",
    "            result = num1 / num2\n",
    "            print(f\"Result: {num1} / {num2} = {result}\")\n",
    "        else:\n",
    "            print(\"Error: Division by zero!\")\n",
    "        break\n",
    "    elif choice == 5:\n",
    "        if num2 != 0:\n",
    "            result = num1 // num2\n",
    "            print(f\"Result: {num1} // {num2} = {result}\")\n",
    "        else:\n",
    "            print(\"Error: Division by zero!\")\n",
    "        break\n",
    "    elif choice == 6:\n",
    "        result = num1 ** num2\n",
    "        print(f\"Result: {num1} ^ {num2} = {result}\")\n",
    "        break\n",
    "    else:\n",
    "        print(\"❌ Invalid choice! Please enter a number between 1 and 6.\")"
   ]
  },
  {
   "cell_type": "code",
   "execution_count": null,
   "id": "df9f747d-9b21-4148-8f06-9077323ae726",
   "metadata": {},
   "outputs": [
    {
     "name": "stdin",
     "output_type": "stream",
     "text": [
      "Enter first number :  5\n",
      "Enter second number :  5\n"
     ]
    },
    {
     "name": "stdout",
     "output_type": "stream",
     "text": [
      "1 : Addition\n",
      "2 : Substraction\n",
      "3 : Multiplication\n"
     ]
    },
    {
     "name": "stdin",
     "output_type": "stream",
     "text": [
      "Enter your choice (1-3):  1\n"
     ]
    },
    {
     "name": "stdout",
     "output_type": "stream",
     "text": [
      "Addition is 10\n"
     ]
    },
    {
     "name": "stdin",
     "output_type": "stream",
     "text": [
      "Enter first number :  6\n",
      "Enter second number :  6\n"
     ]
    },
    {
     "name": "stdout",
     "output_type": "stream",
     "text": [
      "1 : Addition\n",
      "2 : Substraction\n",
      "3 : Multiplication\n"
     ]
    },
    {
     "name": "stdin",
     "output_type": "stream",
     "text": [
      "Enter your choice (1-3):  2\n"
     ]
    },
    {
     "name": "stdout",
     "output_type": "stream",
     "text": [
      "Substraction is  0\n"
     ]
    },
    {
     "name": "stdin",
     "output_type": "stream",
     "text": [
      "Enter first number :  4\n",
      "Enter second number :  4\n"
     ]
    },
    {
     "name": "stdout",
     "output_type": "stream",
     "text": [
      "1 : Addition\n",
      "2 : Substraction\n",
      "3 : Multiplication\n"
     ]
    },
    {
     "name": "stdin",
     "output_type": "stream",
     "text": [
      "Enter your choice (1-3):  3\n"
     ]
    },
    {
     "name": "stdout",
     "output_type": "stream",
     "text": [
      "Multiplication is  16\n"
     ]
    }
   ],
   "source": [
    "# MATCH CASE \n",
    "while True:\n",
    "    n1 = int(input(\"Enter first number : \"))\n",
    "    n2 = int(input(\"Enter second number : \"))\n",
    "    print(\"1 : Addition\")\n",
    "    print(\"2 : Substraction\")\n",
    "    print(\"3 : Multiplication\")\n",
    "    \n",
    "    choice  = int(input(\"Enter your choice (1-3): \"))\n",
    "    match choice:\n",
    "        case 1:\n",
    "                print(\"Addition is\" ,n1+n2)\n",
    "        case 2:\n",
    "                print(\"Substraction is \", n1-n2)\n",
    "        case 3:\n",
    "                print(\"Multiplication is \", n1*n2)\n",
    "        case default:\n",
    "                print(\"Invalid selection, choose again\")\n",
    "        "
   ]
  },
  {
   "cell_type": "code",
   "execution_count": null,
   "id": "fc3bb5a7-defa-4a16-a5c5-b3243e60d658",
   "metadata": {},
   "outputs": [],
   "source": []
  }
 ],
 "metadata": {
  "kernelspec": {
   "display_name": "Python [conda env:base] *",
   "language": "python",
   "name": "conda-base-py"
  },
  "language_info": {
   "codemirror_mode": {
    "name": "ipython",
    "version": 3
   },
   "file_extension": ".py",
   "mimetype": "text/x-python",
   "name": "python",
   "nbconvert_exporter": "python",
   "pygments_lexer": "ipython3",
   "version": "3.12.7"
  }
 },
 "nbformat": 4,
 "nbformat_minor": 5
}
