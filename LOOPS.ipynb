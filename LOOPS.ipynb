{
 "cells": [
  {
   "cell_type": "code",
   "execution_count": 1,
   "id": "1f645a89-c958-4e06-9882-d92410864d97",
   "metadata": {},
   "outputs": [
    {
     "name": "stdout",
     "output_type": "stream",
     "text": [
      "Hello!\n",
      "Hello!\n",
      "Hello!\n",
      "Hello!\n",
      "Hello!\n"
     ]
    }
   ],
   "source": [
    "#WHILE\n",
    "i = 1\n",
    "while i<=5:\n",
    "    print(\"Hello!\")\n",
    "    i+=1\n",
    "          "
   ]
  },
  {
   "cell_type": "code",
   "execution_count": 1,
   "id": "ce9c125f-e5b2-420b-a99f-da8bf920cdbb",
   "metadata": {},
   "outputs": [
    {
     "name": "stdout",
     "output_type": "stream",
     "text": [
      "1\n",
      "2\n",
      "3\n",
      "4\n",
      "5\n",
      "6\n",
      "7\n",
      "8\n",
      "9\n",
      "10\n"
     ]
    }
   ],
   "source": [
    "i=1\n",
    "while i<=10:\n",
    "    print(i)\n",
    "    i+=1"
   ]
  },
  {
   "cell_type": "code",
   "execution_count": 2,
   "id": "33a15e1c-ae4b-4b45-9a55-4bb1fd17d8c7",
   "metadata": {},
   "outputs": [
    {
     "name": "stdout",
     "output_type": "stream",
     "text": [
      "20\n",
      "25\n",
      "30\n",
      "35\n",
      "40\n",
      "45\n",
      "50\n"
     ]
    }
   ],
   "source": [
    "#multiple of 5\n",
    "i=20\n",
    "while i<=50:\n",
    "    print(i)\n",
    "    i+=5"
   ]
  },
  {
   "cell_type": "code",
   "execution_count": 9,
   "id": "affad77e-c196-4248-88a4-c9d0d0bc3b72",
   "metadata": {},
   "outputs": [
    {
     "name": "stdout",
     "output_type": "stream",
     "text": [
      "50\n",
      "48\n",
      "46\n",
      "44\n",
      "42\n",
      "40\n",
      "38\n",
      "36\n",
      "34\n",
      "32\n",
      "30\n",
      "28\n",
      "26\n",
      "24\n",
      "22\n",
      "20\n",
      "18\n",
      "16\n",
      "14\n",
      "12\n",
      "10\n",
      "8\n",
      "6\n",
      "4\n",
      "2\n"
     ]
    }
   ],
   "source": [
    "# REVERSE ORDER na and odd number\n",
    "i=50\n",
    "while i>=1:\n",
    "    if i%2==0:\n",
    "        print(i)\n",
    "    i-=1"
   ]
  },
  {
   "cell_type": "code",
   "execution_count": 10,
   "id": "0370aa43-84b4-4d59-bb08-785c1cf73975",
   "metadata": {},
   "outputs": [
    {
     "name": "stdin",
     "output_type": "stream",
     "text": [
      "Enter the number :  456\n"
     ]
    },
    {
     "name": "stdout",
     "output_type": "stream",
     "text": [
      "654\n"
     ]
    }
   ],
   "source": [
    "#reverse a number and store it\n",
    "i = int(input(\"Enter the number : \"))\n",
    "r =0\n",
    "while i>0:\n",
    "    no = i%10\n",
    "    r = r*10+no\n",
    "    i//=10\n",
    "print(r)    "
   ]
  },
  {
   "cell_type": "code",
   "execution_count": 13,
   "id": "c25aacff-c882-4f9c-8d8c-6f14dcd62413",
   "metadata": {},
   "outputs": [
    {
     "name": "stdout",
     "output_type": "stream",
     "text": [
      "130 132 134 136 138 140 142 144 146 148 150 152 154 156 158 160 162 164 166 168 170 172 174 176 178 180 182 184 186 188 190 192 194 196 198 200 202 204 206 208 210 212 214 216 218 220 222 224 226 228 \n",
      "WAP to print odd numbers from 521 to 229 using a while loop.\n",
      "521 519 517 515 513 511 509 507 505 503 501 499 497 495 493 491 489 487 485 483 481 479 477 475 473 471 469 467 465 463 461 459 457 455 453 451 449 447 445 443 441 439 437 435 433 431 429 427 425 423 421 419 417 415 413 411 409 407 405 403 401 399 397 395 393 391 389 387 385 383 381 379 377 375 373 371 369 367 365 363 361 359 357 355 353 351 349 347 345 343 341 339 337 335 333 331 329 327 325 323 321 319 317 315 313 311 309 307 305 303 301 299 297 295 293 291 289 287 285 283 281 279 277 275 273 271 269 267 265 263 261 259 257 255 253 251 249 247 245 243 241 239 237 235 233 231 229 "
     ]
    }
   ],
   "source": [
    "#WAP to print even numbers from 121 to 229 using a for loop.\n",
    "i=129\n",
    "while i<=229:\n",
    "    if i%2==0:\n",
    "        print(i, end = \" \")\n",
    "    i+=1\n",
    "    \n",
    "print(\"\\nWAP to print odd numbers from 521 to 229 using a while loop.\")\n",
    "i=521\n",
    "while i>=229:\n",
    "    if i%2!=0:\n",
    "        print(i, end = \" \")\n",
    "    i-=1    "
   ]
  },
  {
   "cell_type": "code",
   "execution_count": 8,
   "id": "40b9efb8-2694-455d-b041-326a84bcb27e",
   "metadata": {},
   "outputs": [
    {
     "name": "stdout",
     "output_type": "stream",
     "text": [
      "a b c d e f g h i j k l m n o p q r s t u v w x y z "
     ]
    }
   ],
   "source": [
    "#Write a Python program to print all alphabets from a to z  using  for loop\n",
    "i=0\n",
    "for i in range(ord('a'), ord('z')+1):\n",
    "    print(chr(i), end=\" \")\n"
   ]
  },
  {
   "cell_type": "code",
   "execution_count": 25,
   "id": "c6f46ad4-1e9a-40c9-81f8-496b8ac57e91",
   "metadata": {},
   "outputs": [
    {
     "name": "stdin",
     "output_type": "stream",
     "text": [
      "Enter the number :  10\n"
     ]
    },
    {
     "name": "stdout",
     "output_type": "stream",
     "text": [
      "The sum of 1 to 10 even numbers is 30\n"
     ]
    },
    {
     "name": "stdin",
     "output_type": "stream",
     "text": [
      "Enter the number :  10\n"
     ]
    },
    {
     "name": "stdout",
     "output_type": "stream",
     "text": [
      "The sum of 1 to 10 odd numbers is 25\n"
     ]
    }
   ],
   "source": [
    "# Write a Python program to find the sum of all even numbers between 1 to n.\n",
    "\n",
    "n = int(input(\"Enter the number : \"))\n",
    "sum = 0\n",
    "for i in range(1, n+1):\n",
    "    if i%2==0:\n",
    "        sum+=i\n",
    "print(f\"The sum of 1 to {n} even numbers is {sum}\")  \n",
    "\n",
    "#Write a Python program to find the sum of all odd numbers between 1 to n.\n",
    "n = int(input(\"Enter the number : \"))\n",
    "sum = 0\n",
    "for i in range(1, n+1):\n",
    "    if i%2!=0:\n",
    "        sum+=i\n",
    "print(f\"The sum of 1 to {n} odd numbers is {sum}\")  \n",
    "        "
   ]
  },
  {
   "cell_type": "code",
   "execution_count": 31,
   "id": "b9469b88-f8b5-4f1b-aab4-eecb73b70d1c",
   "metadata": {},
   "outputs": [
    {
     "name": "stdin",
     "output_type": "stream",
     "text": [
      "Enter number here : 123456789\n"
     ]
    },
    {
     "name": "stdout",
     "output_type": "stream",
     "text": [
      "9\n"
     ]
    }
   ],
   "source": [
    "#Write a Python program to count number of digits in any number\n",
    "n = int(input(\"Enter number here :\"))\n",
    "n = abs(n)\n",
    "count = 0 \n",
    "while n > 0:\n",
    "    n = n // 10\n",
    "    count+=1\n",
    "print(count)    \n",
    "    \n"
   ]
  },
  {
   "cell_type": "code",
   "execution_count": 35,
   "id": "dbc37956-e000-473d-9988-d34f46a7a3f9",
   "metadata": {},
   "outputs": [
    {
     "name": "stdin",
     "output_type": "stream",
     "text": [
      "enter number to get it's table :  5\n"
     ]
    },
    {
     "name": "stdout",
     "output_type": "stream",
     "text": [
      "5 10 15 20 25 30 35 40 45 50 \n",
      "Squares from 1 to 20:\n",
      "1^2 = 1\n",
      "2^2 = 4\n",
      "3^2 = 9\n",
      "4^2 = 16\n",
      "5^2 = 25\n",
      "6^2 = 36\n",
      "7^2 = 49\n",
      "8^2 = 64\n",
      "9^2 = 81\n",
      "10^2 = 100\n",
      "11^2 = 121\n",
      "12^2 = 144\n",
      "13^2 = 169\n",
      "14^2 = 196\n",
      "15^2 = 225\n",
      "16^2 = 256\n",
      "17^2 = 289\n",
      "18^2 = 324\n",
      "19^2 = 361\n",
      "20^2 = 400\n"
     ]
    }
   ],
   "source": [
    "#WAP to print table of given no\n",
    "n = int(input(\"enter number to get it's table : \"))\n",
    "\n",
    "for i in range(1, 11):\n",
    "    print(f\"{n*i}\", end = \" \")\n",
    "\n",
    "#WAP to print squares from 1 to20\n",
    "# Print squares from 1 to 20\n",
    "print(\"\\nSquares from 1 to 20:\")\n",
    "for i in range(1, 21):\n",
    "    print(f\"{i}^2 = {i*i}\")\n"
   ]
  },
  {
   "cell_type": "code",
   "execution_count": 50,
   "id": "3d68dcb6-dd19-4d64-aec1-e09a664f77c3",
   "metadata": {},
   "outputs": [
    {
     "name": "stdout",
     "output_type": "stream",
     "text": [
      "855\n",
      "Not Armstrong,  number value 0, value 855 and temp value 159\n"
     ]
    }
   ],
   "source": [
    "#ARMSTRONG OR NOT \n",
    "no = temp = 159\n",
    "value = 0\n",
    "while no > 0:\n",
    "    digit = no%10\n",
    "    value+=digit**3\n",
    "    no//=10\n",
    "print(value)    \n",
    "if value == temp:\n",
    "    print(f\"Armstrong, number value {no}, value {value} and temp value {temp}\")\n",
    "else:\n",
    "    print(f\"Not Armstrong,  number value {no}, value {value} and temp value {temp}\")"
   ]
  },
  {
   "cell_type": "code",
   "execution_count": null,
   "id": "99f64b4e-66d2-40af-a626-9a70210ef747",
   "metadata": {},
   "outputs": [],
   "source": []
  },
  {
   "cell_type": "code",
   "execution_count": null,
   "id": "c275eff8-b1af-4db4-b10c-66ab0c47850c",
   "metadata": {},
   "outputs": [],
   "source": []
  },
  {
   "cell_type": "code",
   "execution_count": null,
   "id": "7e886363-29a3-4805-8dc5-a6e9a754ca10",
   "metadata": {},
   "outputs": [],
   "source": []
  },
  {
   "cell_type": "code",
   "execution_count": null,
   "id": "539c0472-59b5-4134-a027-5fed8a2e3e79",
   "metadata": {},
   "outputs": [],
   "source": []
  }
 ],
 "metadata": {
  "kernelspec": {
   "display_name": "Python [conda env:base] *",
   "language": "python",
   "name": "conda-base-py"
  },
  "language_info": {
   "codemirror_mode": {
    "name": "ipython",
    "version": 3
   },
   "file_extension": ".py",
   "mimetype": "text/x-python",
   "name": "python",
   "nbconvert_exporter": "python",
   "pygments_lexer": "ipython3",
   "version": "3.12.7"
  }
 },
 "nbformat": 4,
 "nbformat_minor": 5
}
