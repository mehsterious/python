{
 "cells": [
  {
   "cell_type": "code",
   "execution_count": 2,
   "id": "5da36250-e234-4feb-8c69-df9ca59794c5",
   "metadata": {},
   "outputs": [],
   "source": [
    "import numpy as np\n",
    "#from rich import print"
   ]
  },
  {
   "cell_type": "code",
   "execution_count": 11,
   "id": "b2663ef7-34f0-4da7-a6d3-3fde491fa9c8",
   "metadata": {},
   "outputs": [
    {
     "name": "stdout",
     "output_type": "stream",
     "text": [
      "[ 1 90  8  7  5]\n",
      "(5,)\n",
      "1\n",
      "int32\n",
      "[ 1  5  7  8 90]\n",
      "2.08\n",
      "7.0\n",
      "90\n"
     ]
    }
   ],
   "source": [
    "a1 = np.array([1,90,8,7,5])\n",
    "a2 = np.array([2.3,3.2,1.2,2.2,1.5])\n",
    "print(a1)\n",
    "print(a1.shape)\n",
    "print(a1.ndim)\n",
    "print(a1.dtype)\n",
    "print(np.sort(a1))\n",
    "print(np.mean(a2))\n",
    "print(np.median(a1))\n",
    "print(np.max(a1))"
   ]
  },
  {
   "cell_type": "code",
   "execution_count": 25,
   "id": "647c1667-d98e-4510-985d-ec4dc453d7c4",
   "metadata": {},
   "outputs": [
    {
     "name": "stdout",
     "output_type": "stream",
     "text": [
      "[0. 0. 0. 0. 0. 0. 0. 0. 0. 0.]\n",
      "[1. 1. 1. 1. 1. 1. 1. 1. 1. 1.]\n",
      "[ 0  1  2  3  4  5  6  7  8  9 10]\n",
      "[ -1  -2  -3  -4  -5  -6  -7  -8  -9 -10]\n",
      "[  1.   1.   1. 100.   1.   1.   1.   1.   1.   1.]\n",
      "[  1.   1.   1. 100.]\n",
      "100.0\n",
      "[ 0  2  4  6  8 10 12 14 16 18 20 22 24 26 28 30 32 34 36 38 40 42 44 46\n",
      " 48]\n"
     ]
    }
   ],
   "source": [
    "a1 = np.zeros(10)\n",
    "print(a1)\n",
    "a2 = np.ones(10) #initializer for 1\n",
    "print(a2)\n",
    "a3 = np.arange(0, 11) #setting up a range\n",
    "print(a3)\n",
    "a4 = np.arange(-1, -11, -1) #negative range list\n",
    "print(a4)\n",
    "a2[3] = 100 #assignment\n",
    "print(a2)\n",
    "print(a2[0:4]) #slicing\n",
    "print(a2[3])\n",
    "a5 = np.arange(0, 50, 2)\n",
    "print(a5)"
   ]
  },
  {
   "cell_type": "code",
   "execution_count": 35,
   "id": "d23d1ef9-27b2-4157-88c7-da14f0afe367",
   "metadata": {},
   "outputs": [
    {
     "name": "stdout",
     "output_type": "stream",
     "text": [
      "[0.   0.25 0.5  0.75 1.  ]\n",
      "[[8 4 4]\n",
      " [3 5 5]]\n",
      "[[1. 0. 0.]\n",
      " [0. 1. 0.]\n",
      " [0. 0. 1.]]\n",
      "[[0.30826896 0.41623581 0.92778734]\n",
      " [0.25876711 0.34345909 0.17028273]]\n",
      "[[ 1.51713461e-01  5.71644492e-04  1.21400299e+00]\n",
      " [ 4.53684007e-01 -3.15497100e-01  6.65561827e-01]]\n",
      "[[4 2 0]\n",
      " [3 5 0]]\n",
      "Empty [[ 1.51713461e-01  5.71644492e-04  1.21400299e+00]\n",
      " [ 4.53684007e-01 -3.15497100e-01  6.65561827e-01]]\n",
      "[[7 7 7]\n",
      " [7 7 7]]\n"
     ]
    }
   ],
   "source": [
    "''' ARRAY CREATION'''\n",
    "print(np.linspace(0,1,5))                      # np.linspace(): Create 5 evenly spaced values from 0 to 1\n",
    "print(np.random.randint(0,9,(2,3)))\n",
    "print(np.identity(3))                          # np.identity(): Another 3x3 identity matrix\n",
    "print(np.random.rand(2, 3))                    # np.random.rand(): 2x3 array of uniform random values\n",
    "print(np.random.randn(2, 3))                   # np.random.randn(): 2x3 array of normal random values\n",
    "print(np.random.randint(0, 10, size=(2, 3)))   # np.random.randint(): 2x3 array of random integers from 0 to 9\n",
    "print(\"Empty\",np.empty((2, 3)))                        # np.empty(): Create 2x3 uninitialized array \n",
    "#The contents of the array will be whatever random values already existed in that memory space—so it may look like garbage values.\n",
    "print(np.full((2, 3), 7))                      # np.full(): Create 2x3 array filled with 7"
   ]
  },
  {
   "cell_type": "code",
   "execution_count": null,
   "id": "da6c0d17-a87d-4105-b5f1-5d01b7ef8102",
   "metadata": {},
   "outputs": [],
   "source": []
  },
  {
   "cell_type": "code",
   "execution_count": 62,
   "id": "8b6ea574-dc65-492d-b9fd-2f95898210d9",
   "metadata": {},
   "outputs": [
    {
     "data": {
      "text/html": [
       "<pre style=\"white-space:pre;overflow-x:auto;line-height:normal;font-family:Menlo,'DejaVu Sans Mono',consolas,'Courier New',monospace\">Logarithmic :  <span style=\"font-weight: bold\">[[</span><span style=\"color: #008080; text-decoration-color: #008080; font-weight: bold\">0</span>.         <span style=\"color: #008080; text-decoration-color: #008080; font-weight: bold\">0.69314718</span><span style=\"font-weight: bold\">]</span>\n",
       " <span style=\"font-weight: bold\">[</span><span style=\"color: #008080; text-decoration-color: #008080; font-weight: bold\">1.09861229</span> <span style=\"color: #008080; text-decoration-color: #008080; font-weight: bold\">1.38629436</span><span style=\"font-weight: bold\">]]</span>\n",
       "</pre>\n"
      ],
      "text/plain": [
       "Logarithmic :  \u001b[1m[\u001b[0m\u001b[1m[\u001b[0m\u001b[1;36m0\u001b[0m.         \u001b[1;36m0.69314718\u001b[0m\u001b[1m]\u001b[0m\n",
       " \u001b[1m[\u001b[0m\u001b[1;36m1.09861229\u001b[0m \u001b[1;36m1.38629436\u001b[0m\u001b[1m]\u001b[0m\u001b[1m]\u001b[0m\n"
      ]
     },
     "metadata": {},
     "output_type": "display_data"
    },
    {
     "data": {
      "text/html": [
       "<pre style=\"white-space:pre;overflow-x:auto;line-height:normal;font-family:Menlo,'DejaVu Sans Mono',consolas,'Courier New',monospace\">Addition is :  <span style=\"font-weight: bold\">[[</span> <span style=\"color: #008080; text-decoration-color: #008080; font-weight: bold\">6</span>  <span style=\"color: #008080; text-decoration-color: #008080; font-weight: bold\">8</span><span style=\"font-weight: bold\">]</span>\n",
       " <span style=\"font-weight: bold\">[</span><span style=\"color: #008080; text-decoration-color: #008080; font-weight: bold\">10</span> <span style=\"color: #008080; text-decoration-color: #008080; font-weight: bold\">12</span><span style=\"font-weight: bold\">]]</span>\n",
       "</pre>\n"
      ],
      "text/plain": [
       "Addition is :  \u001b[1m[\u001b[0m\u001b[1m[\u001b[0m \u001b[1;36m6\u001b[0m  \u001b[1;36m8\u001b[0m\u001b[1m]\u001b[0m\n",
       " \u001b[1m[\u001b[0m\u001b[1;36m10\u001b[0m \u001b[1;36m12\u001b[0m\u001b[1m]\u001b[0m\u001b[1m]\u001b[0m\n"
      ]
     },
     "metadata": {},
     "output_type": "display_data"
    },
    {
     "data": {
      "text/html": [
       "<pre style=\"white-space:pre;overflow-x:auto;line-height:normal;font-family:Menlo,'DejaVu Sans Mono',consolas,'Courier New',monospace\">Substraction is  <span style=\"font-weight: bold\">[[</span><span style=\"color: #008080; text-decoration-color: #008080; font-weight: bold\">-4</span> <span style=\"color: #008080; text-decoration-color: #008080; font-weight: bold\">-4</span><span style=\"font-weight: bold\">]</span>\n",
       " <span style=\"font-weight: bold\">[</span><span style=\"color: #008080; text-decoration-color: #008080; font-weight: bold\">-4</span> <span style=\"color: #008080; text-decoration-color: #008080; font-weight: bold\">-4</span><span style=\"font-weight: bold\">]]</span>\n",
       "</pre>\n"
      ],
      "text/plain": [
       "Substraction is  \u001b[1m[\u001b[0m\u001b[1m[\u001b[0m\u001b[1;36m-4\u001b[0m \u001b[1;36m-4\u001b[0m\u001b[1m]\u001b[0m\n",
       " \u001b[1m[\u001b[0m\u001b[1;36m-4\u001b[0m \u001b[1;36m-4\u001b[0m\u001b[1m]\u001b[0m\u001b[1m]\u001b[0m\n"
      ]
     },
     "metadata": {},
     "output_type": "display_data"
    },
    {
     "data": {
      "text/html": [
       "<pre style=\"white-space:pre;overflow-x:auto;line-height:normal;font-family:Menlo,'DejaVu Sans Mono',consolas,'Courier New',monospace\"><span style=\"font-weight: bold\">[[</span><span style=\"color: #008080; text-decoration-color: #008080; font-weight: bold\">2</span> <span style=\"color: #008080; text-decoration-color: #008080; font-weight: bold\">5</span> <span style=\"color: #008080; text-decoration-color: #008080; font-weight: bold\">2</span> <span style=\"color: #008080; text-decoration-color: #008080; font-weight: bold\">4</span><span style=\"font-weight: bold\">]</span>\n",
       " <span style=\"font-weight: bold\">[</span><span style=\"color: #008080; text-decoration-color: #008080; font-weight: bold\">5</span> <span style=\"color: #008080; text-decoration-color: #008080; font-weight: bold\">7</span> <span style=\"color: #008080; text-decoration-color: #008080; font-weight: bold\">8</span> <span style=\"color: #008080; text-decoration-color: #008080; font-weight: bold\">9</span><span style=\"font-weight: bold\">]]</span>\n",
       "</pre>\n"
      ],
      "text/plain": [
       "\u001b[1m[\u001b[0m\u001b[1m[\u001b[0m\u001b[1;36m2\u001b[0m \u001b[1;36m5\u001b[0m \u001b[1;36m2\u001b[0m \u001b[1;36m4\u001b[0m\u001b[1m]\u001b[0m\n",
       " \u001b[1m[\u001b[0m\u001b[1;36m5\u001b[0m \u001b[1;36m7\u001b[0m \u001b[1;36m8\u001b[0m \u001b[1;36m9\u001b[0m\u001b[1m]\u001b[0m\u001b[1m]\u001b[0m\n"
      ]
     },
     "metadata": {},
     "output_type": "display_data"
    },
    {
     "data": {
      "text/html": [
       "<pre style=\"white-space:pre;overflow-x:auto;line-height:normal;font-family:Menlo,'DejaVu Sans Mono',consolas,'Courier New',monospace\"><span style=\"color: #008080; text-decoration-color: #008080; font-weight: bold\">42</span>\n",
       "</pre>\n"
      ],
      "text/plain": [
       "\u001b[1;36m42\u001b[0m\n"
      ]
     },
     "metadata": {},
     "output_type": "display_data"
    },
    {
     "data": {
      "text/html": [
       "<pre style=\"white-space:pre;overflow-x:auto;line-height:normal;font-family:Menlo,'DejaVu Sans Mono',consolas,'Courier New',monospace\">Vertical Sum <span style=\"font-weight: bold\">[</span> <span style=\"color: #008080; text-decoration-color: #008080; font-weight: bold\">7</span> <span style=\"color: #008080; text-decoration-color: #008080; font-weight: bold\">12</span> <span style=\"color: #008080; text-decoration-color: #008080; font-weight: bold\">10</span> <span style=\"color: #008080; text-decoration-color: #008080; font-weight: bold\">13</span><span style=\"font-weight: bold\">]</span>\n",
       "</pre>\n"
      ],
      "text/plain": [
       "Vertical Sum \u001b[1m[\u001b[0m \u001b[1;36m7\u001b[0m \u001b[1;36m12\u001b[0m \u001b[1;36m10\u001b[0m \u001b[1;36m13\u001b[0m\u001b[1m]\u001b[0m\n"
      ]
     },
     "metadata": {},
     "output_type": "display_data"
    },
    {
     "data": {
      "text/html": [
       "<pre style=\"white-space:pre;overflow-x:auto;line-height:normal;font-family:Menlo,'DejaVu Sans Mono',consolas,'Courier New',monospace\">Horizontal Sum <span style=\"font-weight: bold\">[</span><span style=\"color: #008080; text-decoration-color: #008080; font-weight: bold\">13</span> <span style=\"color: #008080; text-decoration-color: #008080; font-weight: bold\">29</span><span style=\"font-weight: bold\">]</span>\n",
       "</pre>\n"
      ],
      "text/plain": [
       "Horizontal Sum \u001b[1m[\u001b[0m\u001b[1;36m13\u001b[0m \u001b[1;36m29\u001b[0m\u001b[1m]\u001b[0m\n"
      ]
     },
     "metadata": {},
     "output_type": "display_data"
    },
    {
     "data": {
      "text/html": [
       "<pre style=\"white-space:pre;overflow-x:auto;line-height:normal;font-family:Menlo,'DejaVu Sans Mono',consolas,'Courier New',monospace\">Minumum Vetically <span style=\"font-weight: bold\">[</span><span style=\"color: #008080; text-decoration-color: #008080; font-weight: bold\">2</span> <span style=\"color: #008080; text-decoration-color: #008080; font-weight: bold\">5</span> <span style=\"color: #008080; text-decoration-color: #008080; font-weight: bold\">2</span> <span style=\"color: #008080; text-decoration-color: #008080; font-weight: bold\">4</span><span style=\"font-weight: bold\">]</span>\n",
       "</pre>\n"
      ],
      "text/plain": [
       "Minumum Vetically \u001b[1m[\u001b[0m\u001b[1;36m2\u001b[0m \u001b[1;36m5\u001b[0m \u001b[1;36m2\u001b[0m \u001b[1;36m4\u001b[0m\u001b[1m]\u001b[0m\n"
      ]
     },
     "metadata": {},
     "output_type": "display_data"
    },
    {
     "data": {
      "text/html": [
       "<pre style=\"white-space:pre;overflow-x:auto;line-height:normal;font-family:Menlo,'DejaVu Sans Mono',consolas,'Courier New',monospace\">Minumum Horizontally <span style=\"font-weight: bold\">[</span><span style=\"color: #008080; text-decoration-color: #008080; font-weight: bold\">2</span> <span style=\"color: #008080; text-decoration-color: #008080; font-weight: bold\">5</span><span style=\"font-weight: bold\">]</span>\n",
       "</pre>\n"
      ],
      "text/plain": [
       "Minumum Horizontally \u001b[1m[\u001b[0m\u001b[1;36m2\u001b[0m \u001b[1;36m5\u001b[0m\u001b[1m]\u001b[0m\n"
      ]
     },
     "metadata": {},
     "output_type": "display_data"
    },
    {
     "data": {
      "text/html": [
       "<pre style=\"white-space:pre;overflow-x:auto;line-height:normal;font-family:Menlo,'DejaVu Sans Mono',consolas,'Courier New',monospace\"><span style=\"font-weight: bold\">[[</span><span style=\"color: #ff0000; text-decoration-color: #ff0000; font-style: italic\">False</span>  <span style=\"color: #00ff00; text-decoration-color: #00ff00; font-style: italic\">True</span> <span style=\"color: #ff0000; text-decoration-color: #ff0000; font-style: italic\">False</span>  <span style=\"color: #00ff00; text-decoration-color: #00ff00; font-style: italic\">True</span><span style=\"font-weight: bold\">]</span>\n",
       " <span style=\"font-weight: bold\">[</span> <span style=\"color: #00ff00; text-decoration-color: #00ff00; font-style: italic\">True</span>  <span style=\"color: #00ff00; text-decoration-color: #00ff00; font-style: italic\">True</span>  <span style=\"color: #00ff00; text-decoration-color: #00ff00; font-style: italic\">True</span>  <span style=\"color: #00ff00; text-decoration-color: #00ff00; font-style: italic\">True</span><span style=\"font-weight: bold\">]]</span>\n",
       "</pre>\n"
      ],
      "text/plain": [
       "\u001b[1m[\u001b[0m\u001b[1m[\u001b[0m\u001b[3;91mFalse\u001b[0m  \u001b[3;92mTrue\u001b[0m \u001b[3;91mFalse\u001b[0m  \u001b[3;92mTrue\u001b[0m\u001b[1m]\u001b[0m\n",
       " \u001b[1m[\u001b[0m \u001b[3;92mTrue\u001b[0m  \u001b[3;92mTrue\u001b[0m  \u001b[3;92mTrue\u001b[0m  \u001b[3;92mTrue\u001b[0m\u001b[1m]\u001b[0m\u001b[1m]\u001b[0m\n"
      ]
     },
     "metadata": {},
     "output_type": "display_data"
    },
    {
     "data": {
      "text/html": [
       "<pre style=\"white-space:pre;overflow-x:auto;line-height:normal;font-family:Menlo,'DejaVu Sans Mono',consolas,'Courier New',monospace\"><span style=\"font-weight: bold\">[</span><span style=\"color: #008080; text-decoration-color: #008080; font-weight: bold\">5</span> <span style=\"color: #008080; text-decoration-color: #008080; font-weight: bold\">4</span> <span style=\"color: #008080; text-decoration-color: #008080; font-weight: bold\">5</span> <span style=\"color: #008080; text-decoration-color: #008080; font-weight: bold\">7</span> <span style=\"color: #008080; text-decoration-color: #008080; font-weight: bold\">8</span> <span style=\"color: #008080; text-decoration-color: #008080; font-weight: bold\">9</span><span style=\"font-weight: bold\">]</span>\n",
       "</pre>\n"
      ],
      "text/plain": [
       "\u001b[1m[\u001b[0m\u001b[1;36m5\u001b[0m \u001b[1;36m4\u001b[0m \u001b[1;36m5\u001b[0m \u001b[1;36m7\u001b[0m \u001b[1;36m8\u001b[0m \u001b[1;36m9\u001b[0m\u001b[1m]\u001b[0m\n"
      ]
     },
     "metadata": {},
     "output_type": "display_data"
    }
   ],
   "source": [
    "from rich import print\n",
    "a1 = np.array([[2,5,2,4],[5,7,8,9]])\n",
    "a = np.array([[1, 2], [3, 4]])\n",
    "b = np.array([[5, 6], [7, 8]])\n",
    "print(\"Logarithmic : \", np.log(a))\n",
    "print(\"Addition is : \", np.add(a, b))\n",
    "print(\"Substraction is \" , np.subtract(a,b))\n",
    "print(a1)\n",
    "print(np.sum(a1))\n",
    "print(\"Vertical Sum\",np.sum(a1, axis=0))\n",
    "print(\"Horizontal Sum\",np.sum(a1, axis=1))\n",
    "print(\"Minumum Vetically\",np.min(a1, axis=0))\n",
    "print(\"Minumum Horizontally\",np.min(a1, axis=1))\n",
    "print(a1>2) # anwers in boolean of true or false\n",
    "print(a1[a1>2]) #printvalues grater than 2 in the array"
   ]
  },
  {
   "cell_type": "code",
   "execution_count": 71,
   "id": "692b24ac-a340-4b42-b5d6-d989cb3049e5",
   "metadata": {},
   "outputs": [
    {
     "data": {
      "text/html": [
       "<pre style=\"white-space:pre;overflow-x:auto;line-height:normal;font-family:Menlo,'DejaVu Sans Mono',consolas,'Courier New',monospace\"><span style=\"font-weight: bold\">[</span><span style=\"color: #008080; text-decoration-color: #008080; font-weight: bold\">10</span> <span style=\"color: #008080; text-decoration-color: #008080; font-weight: bold\">11</span> <span style=\"color: #008080; text-decoration-color: #008080; font-weight: bold\">12</span> <span style=\"color: #008080; text-decoration-color: #008080; font-weight: bold\">13</span> <span style=\"color: #008080; text-decoration-color: #008080; font-weight: bold\">14</span> <span style=\"color: #008080; text-decoration-color: #008080; font-weight: bold\">15</span> <span style=\"color: #008080; text-decoration-color: #008080; font-weight: bold\">16</span> <span style=\"color: #008080; text-decoration-color: #008080; font-weight: bold\">17</span> <span style=\"color: #008080; text-decoration-color: #008080; font-weight: bold\">18</span> <span style=\"color: #008080; text-decoration-color: #008080; font-weight: bold\">19</span> <span style=\"color: #008080; text-decoration-color: #008080; font-weight: bold\">20</span> <span style=\"color: #008080; text-decoration-color: #008080; font-weight: bold\">21</span> <span style=\"color: #008080; text-decoration-color: #008080; font-weight: bold\">22</span> <span style=\"color: #008080; text-decoration-color: #008080; font-weight: bold\">23</span> <span style=\"color: #008080; text-decoration-color: #008080; font-weight: bold\">24</span> <span style=\"color: #008080; text-decoration-color: #008080; font-weight: bold\">25</span> <span style=\"color: #008080; text-decoration-color: #008080; font-weight: bold\">26</span> <span style=\"color: #008080; text-decoration-color: #008080; font-weight: bold\">27</span> <span style=\"color: #008080; text-decoration-color: #008080; font-weight: bold\">28</span> <span style=\"color: #008080; text-decoration-color: #008080; font-weight: bold\">29</span> <span style=\"color: #008080; text-decoration-color: #008080; font-weight: bold\">30</span> <span style=\"color: #008080; text-decoration-color: #008080; font-weight: bold\">31</span> <span style=\"color: #008080; text-decoration-color: #008080; font-weight: bold\">32</span> <span style=\"color: #008080; text-decoration-color: #008080; font-weight: bold\">33</span>\n",
       " <span style=\"color: #008080; text-decoration-color: #008080; font-weight: bold\">34</span> <span style=\"color: #008080; text-decoration-color: #008080; font-weight: bold\">35</span> <span style=\"color: #008080; text-decoration-color: #008080; font-weight: bold\">36</span> <span style=\"color: #008080; text-decoration-color: #008080; font-weight: bold\">37</span> <span style=\"color: #008080; text-decoration-color: #008080; font-weight: bold\">38</span> <span style=\"color: #008080; text-decoration-color: #008080; font-weight: bold\">39</span> <span style=\"color: #008080; text-decoration-color: #008080; font-weight: bold\">40</span> <span style=\"color: #008080; text-decoration-color: #008080; font-weight: bold\">41</span> <span style=\"color: #008080; text-decoration-color: #008080; font-weight: bold\">42</span> <span style=\"color: #008080; text-decoration-color: #008080; font-weight: bold\">43</span> <span style=\"color: #008080; text-decoration-color: #008080; font-weight: bold\">44</span> <span style=\"color: #008080; text-decoration-color: #008080; font-weight: bold\">45</span> <span style=\"color: #008080; text-decoration-color: #008080; font-weight: bold\">46</span> <span style=\"color: #008080; text-decoration-color: #008080; font-weight: bold\">47</span> <span style=\"color: #008080; text-decoration-color: #008080; font-weight: bold\">48</span> <span style=\"color: #008080; text-decoration-color: #008080; font-weight: bold\">49</span> <span style=\"color: #008080; text-decoration-color: #008080; font-weight: bold\">50</span><span style=\"font-weight: bold\">]</span>\n",
       "</pre>\n"
      ],
      "text/plain": [
       "\u001b[1m[\u001b[0m\u001b[1;36m10\u001b[0m \u001b[1;36m11\u001b[0m \u001b[1;36m12\u001b[0m \u001b[1;36m13\u001b[0m \u001b[1;36m14\u001b[0m \u001b[1;36m15\u001b[0m \u001b[1;36m16\u001b[0m \u001b[1;36m17\u001b[0m \u001b[1;36m18\u001b[0m \u001b[1;36m19\u001b[0m \u001b[1;36m20\u001b[0m \u001b[1;36m21\u001b[0m \u001b[1;36m22\u001b[0m \u001b[1;36m23\u001b[0m \u001b[1;36m24\u001b[0m \u001b[1;36m25\u001b[0m \u001b[1;36m26\u001b[0m \u001b[1;36m27\u001b[0m \u001b[1;36m28\u001b[0m \u001b[1;36m29\u001b[0m \u001b[1;36m30\u001b[0m \u001b[1;36m31\u001b[0m \u001b[1;36m32\u001b[0m \u001b[1;36m33\u001b[0m\n",
       " \u001b[1;36m34\u001b[0m \u001b[1;36m35\u001b[0m \u001b[1;36m36\u001b[0m \u001b[1;36m37\u001b[0m \u001b[1;36m38\u001b[0m \u001b[1;36m39\u001b[0m \u001b[1;36m40\u001b[0m \u001b[1;36m41\u001b[0m \u001b[1;36m42\u001b[0m \u001b[1;36m43\u001b[0m \u001b[1;36m44\u001b[0m \u001b[1;36m45\u001b[0m \u001b[1;36m46\u001b[0m \u001b[1;36m47\u001b[0m \u001b[1;36m48\u001b[0m \u001b[1;36m49\u001b[0m \u001b[1;36m50\u001b[0m\u001b[1m]\u001b[0m\n"
      ]
     },
     "metadata": {},
     "output_type": "display_data"
    },
    {
     "data": {
      "text/html": [
       "<pre style=\"white-space:pre;overflow-x:auto;line-height:normal;font-family:Menlo,'DejaVu Sans Mono',consolas,'Courier New',monospace\"><span style=\"font-weight: bold\">[</span><span style=\"color: #008080; text-decoration-color: #008080; font-weight: bold\">31</span> <span style=\"color: #008080; text-decoration-color: #008080; font-weight: bold\">32</span> <span style=\"color: #008080; text-decoration-color: #008080; font-weight: bold\">33</span> <span style=\"color: #008080; text-decoration-color: #008080; font-weight: bold\">34</span> <span style=\"color: #008080; text-decoration-color: #008080; font-weight: bold\">35</span> <span style=\"color: #008080; text-decoration-color: #008080; font-weight: bold\">36</span> <span style=\"color: #008080; text-decoration-color: #008080; font-weight: bold\">37</span> <span style=\"color: #008080; text-decoration-color: #008080; font-weight: bold\">38</span> <span style=\"color: #008080; text-decoration-color: #008080; font-weight: bold\">39</span> <span style=\"color: #008080; text-decoration-color: #008080; font-weight: bold\">40</span> <span style=\"color: #008080; text-decoration-color: #008080; font-weight: bold\">41</span> <span style=\"color: #008080; text-decoration-color: #008080; font-weight: bold\">42</span> <span style=\"color: #008080; text-decoration-color: #008080; font-weight: bold\">43</span> <span style=\"color: #008080; text-decoration-color: #008080; font-weight: bold\">44</span> <span style=\"color: #008080; text-decoration-color: #008080; font-weight: bold\">45</span> <span style=\"color: #008080; text-decoration-color: #008080; font-weight: bold\">46</span> <span style=\"color: #008080; text-decoration-color: #008080; font-weight: bold\">47</span> <span style=\"color: #008080; text-decoration-color: #008080; font-weight: bold\">48</span> <span style=\"color: #008080; text-decoration-color: #008080; font-weight: bold\">49</span> <span style=\"color: #008080; text-decoration-color: #008080; font-weight: bold\">50</span><span style=\"font-weight: bold\">]</span>\n",
       "</pre>\n"
      ],
      "text/plain": [
       "\u001b[1m[\u001b[0m\u001b[1;36m31\u001b[0m \u001b[1;36m32\u001b[0m \u001b[1;36m33\u001b[0m \u001b[1;36m34\u001b[0m \u001b[1;36m35\u001b[0m \u001b[1;36m36\u001b[0m \u001b[1;36m37\u001b[0m \u001b[1;36m38\u001b[0m \u001b[1;36m39\u001b[0m \u001b[1;36m40\u001b[0m \u001b[1;36m41\u001b[0m \u001b[1;36m42\u001b[0m \u001b[1;36m43\u001b[0m \u001b[1;36m44\u001b[0m \u001b[1;36m45\u001b[0m \u001b[1;36m46\u001b[0m \u001b[1;36m47\u001b[0m \u001b[1;36m48\u001b[0m \u001b[1;36m49\u001b[0m \u001b[1;36m50\u001b[0m\u001b[1m]\u001b[0m\n"
      ]
     },
     "metadata": {},
     "output_type": "display_data"
    },
    {
     "data": {
      "text/html": [
       "<pre style=\"white-space:pre;overflow-x:auto;line-height:normal;font-family:Menlo,'DejaVu Sans Mono',consolas,'Courier New',monospace\"><span style=\"font-weight: bold\">[</span> <span style=\"color: #008080; text-decoration-color: #008080; font-weight: bold\">20</span>  <span style=\"color: #008080; text-decoration-color: #008080; font-weight: bold\">22</span>  <span style=\"color: #008080; text-decoration-color: #008080; font-weight: bold\">24</span>  <span style=\"color: #008080; text-decoration-color: #008080; font-weight: bold\">26</span>  <span style=\"color: #008080; text-decoration-color: #008080; font-weight: bold\">28</span>  <span style=\"color: #008080; text-decoration-color: #008080; font-weight: bold\">30</span>  <span style=\"color: #008080; text-decoration-color: #008080; font-weight: bold\">32</span>  <span style=\"color: #008080; text-decoration-color: #008080; font-weight: bold\">34</span>  <span style=\"color: #008080; text-decoration-color: #008080; font-weight: bold\">36</span>  <span style=\"color: #008080; text-decoration-color: #008080; font-weight: bold\">38</span>  <span style=\"color: #008080; text-decoration-color: #008080; font-weight: bold\">40</span>  <span style=\"color: #008080; text-decoration-color: #008080; font-weight: bold\">42</span>  <span style=\"color: #008080; text-decoration-color: #008080; font-weight: bold\">44</span>  <span style=\"color: #008080; text-decoration-color: #008080; font-weight: bold\">46</span>  <span style=\"color: #008080; text-decoration-color: #008080; font-weight: bold\">48</span>  <span style=\"color: #008080; text-decoration-color: #008080; font-weight: bold\">50</span>  <span style=\"color: #008080; text-decoration-color: #008080; font-weight: bold\">52</span>  <span style=\"color: #008080; text-decoration-color: #008080; font-weight: bold\">54</span>\n",
       "  <span style=\"color: #008080; text-decoration-color: #008080; font-weight: bold\">56</span>  <span style=\"color: #008080; text-decoration-color: #008080; font-weight: bold\">58</span>  <span style=\"color: #008080; text-decoration-color: #008080; font-weight: bold\">60</span>  <span style=\"color: #008080; text-decoration-color: #008080; font-weight: bold\">62</span>  <span style=\"color: #008080; text-decoration-color: #008080; font-weight: bold\">64</span>  <span style=\"color: #008080; text-decoration-color: #008080; font-weight: bold\">66</span>  <span style=\"color: #008080; text-decoration-color: #008080; font-weight: bold\">68</span>  <span style=\"color: #008080; text-decoration-color: #008080; font-weight: bold\">70</span>  <span style=\"color: #008080; text-decoration-color: #008080; font-weight: bold\">72</span>  <span style=\"color: #008080; text-decoration-color: #008080; font-weight: bold\">74</span>  <span style=\"color: #008080; text-decoration-color: #008080; font-weight: bold\">76</span>  <span style=\"color: #008080; text-decoration-color: #008080; font-weight: bold\">78</span>  <span style=\"color: #008080; text-decoration-color: #008080; font-weight: bold\">80</span>  <span style=\"color: #008080; text-decoration-color: #008080; font-weight: bold\">82</span>  <span style=\"color: #008080; text-decoration-color: #008080; font-weight: bold\">84</span>  <span style=\"color: #008080; text-decoration-color: #008080; font-weight: bold\">86</span>  <span style=\"color: #008080; text-decoration-color: #008080; font-weight: bold\">88</span>  <span style=\"color: #008080; text-decoration-color: #008080; font-weight: bold\">90</span>\n",
       "  <span style=\"color: #008080; text-decoration-color: #008080; font-weight: bold\">92</span>  <span style=\"color: #008080; text-decoration-color: #008080; font-weight: bold\">94</span>  <span style=\"color: #008080; text-decoration-color: #008080; font-weight: bold\">96</span>  <span style=\"color: #008080; text-decoration-color: #008080; font-weight: bold\">98</span> <span style=\"color: #008080; text-decoration-color: #008080; font-weight: bold\">100</span><span style=\"font-weight: bold\">]</span>\n",
       "</pre>\n"
      ],
      "text/plain": [
       "\u001b[1m[\u001b[0m \u001b[1;36m20\u001b[0m  \u001b[1;36m22\u001b[0m  \u001b[1;36m24\u001b[0m  \u001b[1;36m26\u001b[0m  \u001b[1;36m28\u001b[0m  \u001b[1;36m30\u001b[0m  \u001b[1;36m32\u001b[0m  \u001b[1;36m34\u001b[0m  \u001b[1;36m36\u001b[0m  \u001b[1;36m38\u001b[0m  \u001b[1;36m40\u001b[0m  \u001b[1;36m42\u001b[0m  \u001b[1;36m44\u001b[0m  \u001b[1;36m46\u001b[0m  \u001b[1;36m48\u001b[0m  \u001b[1;36m50\u001b[0m  \u001b[1;36m52\u001b[0m  \u001b[1;36m54\u001b[0m\n",
       "  \u001b[1;36m56\u001b[0m  \u001b[1;36m58\u001b[0m  \u001b[1;36m60\u001b[0m  \u001b[1;36m62\u001b[0m  \u001b[1;36m64\u001b[0m  \u001b[1;36m66\u001b[0m  \u001b[1;36m68\u001b[0m  \u001b[1;36m70\u001b[0m  \u001b[1;36m72\u001b[0m  \u001b[1;36m74\u001b[0m  \u001b[1;36m76\u001b[0m  \u001b[1;36m78\u001b[0m  \u001b[1;36m80\u001b[0m  \u001b[1;36m82\u001b[0m  \u001b[1;36m84\u001b[0m  \u001b[1;36m86\u001b[0m  \u001b[1;36m88\u001b[0m  \u001b[1;36m90\u001b[0m\n",
       "  \u001b[1;36m92\u001b[0m  \u001b[1;36m94\u001b[0m  \u001b[1;36m96\u001b[0m  \u001b[1;36m98\u001b[0m \u001b[1;36m100\u001b[0m\u001b[1m]\u001b[0m\n"
      ]
     },
     "metadata": {},
     "output_type": "display_data"
    },
    {
     "data": {
      "text/html": [
       "<pre style=\"white-space:pre;overflow-x:auto;line-height:normal;font-family:Menlo,'DejaVu Sans Mono',consolas,'Courier New',monospace\">Mean <span style=\"color: #008080; text-decoration-color: #008080; font-weight: bold\">30.0</span>\n",
       "</pre>\n"
      ],
      "text/plain": [
       "Mean \u001b[1;36m30.0\u001b[0m\n"
      ]
     },
     "metadata": {},
     "output_type": "display_data"
    },
    {
     "data": {
      "text/html": [
       "<pre style=\"white-space:pre;overflow-x:auto;line-height:normal;font-family:Menlo,'DejaVu Sans Mono',consolas,'Courier New',monospace\">Standard Deviation <span style=\"color: #008080; text-decoration-color: #008080; font-weight: bold\">11.832159566199232</span>\n",
       "</pre>\n"
      ],
      "text/plain": [
       "Standard Deviation \u001b[1;36m11.832159566199232\u001b[0m\n"
      ]
     },
     "metadata": {},
     "output_type": "display_data"
    }
   ],
   "source": [
    "''' \n",
    "Create a NumPy array with values from 10 to 50.\n",
    "Extract elements greater than 30\n",
    "Multiply the array by 2\n",
    "Find mean and standard deviation of the array '''\n",
    "a1 = np.arange(10, 51)\n",
    "print(a1)\n",
    "print(a1[a1>30])\n",
    "print(a1*2)\n",
    "print(\"Mean\", np.mean(a1))\n",
    "print(\"Standard Deviation\", np.std(a1))"
   ]
  },
  {
   "cell_type": "code",
   "execution_count": 92,
   "id": "e1068e83-03da-489a-b87f-2a8d21a16613",
   "metadata": {},
   "outputs": [
    {
     "data": {
      "text/html": [
       "<pre style=\"white-space:pre;overflow-x:auto;line-height:normal;font-family:Menlo,'DejaVu Sans Mono',consolas,'Courier New',monospace\"><span style=\"font-weight: bold\">[[</span><span style=\"color: #008080; text-decoration-color: #008080; font-weight: bold\">6</span> <span style=\"color: #008080; text-decoration-color: #008080; font-weight: bold\">9</span> <span style=\"color: #008080; text-decoration-color: #008080; font-weight: bold\">8</span><span style=\"font-weight: bold\">]</span>\n",
       " <span style=\"font-weight: bold\">[</span><span style=\"color: #008080; text-decoration-color: #008080; font-weight: bold\">7</span> <span style=\"color: #008080; text-decoration-color: #008080; font-weight: bold\">3</span> <span style=\"color: #008080; text-decoration-color: #008080; font-weight: bold\">3</span><span style=\"font-weight: bold\">]</span>\n",
       " <span style=\"font-weight: bold\">[</span><span style=\"color: #008080; text-decoration-color: #008080; font-weight: bold\">5</span> <span style=\"color: #008080; text-decoration-color: #008080; font-weight: bold\">8</span> <span style=\"color: #008080; text-decoration-color: #008080; font-weight: bold\">5</span><span style=\"font-weight: bold\">]]</span>\n",
       "</pre>\n"
      ],
      "text/plain": [
       "\u001b[1m[\u001b[0m\u001b[1m[\u001b[0m\u001b[1;36m6\u001b[0m \u001b[1;36m9\u001b[0m \u001b[1;36m8\u001b[0m\u001b[1m]\u001b[0m\n",
       " \u001b[1m[\u001b[0m\u001b[1;36m7\u001b[0m \u001b[1;36m3\u001b[0m \u001b[1;36m3\u001b[0m\u001b[1m]\u001b[0m\n",
       " \u001b[1m[\u001b[0m\u001b[1;36m5\u001b[0m \u001b[1;36m8\u001b[0m \u001b[1;36m5\u001b[0m\u001b[1m]\u001b[0m\u001b[1m]\u001b[0m\n"
      ]
     },
     "metadata": {},
     "output_type": "display_data"
    },
    {
     "data": {
      "text/html": [
       "<pre style=\"white-space:pre;overflow-x:auto;line-height:normal;font-family:Menlo,'DejaVu Sans Mono',consolas,'Courier New',monospace\"><span style=\"font-weight: bold\">[</span><span style=\"color: #008080; text-decoration-color: #008080; font-weight: bold\">6</span> <span style=\"color: #008080; text-decoration-color: #008080; font-weight: bold\">9</span> <span style=\"color: #008080; text-decoration-color: #008080; font-weight: bold\">8</span> <span style=\"color: #008080; text-decoration-color: #008080; font-weight: bold\">7</span> <span style=\"color: #008080; text-decoration-color: #008080; font-weight: bold\">3</span> <span style=\"color: #008080; text-decoration-color: #008080; font-weight: bold\">3</span> <span style=\"color: #008080; text-decoration-color: #008080; font-weight: bold\">5</span> <span style=\"color: #008080; text-decoration-color: #008080; font-weight: bold\">8</span> <span style=\"color: #008080; text-decoration-color: #008080; font-weight: bold\">5</span><span style=\"font-weight: bold\">]</span>\n",
       "</pre>\n"
      ],
      "text/plain": [
       "\u001b[1m[\u001b[0m\u001b[1;36m6\u001b[0m \u001b[1;36m9\u001b[0m \u001b[1;36m8\u001b[0m \u001b[1;36m7\u001b[0m \u001b[1;36m3\u001b[0m \u001b[1;36m3\u001b[0m \u001b[1;36m5\u001b[0m \u001b[1;36m8\u001b[0m \u001b[1;36m5\u001b[0m\u001b[1m]\u001b[0m\n"
      ]
     },
     "metadata": {},
     "output_type": "display_data"
    },
    {
     "data": {
      "text/html": [
       "<pre style=\"white-space:pre;overflow-x:auto;line-height:normal;font-family:Menlo,'DejaVu Sans Mono',consolas,'Courier New',monospace\"><span style=\"font-weight: bold\">[</span><span style=\"color: #008080; text-decoration-color: #008080; font-weight: bold\">6</span> <span style=\"color: #008080; text-decoration-color: #008080; font-weight: bold\">9</span> <span style=\"color: #008080; text-decoration-color: #008080; font-weight: bold\">8</span> <span style=\"color: #008080; text-decoration-color: #008080; font-weight: bold\">7</span> <span style=\"color: #008080; text-decoration-color: #008080; font-weight: bold\">3</span> <span style=\"color: #008080; text-decoration-color: #008080; font-weight: bold\">3</span> <span style=\"color: #008080; text-decoration-color: #008080; font-weight: bold\">5</span> <span style=\"color: #008080; text-decoration-color: #008080; font-weight: bold\">8</span> <span style=\"color: #008080; text-decoration-color: #008080; font-weight: bold\">5</span><span style=\"font-weight: bold\">]</span>\n",
       "</pre>\n"
      ],
      "text/plain": [
       "\u001b[1m[\u001b[0m\u001b[1;36m6\u001b[0m \u001b[1;36m9\u001b[0m \u001b[1;36m8\u001b[0m \u001b[1;36m7\u001b[0m \u001b[1;36m3\u001b[0m \u001b[1;36m3\u001b[0m \u001b[1;36m5\u001b[0m \u001b[1;36m8\u001b[0m \u001b[1;36m5\u001b[0m\u001b[1m]\u001b[0m\n"
      ]
     },
     "metadata": {},
     "output_type": "display_data"
    },
    {
     "data": {
      "text/html": [
       "<pre style=\"white-space:pre;overflow-x:auto;line-height:normal;font-family:Menlo,'DejaVu Sans Mono',consolas,'Courier New',monospace\"><span style=\"font-weight: bold\">[</span>  <span style=\"color: #008080; text-decoration-color: #008080; font-weight: bold\">6</span>   <span style=\"color: #008080; text-decoration-color: #008080; font-weight: bold\">9</span>   <span style=\"color: #008080; text-decoration-color: #008080; font-weight: bold\">8</span>   <span style=\"color: #008080; text-decoration-color: #008080; font-weight: bold\">7</span>   <span style=\"color: #008080; text-decoration-color: #008080; font-weight: bold\">3</span>   <span style=\"color: #008080; text-decoration-color: #008080; font-weight: bold\">3</span>   <span style=\"color: #008080; text-decoration-color: #008080; font-weight: bold\">5</span>   <span style=\"color: #008080; text-decoration-color: #008080; font-weight: bold\">8</span> <span style=\"color: #008080; text-decoration-color: #008080; font-weight: bold\">100</span><span style=\"font-weight: bold\">]</span>\n",
       "</pre>\n"
      ],
      "text/plain": [
       "\u001b[1m[\u001b[0m  \u001b[1;36m6\u001b[0m   \u001b[1;36m9\u001b[0m   \u001b[1;36m8\u001b[0m   \u001b[1;36m7\u001b[0m   \u001b[1;36m3\u001b[0m   \u001b[1;36m3\u001b[0m   \u001b[1;36m5\u001b[0m   \u001b[1;36m8\u001b[0m \u001b[1;36m100\u001b[0m\u001b[1m]\u001b[0m\n"
      ]
     },
     "metadata": {},
     "output_type": "display_data"
    },
    {
     "data": {
      "text/html": [
       "<pre style=\"white-space:pre;overflow-x:auto;line-height:normal;font-family:Menlo,'DejaVu Sans Mono',consolas,'Courier New',monospace\">Printing the middle row <span style=\"font-weight: bold\">[</span><span style=\"color: #008080; text-decoration-color: #008080; font-weight: bold\">7</span> <span style=\"color: #008080; text-decoration-color: #008080; font-weight: bold\">3</span> <span style=\"color: #008080; text-decoration-color: #008080; font-weight: bold\">3</span><span style=\"font-weight: bold\">]</span>\n",
       "</pre>\n"
      ],
      "text/plain": [
       "Printing the middle row \u001b[1m[\u001b[0m\u001b[1;36m7\u001b[0m \u001b[1;36m3\u001b[0m \u001b[1;36m3\u001b[0m\u001b[1m]\u001b[0m\n"
      ]
     },
     "metadata": {},
     "output_type": "display_data"
    }
   ],
   "source": [
    "'''Task: Create a 3x3 matrix with numbers from 1 to 9.\n",
    "Reshape it to a 1D array\n",
    "Access the middle row from the original matrix\n",
    "Replace the last element of reshaped array with 100\n",
    "'''\n",
    "a = np.random.randint(1, 10, (3, 3))\n",
    "print(a)\n",
    "b = a.flatten()\n",
    "print(b)\n",
    "c = a.ravel()\n",
    "print(c)\n",
    "b [-1] = 100\n",
    "print(b)\n",
    "print(\"Printing the middle row\", a[1])"
   ]
  },
  {
   "cell_type": "code",
   "execution_count": 108,
   "id": "39fd49a1-27b6-48de-869d-0d8065ba4cd1",
   "metadata": {},
   "outputs": [
    {
     "data": {
      "text/html": [
       "<pre style=\"white-space:pre;overflow-x:auto;line-height:normal;font-family:Menlo,'DejaVu Sans Mono',consolas,'Courier New',monospace\"><span style=\"font-weight: bold\">[</span><span style=\"color: #008080; text-decoration-color: #008080; font-weight: bold\">12</span> <span style=\"color: #008080; text-decoration-color: #008080; font-weight: bold\">50</span> <span style=\"color: #008080; text-decoration-color: #008080; font-weight: bold\">66</span><span style=\"font-weight: bold\">]</span>\n",
       "</pre>\n"
      ],
      "text/plain": [
       "\u001b[1m[\u001b[0m\u001b[1;36m12\u001b[0m \u001b[1;36m50\u001b[0m \u001b[1;36m66\u001b[0m\u001b[1m]\u001b[0m\n"
      ]
     },
     "metadata": {},
     "output_type": "display_data"
    },
    {
     "data": {
      "text/html": [
       "<pre style=\"white-space:pre;overflow-x:auto;line-height:normal;font-family:Menlo,'DejaVu Sans Mono',consolas,'Courier New',monospace\"><span style=\"color: #008080; text-decoration-color: #008080; font-weight: bold\">4</span>\n",
       "</pre>\n"
      ],
      "text/plain": [
       "\u001b[1;36m4\u001b[0m\n"
      ]
     },
     "metadata": {},
     "output_type": "display_data"
    },
    {
     "data": {
      "text/html": [
       "<pre style=\"white-space:pre;overflow-x:auto;line-height:normal;font-family:Menlo,'DejaVu Sans Mono',consolas,'Courier New',monospace\"><span style=\"color: #008080; text-decoration-color: #008080; font-weight: bold\">66</span>\n",
       "</pre>\n"
      ],
      "text/plain": [
       "\u001b[1;36m66\u001b[0m\n"
      ]
     },
     "metadata": {},
     "output_type": "display_data"
    },
    {
     "data": {
      "text/html": [
       "<pre style=\"white-space:pre;overflow-x:auto;line-height:normal;font-family:Menlo,'DejaVu Sans Mono',consolas,'Courier New',monospace\"><span style=\"font-weight: bold\">[</span> <span style=\"color: #008080; text-decoration-color: #008080; font-weight: bold\">0</span>  <span style=\"color: #008080; text-decoration-color: #008080; font-weight: bold\">0</span>  <span style=\"color: #008080; text-decoration-color: #008080; font-weight: bold\">0</span> <span style=\"color: #008080; text-decoration-color: #008080; font-weight: bold\">23</span> <span style=\"color: #008080; text-decoration-color: #008080; font-weight: bold\">45</span> <span style=\"color: #008080; text-decoration-color: #008080; font-weight: bold\">50</span> <span style=\"color: #008080; text-decoration-color: #008080; font-weight: bold\">66</span><span style=\"font-weight: bold\">]</span>\n",
       "</pre>\n"
      ],
      "text/plain": [
       "\u001b[1m[\u001b[0m \u001b[1;36m0\u001b[0m  \u001b[1;36m0\u001b[0m  \u001b[1;36m0\u001b[0m \u001b[1;36m23\u001b[0m \u001b[1;36m45\u001b[0m \u001b[1;36m50\u001b[0m \u001b[1;36m66\u001b[0m\u001b[1m]\u001b[0m\n"
      ]
     },
     "metadata": {},
     "output_type": "display_data"
    }
   ],
   "source": [
    "'''3.arr = np.array([5, 12, 17, 23, 45, 50, 66])\n",
    "Find all even numbers\n",
    "Count how many numbers are greater than 20\n",
    "Replace all values less than 20 with 0\n",
    "'''\n",
    "arr = np.array([5, 12, 17, 23, 45, 50, 66])\n",
    "arr1 =  arr[arr % 2 ==0]\n",
    "print(arr1)\n",
    "print(np.sum(arr>20))\n",
    "print(np.max(arr[arr>20]))\n",
    "arr[arr < 20] = 0\n",
    "print(arr)"
   ]
  },
  {
   "cell_type": "code",
   "execution_count": 125,
   "id": "e6ff01cc-e2af-4265-a6e0-c886935cd04a",
   "metadata": {},
   "outputs": [
    {
     "data": {
      "text/html": [
       "<pre style=\"white-space:pre;overflow-x:auto;line-height:normal;font-family:Menlo,'DejaVu Sans Mono',consolas,'Courier New',monospace\"><span style=\"font-weight: bold\">[[</span><span style=\"color: #008080; text-decoration-color: #008080; font-weight: bold\">64</span> <span style=\"color: #008080; text-decoration-color: #008080; font-weight: bold\">14</span> <span style=\"color: #008080; text-decoration-color: #008080; font-weight: bold\">72</span> <span style=\"color: #008080; text-decoration-color: #008080; font-weight: bold\">69</span> <span style=\"color: #008080; text-decoration-color: #008080; font-weight: bold\">58</span><span style=\"font-weight: bold\">]</span>\n",
       " <span style=\"font-weight: bold\">[</span><span style=\"color: #008080; text-decoration-color: #008080; font-weight: bold\">10</span>  <span style=\"color: #008080; text-decoration-color: #008080; font-weight: bold\">8</span> <span style=\"color: #008080; text-decoration-color: #008080; font-weight: bold\">57</span> <span style=\"color: #008080; text-decoration-color: #008080; font-weight: bold\">99</span> <span style=\"color: #008080; text-decoration-color: #008080; font-weight: bold\">56</span><span style=\"font-weight: bold\">]</span>\n",
       " <span style=\"font-weight: bold\">[</span><span style=\"color: #008080; text-decoration-color: #008080; font-weight: bold\">33</span> <span style=\"color: #008080; text-decoration-color: #008080; font-weight: bold\">36</span> <span style=\"color: #008080; text-decoration-color: #008080; font-weight: bold\">13</span> <span style=\"color: #008080; text-decoration-color: #008080; font-weight: bold\">79</span> <span style=\"color: #008080; text-decoration-color: #008080; font-weight: bold\">44</span><span style=\"font-weight: bold\">]</span>\n",
       " <span style=\"font-weight: bold\">[</span><span style=\"color: #008080; text-decoration-color: #008080; font-weight: bold\">10</span> <span style=\"color: #008080; text-decoration-color: #008080; font-weight: bold\">86</span> <span style=\"color: #008080; text-decoration-color: #008080; font-weight: bold\">54</span> <span style=\"color: #008080; text-decoration-color: #008080; font-weight: bold\">96</span> <span style=\"color: #008080; text-decoration-color: #008080; font-weight: bold\">40</span><span style=\"font-weight: bold\">]</span>\n",
       " <span style=\"font-weight: bold\">[</span><span style=\"color: #008080; text-decoration-color: #008080; font-weight: bold\">71</span> <span style=\"color: #008080; text-decoration-color: #008080; font-weight: bold\">41</span> <span style=\"color: #008080; text-decoration-color: #008080; font-weight: bold\">26</span> <span style=\"color: #008080; text-decoration-color: #008080; font-weight: bold\">96</span> <span style=\"color: #008080; text-decoration-color: #008080; font-weight: bold\">85</span><span style=\"font-weight: bold\">]]</span>\n",
       "</pre>\n"
      ],
      "text/plain": [
       "\u001b[1m[\u001b[0m\u001b[1m[\u001b[0m\u001b[1;36m64\u001b[0m \u001b[1;36m14\u001b[0m \u001b[1;36m72\u001b[0m \u001b[1;36m69\u001b[0m \u001b[1;36m58\u001b[0m\u001b[1m]\u001b[0m\n",
       " \u001b[1m[\u001b[0m\u001b[1;36m10\u001b[0m  \u001b[1;36m8\u001b[0m \u001b[1;36m57\u001b[0m \u001b[1;36m99\u001b[0m \u001b[1;36m56\u001b[0m\u001b[1m]\u001b[0m\n",
       " \u001b[1m[\u001b[0m\u001b[1;36m33\u001b[0m \u001b[1;36m36\u001b[0m \u001b[1;36m13\u001b[0m \u001b[1;36m79\u001b[0m \u001b[1;36m44\u001b[0m\u001b[1m]\u001b[0m\n",
       " \u001b[1m[\u001b[0m\u001b[1;36m10\u001b[0m \u001b[1;36m86\u001b[0m \u001b[1;36m54\u001b[0m \u001b[1;36m96\u001b[0m \u001b[1;36m40\u001b[0m\u001b[1m]\u001b[0m\n",
       " \u001b[1m[\u001b[0m\u001b[1;36m71\u001b[0m \u001b[1;36m41\u001b[0m \u001b[1;36m26\u001b[0m \u001b[1;36m96\u001b[0m \u001b[1;36m85\u001b[0m\u001b[1m]\u001b[0m\u001b[1m]\u001b[0m\n"
      ]
     },
     "metadata": {},
     "output_type": "display_data"
    },
    {
     "data": {
      "text/html": [
       "<pre style=\"white-space:pre;overflow-x:auto;line-height:normal;font-family:Menlo,'DejaVu Sans Mono',consolas,'Courier New',monospace\">MAX <span style=\"color: #008080; text-decoration-color: #008080; font-weight: bold\">99</span>\n",
       "</pre>\n"
      ],
      "text/plain": [
       "MAX \u001b[1;36m99\u001b[0m\n"
      ]
     },
     "metadata": {},
     "output_type": "display_data"
    },
    {
     "data": {
      "text/html": [
       "<pre style=\"white-space:pre;overflow-x:auto;line-height:normal;font-family:Menlo,'DejaVu Sans Mono',consolas,'Courier New',monospace\">MIN <span style=\"color: #008080; text-decoration-color: #008080; font-weight: bold\">8</span>\n",
       "</pre>\n"
      ],
      "text/plain": [
       "MIN \u001b[1;36m8\u001b[0m\n"
      ]
     },
     "metadata": {},
     "output_type": "display_data"
    },
    {
     "data": {
      "text/html": [
       "<pre style=\"white-space:pre;overflow-x:auto;line-height:normal;font-family:Menlo,'DejaVu Sans Mono',consolas,'Courier New',monospace\">Vertical min <span style=\"font-weight: bold\">[</span><span style=\"color: #008080; text-decoration-color: #008080; font-weight: bold\">10</span>  <span style=\"color: #008080; text-decoration-color: #008080; font-weight: bold\">8</span> <span style=\"color: #008080; text-decoration-color: #008080; font-weight: bold\">13</span> <span style=\"color: #008080; text-decoration-color: #008080; font-weight: bold\">69</span> <span style=\"color: #008080; text-decoration-color: #008080; font-weight: bold\">40</span><span style=\"font-weight: bold\">]</span>\n",
       "</pre>\n"
      ],
      "text/plain": [
       "Vertical min \u001b[1m[\u001b[0m\u001b[1;36m10\u001b[0m  \u001b[1;36m8\u001b[0m \u001b[1;36m13\u001b[0m \u001b[1;36m69\u001b[0m \u001b[1;36m40\u001b[0m\u001b[1m]\u001b[0m\n"
      ]
     },
     "metadata": {},
     "output_type": "display_data"
    },
    {
     "data": {
      "text/html": [
       "<pre style=\"white-space:pre;overflow-x:auto;line-height:normal;font-family:Menlo,'DejaVu Sans Mono',consolas,'Courier New',monospace\">Vertical max <span style=\"font-weight: bold\">[</span><span style=\"color: #008080; text-decoration-color: #008080; font-weight: bold\">71</span> <span style=\"color: #008080; text-decoration-color: #008080; font-weight: bold\">86</span> <span style=\"color: #008080; text-decoration-color: #008080; font-weight: bold\">72</span> <span style=\"color: #008080; text-decoration-color: #008080; font-weight: bold\">99</span> <span style=\"color: #008080; text-decoration-color: #008080; font-weight: bold\">85</span><span style=\"font-weight: bold\">]</span>\n",
       "</pre>\n"
      ],
      "text/plain": [
       "Vertical max \u001b[1m[\u001b[0m\u001b[1;36m71\u001b[0m \u001b[1;36m86\u001b[0m \u001b[1;36m72\u001b[0m \u001b[1;36m99\u001b[0m \u001b[1;36m85\u001b[0m\u001b[1m]\u001b[0m\n"
      ]
     },
     "metadata": {},
     "output_type": "display_data"
    },
    {
     "data": {
      "text/html": [
       "<pre style=\"white-space:pre;overflow-x:auto;line-height:normal;font-family:Menlo,'DejaVu Sans Mono',consolas,'Courier New',monospace\">Total SUM <span style=\"color: #008080; text-decoration-color: #008080; font-weight: bold\">1317</span>\n",
       "</pre>\n"
      ],
      "text/plain": [
       "Total SUM \u001b[1;36m1317\u001b[0m\n"
      ]
     },
     "metadata": {},
     "output_type": "display_data"
    },
    {
     "data": {
      "text/html": [
       "<pre style=\"white-space:pre;overflow-x:auto;line-height:normal;font-family:Menlo,'DejaVu Sans Mono',consolas,'Courier New',monospace\">Printing the sum of each row : \n",
       "</pre>\n"
      ],
      "text/plain": [
       "Printing the sum of each row : \n"
      ]
     },
     "metadata": {},
     "output_type": "display_data"
    },
    {
     "data": {
      "text/html": [
       "<pre style=\"white-space:pre;overflow-x:auto;line-height:normal;font-family:Menlo,'DejaVu Sans Mono',consolas,'Courier New',monospace\"><span style=\"font-weight: bold\">[</span><span style=\"color: #008080; text-decoration-color: #008080; font-weight: bold\">277</span> <span style=\"color: #008080; text-decoration-color: #008080; font-weight: bold\">230</span> <span style=\"color: #008080; text-decoration-color: #008080; font-weight: bold\">205</span> <span style=\"color: #008080; text-decoration-color: #008080; font-weight: bold\">286</span> <span style=\"color: #008080; text-decoration-color: #008080; font-weight: bold\">319</span><span style=\"font-weight: bold\">]</span>\n",
       "</pre>\n"
      ],
      "text/plain": [
       "\u001b[1m[\u001b[0m\u001b[1;36m277\u001b[0m \u001b[1;36m230\u001b[0m \u001b[1;36m205\u001b[0m \u001b[1;36m286\u001b[0m \u001b[1;36m319\u001b[0m\u001b[1m]\u001b[0m\n"
      ]
     },
     "metadata": {},
     "output_type": "display_data"
    },
    {
     "data": {
      "text/html": [
       "<pre style=\"white-space:pre;overflow-x:auto;line-height:normal;font-family:Menlo,'DejaVu Sans Mono',consolas,'Courier New',monospace\">Replacing all the values which are &gt;<span style=\"color: #008080; text-decoration-color: #008080; font-weight: bold\">50</span> with <span style=\"color: #008080; text-decoration-color: #008080; font-weight: bold\">-1</span>\n",
       " <span style=\"font-weight: bold\">[[</span><span style=\"color: #008080; text-decoration-color: #008080; font-weight: bold\">-1</span> <span style=\"color: #008080; text-decoration-color: #008080; font-weight: bold\">14</span> <span style=\"color: #008080; text-decoration-color: #008080; font-weight: bold\">-1</span> <span style=\"color: #008080; text-decoration-color: #008080; font-weight: bold\">-1</span> <span style=\"color: #008080; text-decoration-color: #008080; font-weight: bold\">-1</span><span style=\"font-weight: bold\">]</span>\n",
       " <span style=\"font-weight: bold\">[</span><span style=\"color: #008080; text-decoration-color: #008080; font-weight: bold\">10</span>  <span style=\"color: #008080; text-decoration-color: #008080; font-weight: bold\">8</span> <span style=\"color: #008080; text-decoration-color: #008080; font-weight: bold\">-1</span> <span style=\"color: #008080; text-decoration-color: #008080; font-weight: bold\">-1</span> <span style=\"color: #008080; text-decoration-color: #008080; font-weight: bold\">-1</span><span style=\"font-weight: bold\">]</span>\n",
       " <span style=\"font-weight: bold\">[</span><span style=\"color: #008080; text-decoration-color: #008080; font-weight: bold\">33</span> <span style=\"color: #008080; text-decoration-color: #008080; font-weight: bold\">36</span> <span style=\"color: #008080; text-decoration-color: #008080; font-weight: bold\">13</span> <span style=\"color: #008080; text-decoration-color: #008080; font-weight: bold\">-1</span> <span style=\"color: #008080; text-decoration-color: #008080; font-weight: bold\">44</span><span style=\"font-weight: bold\">]</span>\n",
       " <span style=\"font-weight: bold\">[</span><span style=\"color: #008080; text-decoration-color: #008080; font-weight: bold\">10</span> <span style=\"color: #008080; text-decoration-color: #008080; font-weight: bold\">-1</span> <span style=\"color: #008080; text-decoration-color: #008080; font-weight: bold\">-1</span> <span style=\"color: #008080; text-decoration-color: #008080; font-weight: bold\">-1</span> <span style=\"color: #008080; text-decoration-color: #008080; font-weight: bold\">40</span><span style=\"font-weight: bold\">]</span>\n",
       " <span style=\"font-weight: bold\">[</span><span style=\"color: #008080; text-decoration-color: #008080; font-weight: bold\">-1</span> <span style=\"color: #008080; text-decoration-color: #008080; font-weight: bold\">41</span> <span style=\"color: #008080; text-decoration-color: #008080; font-weight: bold\">26</span> <span style=\"color: #008080; text-decoration-color: #008080; font-weight: bold\">-1</span> <span style=\"color: #008080; text-decoration-color: #008080; font-weight: bold\">-1</span><span style=\"font-weight: bold\">]]</span>\n",
       "</pre>\n"
      ],
      "text/plain": [
       "Replacing all the values which are >\u001b[1;36m50\u001b[0m with \u001b[1;36m-1\u001b[0m\n",
       " \u001b[1m[\u001b[0m\u001b[1m[\u001b[0m\u001b[1;36m-1\u001b[0m \u001b[1;36m14\u001b[0m \u001b[1;36m-1\u001b[0m \u001b[1;36m-1\u001b[0m \u001b[1;36m-1\u001b[0m\u001b[1m]\u001b[0m\n",
       " \u001b[1m[\u001b[0m\u001b[1;36m10\u001b[0m  \u001b[1;36m8\u001b[0m \u001b[1;36m-1\u001b[0m \u001b[1;36m-1\u001b[0m \u001b[1;36m-1\u001b[0m\u001b[1m]\u001b[0m\n",
       " \u001b[1m[\u001b[0m\u001b[1;36m33\u001b[0m \u001b[1;36m36\u001b[0m \u001b[1;36m13\u001b[0m \u001b[1;36m-1\u001b[0m \u001b[1;36m44\u001b[0m\u001b[1m]\u001b[0m\n",
       " \u001b[1m[\u001b[0m\u001b[1;36m10\u001b[0m \u001b[1;36m-1\u001b[0m \u001b[1;36m-1\u001b[0m \u001b[1;36m-1\u001b[0m \u001b[1;36m40\u001b[0m\u001b[1m]\u001b[0m\n",
       " \u001b[1m[\u001b[0m\u001b[1;36m-1\u001b[0m \u001b[1;36m41\u001b[0m \u001b[1;36m26\u001b[0m \u001b[1;36m-1\u001b[0m \u001b[1;36m-1\u001b[0m\u001b[1m]\u001b[0m\u001b[1m]\u001b[0m\n"
      ]
     },
     "metadata": {},
     "output_type": "display_data"
    }
   ],
   "source": [
    "'''Generate a 5x5 matrix with random integers between 1 and 100.\n",
    "Find the maximum and minimum value in the matrix\n",
    "Find the sum of each row\n",
    "Replace all values greater than 50 with -1\n",
    "'''\n",
    "a = np.random.randint(1, 101, (5,5,))\n",
    "print(a)\n",
    "print(\"MAX\",np.max(a))\n",
    "print(\"MIN\",np.min(a))\n",
    "print(\"Vertical min\", np.min(a, axis = 0))\n",
    "print(\"Vertical max\", np.max(a, axis = 0))\n",
    "print(\"Total SUM\",np.sum(a))\n",
    "print(\"Printing the sum of each row : \")\n",
    "print(np.sum(a, axis = 1))\n",
    "a[a>50] = -1\n",
    "print(\"Replacing all the values which are >50 with -1\\n\",a)"
   ]
  },
  {
   "cell_type": "code",
   "execution_count": 127,
   "id": "bc7ca091-9e1c-4d6f-b486-a544071b488a",
   "metadata": {},
   "outputs": [],
   "source": []
  },
  {
   "cell_type": "code",
   "execution_count": null,
   "id": "12c16ddf-bf50-4c76-8a4b-37c2ed3b5e84",
   "metadata": {},
   "outputs": [],
   "source": []
  },
  {
   "cell_type": "code",
   "execution_count": null,
   "id": "80c349b2-5718-4f0f-a7fb-3f2a94897e17",
   "metadata": {},
   "outputs": [],
   "source": []
  },
  {
   "cell_type": "code",
   "execution_count": null,
   "id": "b8273e97-7469-4835-9b92-84daa70385c0",
   "metadata": {},
   "outputs": [],
   "source": []
  }
 ],
 "metadata": {
  "kernelspec": {
   "display_name": "Python [conda env:base] *",
   "language": "python",
   "name": "conda-base-py"
  },
  "language_info": {
   "codemirror_mode": {
    "name": "ipython",
    "version": 3
   },
   "file_extension": ".py",
   "mimetype": "text/x-python",
   "name": "python",
   "nbconvert_exporter": "python",
   "pygments_lexer": "ipython3",
   "version": "3.12.7"
  }
 },
 "nbformat": 4,
 "nbformat_minor": 5
}
