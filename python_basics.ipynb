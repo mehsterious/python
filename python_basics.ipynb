{
 "cells": [
  {
   "cell_type": "code",
   "execution_count": 62,
   "id": "a7349c6e-dd78-4411-bd60-450f42fe8527",
   "metadata": {
    "scrolled": true
   },
   "outputs": [
    {
     "name": "stdout",
     "output_type": "stream",
     "text": [
      "46\n",
      "   \"WHAT WE DO IN LIFE, ECHOS IN ETERNITY\"    \n",
      "   \"what we do in life, echos in eternity\"    \n",
      "   \"What we do in LIFE, echos in eternity\"    \n",
      "number of e's in the sentence  5\n",
      "18\n",
      "\"What we do in life, echos in eternity\"\n",
      "T\n",
      "INTERST\n",
      "ITRTLA\n",
      "RALLETSRETNI\n",
      "True\n",
      "False\n",
      "Palindrome 12321\n"
     ]
    },
    {
     "name": "stdin",
     "output_type": "stream",
     "text": [
      "Enter the Number :  154\n"
     ]
    },
    {
     "name": "stdout",
     "output_type": "stream",
     "text": [
      "Number is not a Palindrome.\n"
     ]
    }
   ],
   "source": [
    "x = '''   \"What we do in life, echos in eternity\"    '''\n",
    "y = 'INTERSTELLAR'\n",
    "z = 12321\n",
    "print(len(x))\n",
    "print(x.upper())\n",
    "print(x.lower())\n",
    "print(x.replace(\"life\", \"LIFE\"))\n",
    "print(\"number of e's in the sentence \"  ,x.count('e'))\n",
    "print(x.find('life', 2))\n",
    "print(x.strip())\n",
    "print(y[2])\n",
    "print(y[0:7])\n",
    "print(y[0:15:2])\n",
    "print(y[::-1])\n",
    "print(y.startswith('IN'))\n",
    "print(y.startswith('in'))\n",
    "\n",
    "if str(z)==str(z)[::-1]:\n",
    "    print('Palindrome', z)\n",
    "else :\n",
    "    print('Not a Palindrome')\n",
    "\n",
    "num = int(input(\"Enter the Number : \"))\n",
    "if str(num)==str(num)[::-1]:\n",
    "    print('Number is Palindrome.')\n",
    "else :\n",
    "    print('Number is not a Palindrome.')\n",
    "\n"
   ]
  },
  {
   "cell_type": "code",
   "execution_count": 2,
   "id": "3625290f-fec8-42a4-baaa-9d7959394f08",
   "metadata": {},
   "outputs": [
    {
     "name": "stdout",
     "output_type": "stream",
     "text": [
      "1 : Volwels and Consonants\n"
     ]
    },
    {
     "name": "stdin",
     "output_type": "stream",
     "text": [
      "Enter text here :  csadcsd\n"
     ]
    },
    {
     "name": "stdout",
     "output_type": "stream",
     "text": [
      "Consonants count is :  6\n",
      "Vowels count is : 1\n",
      "2 : Check if the given Character is a volwel or a consonant\n"
     ]
    },
    {
     "name": "stdin",
     "output_type": "stream",
     "text": [
      "Enter Character here :  csd\n"
     ]
    },
    {
     "name": "stdout",
     "output_type": "stream",
     "text": [
      "Consonant\n"
     ]
    }
   ],
   "source": [
    "print(\"1 : Volwels and Consonants\")\n",
    "x1 = input(\"Enter text here : \")\n",
    "vcount = 0\n",
    "ccount = 0\n",
    "vowels = 'aeiouAEIOU'\n",
    "for char in x1:\n",
    "    if char in vowels:\n",
    "        vcount+=1  \n",
    "    else:\n",
    "        ccount+=1\n",
    "print(\"Consonants count is : \", ccount)        \n",
    "print(\"Vowels count is :\", vcount)\n",
    "\n",
    "\n",
    "print(\"2 : Check if the given Character is a volwel or a consonant\")\n",
    "x2  =input(\"Enter Character here : \")\n",
    "if x2 in vowels:\n",
    "    print(\"Vowel\")\n",
    "else:\n",
    "    print(\"Consonant\")\n"
   ]
  },
  {
   "cell_type": "code",
   "execution_count": 92,
   "id": "a8def971-e89f-4602-9976-651c6d9b6156",
   "metadata": {},
   "outputs": [
    {
     "name": "stdout",
     "output_type": "stream",
     "text": [
      "Enumerate function\n",
      "1 = N\n",
      "3 = E\n",
      "5 = S\n",
      "7 = E\n",
      "9 = L\n",
      "11 = R\n"
     ]
    }
   ],
   "source": [
    "print(\"Enumerate function\")\n",
    "for index, char in enumerate(y):\n",
    "    if index %2!= 0:\n",
    "        print(f'{index} = {char}')"
   ]
  },
  {
   "cell_type": "code",
   "execution_count": 115,
   "id": "91f9bc5f-884e-4dac-904a-d15ad4469b17",
   "metadata": {},
   "outputs": [
    {
     "name": "stdout",
     "output_type": "stream",
     "text": [
      "Python program to remove given character from String.\n",
      "Removed letter is L INTERSTEAR\n",
      "Default string INTERSTELLAR\n",
      "Removing spaces and Replacing\n",
      "Defaut stirng is :  BAT POD\n",
      "REPLACED STRING IS  :  BAT-POD\n"
     ]
    }
   ],
   "source": [
    "print (\"Python program to remove given character from String.\")\n",
    "print(\"Removed letter is L\", y.replace(\"L\", \"\"))\n",
    "print(\"Default string\",y)\n",
    "s1 = \"BAT POD\"\n",
    "print(\"Removing spaces and Replacing\")\n",
    "print(\"Defaut stirng is : \", s1)\n",
    "print(\"REPLACED STRING IS  : \",s1.replace(\" \", \"-\"))"
   ]
  },
  {
   "cell_type": "code",
   "execution_count": 1,
   "id": "30079eb1-98cd-47af-8227-fd515985c7c8",
   "metadata": {},
   "outputs": [
    {
     "name": "stdout",
     "output_type": "stream",
     "text": [
      "Alphanumeric of not :  True\n",
      "Digit or not :  False\n",
      "False\n",
      "True\n"
     ]
    }
   ],
   "source": [
    "s1 = \"Bat6789\"\n",
    "s2 = \"@#$^%\"\n",
    "s3 = \" \"\n",
    "print(\"Alphanumeric of not : \", s1.isalnum())\n",
    "print(\"Digit or not : \",s1.isdigit())\n",
    "print(s2.isalnum())\n",
    "print(s3.isspace())"
   ]
  },
  {
   "cell_type": "code",
   "execution_count": 11,
   "id": "b3442506-b2bc-463b-afb9-619514a33e6c",
   "metadata": {},
   "outputs": [
    {
     "name": "stdin",
     "output_type": "stream",
     "text": [
      "Enter a string:  mehu;l\n"
     ]
    },
    {
     "name": "stdout",
     "output_type": "stream",
     "text": [
      "String without vowels: mh;l\n"
     ]
    }
   ],
   "source": [
    "s1 = input(\"Enter a string: \")\n",
    "vowels = \"aeiouAEIOU\"\n",
    "vresult = \"\"\n",
    "\n",
    "for char in s1:\n",
    "    if char not in vowels:\n",
    "        vresult += char\n",
    "\n",
    "print(\"String without vowels:\", vresult)\n"
   ]
  },
  {
   "cell_type": "code",
   "execution_count": 22,
   "id": "00018dca-e8c6-4d0d-8357-9d2ddfd9f9f9",
   "metadata": {},
   "outputs": [
    {
     "data": {
      "text/plain": [
       "12"
      ]
     },
     "execution_count": 22,
     "metadata": {},
     "output_type": "execute_result"
    }
   ],
   "source": [
    "def addition(a, b):\n",
    "    c= a+b\n",
    "    return c\n",
    "addition(4, 8)"
   ]
  },
  {
   "cell_type": "code",
   "execution_count": 19,
   "id": "f4dc4516-96a6-48d4-989c-ab97d8e3f1c1",
   "metadata": {},
   "outputs": [
    {
     "data": {
      "text/plain": [
       "1.0"
      ]
     },
     "execution_count": 19,
     "metadata": {},
     "output_type": "execute_result"
    }
   ],
   "source": [
    "def division(a, b):\n",
    "    c= a/b\n",
    "    return c\n",
    "division(5, 5)"
   ]
  },
  {
   "cell_type": "code",
   "execution_count": 20,
   "id": "b2b5d849-3132-4a2c-987f-2d24f396a417",
   "metadata": {},
   "outputs": [
    {
     "data": {
      "text/plain": [
       "40"
      ]
     },
     "execution_count": 20,
     "metadata": {},
     "output_type": "execute_result"
    }
   ],
   "source": [
    "\n",
    "def multiplication(a, b):\n",
    "    c= a*b\n",
    "    return c\n",
    "multiplication(5, 8)\n"
   ]
  },
  {
   "cell_type": "code",
   "execution_count": 21,
   "id": "a4ae3e7d-0844-4103-9ba0-e1e548f5fcc2",
   "metadata": {},
   "outputs": [
    {
     "data": {
      "text/plain": [
       "-3"
      ]
     },
     "execution_count": 21,
     "metadata": {},
     "output_type": "execute_result"
    }
   ],
   "source": [
    "\n",
    "def substraction(a, b):\n",
    "    c= a-b\n",
    "    return c\n",
    "substraction(5, 8)\n"
   ]
  },
  {
   "cell_type": "code",
   "execution_count": 33,
   "id": "668c0b3f-6c5d-409f-b1cd-20fff016a9cc",
   "metadata": {},
   "outputs": [
    {
     "name": "stdout",
     "output_type": "stream",
     "text": [
      "a = 100\n",
      "local x =  200\n",
      "global x value  7\n"
     ]
    }
   ],
   "source": [
    "def display():\n",
    "    a=100 \n",
    "    x=200\n",
    "    print(\"a =\",a)\n",
    "    print(\"local x = \",x) \n",
    "    print(\"global value \",globals()['x'])\n",
    "\n",
    "display()"
   ]
  },
  {
   "cell_type": "code",
   "execution_count": 35,
   "id": "abf5a5fc-8206-4877-a99a-79db2a4b3c45",
   "metadata": {},
   "outputs": [
    {
     "name": "stdout",
     "output_type": "stream",
     "text": [
      "sum = 45\n"
     ]
    }
   ],
   "source": [
    "def calculate(*nos):\n",
    "    sum=0\n",
    "    for i in nos:\n",
    "        sum+=i\n",
    "    print(\"sum =\",sum)\n",
    "       \n",
    "calculate(5,6,9,5,5,5,5,5)"
   ]
  },
  {
   "cell_type": "code",
   "execution_count": 11,
   "id": "0a21c3dc-1dab-4b60-afc6-8ec49020fe29",
   "metadata": {},
   "outputs": [
    {
     "name": "stdout",
     "output_type": "stream",
     "text": [
      "20 and 10\n",
      "10  and   20\n"
     ]
    }
   ],
   "source": [
    "#SWAPPPING VALUES\n",
    "a = 10\n",
    "b = 20\n",
    "\n",
    "a, b = b, a\n",
    "print(f\"{a} and {b}\")\n",
    "#--------------------------------------\n",
    "temp = a\n",
    "a = b\n",
    "b = temp\n",
    "print(f\"{a}  and   {b}\")"
   ]
  },
  {
   "cell_type": "code",
   "execution_count": 10,
   "id": "8bf1f58d-c582-4c15-99bd-1d22ef4643c1",
   "metadata": {},
   "outputs": [
    {
     "name": "stdin",
     "output_type": "stream",
     "text": [
      "Enter username :  dvlsnd\n",
      "Enter Password :  cjkdsnck\n"
     ]
    },
    {
     "name": "stdout",
     "output_type": "stream",
     "text": [
      "False\n"
     ]
    }
   ],
   "source": [
    "username = \"mehsterious@\"\n",
    "password = \"mehbat7\"\n",
    "u = input(\"Enter username : \")\n",
    "p = input(\"Enter Password : \")\n",
    "print(u == username and p == password)"
   ]
  },
  {
   "cell_type": "code",
   "execution_count": 17,
   "id": "732e47d6-3ca1-4885-8d35-a1fc90cefd6f",
   "metadata": {},
   "outputs": [
    {
     "name": "stdin",
     "output_type": "stream",
     "text": [
      "Enter age here :  45\n"
     ]
    },
    {
     "name": "stdout",
     "output_type": "stream",
     "text": [
      "Valid age\n"
     ]
    }
   ],
   "source": [
    "age = int(input(\"Enter age here : \"))\n",
    "if age >=18:\n",
    "    print(\"Valid age\")\n",
    "else:\n",
    "    print(\"Not a valid age\")"
   ]
  },
  {
   "cell_type": "code",
   "execution_count": null,
   "id": "2bfc92ad-873a-4952-a7ec-1b13d5e22f50",
   "metadata": {},
   "outputs": [],
   "source": []
  }
 ],
 "metadata": {
  "kernelspec": {
   "display_name": "Python [conda env:base] *",
   "language": "python",
   "name": "conda-base-py"
  },
  "language_info": {
   "codemirror_mode": {
    "name": "ipython",
    "version": 3
   },
   "file_extension": ".py",
   "mimetype": "text/x-python",
   "name": "python",
   "nbconvert_exporter": "python",
   "pygments_lexer": "ipython3",
   "version": "3.12.7"
  }
 },
 "nbformat": 4,
 "nbformat_minor": 5
}
