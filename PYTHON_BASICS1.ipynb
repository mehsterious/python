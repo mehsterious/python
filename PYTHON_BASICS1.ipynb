{
 "cells": [
  {
   "cell_type": "code",
   "execution_count": 6,
   "id": "dc4c4e4c-b7c0-48a9-b554-fb0053d50080",
   "metadata": {},
   "outputs": [
    {
     "name": "stdin",
     "output_type": "stream",
     "text": [
      "Enter Length and Breadth here one by one ::  5 5\n"
     ]
    },
    {
     "name": "stdout",
     "output_type": "stream",
     "text": [
      "Area of rectangle is = 25\n"
     ]
    }
   ],
   "source": [
    "# AREA OF RECTANGLE\n",
    "length, breadth = map(int,input(\"Enter Length and Breadth here one by one :: \").split())\n",
    "\n",
    "AREA = length * breadth\n",
    "print(f\"Area of rectangle is = {AREA}\")"
   ]
  },
  {
   "cell_type": "code",
   "execution_count": 7,
   "id": "62370b77-5b66-4e8a-8218-dc2d5f73277b",
   "metadata": {},
   "outputs": [
    {
     "name": "stdin",
     "output_type": "stream",
     "text": [
      "Enter base and height here :  4 5\n"
     ]
    },
    {
     "name": "stdout",
     "output_type": "stream",
     "text": [
      "Area of traingle is :  10.0\n"
     ]
    }
   ],
   "source": [
    "# Area of Triangle\n",
    "base, height = map(int, input(\"Enter base and height here : \").split())\n",
    "area  = 1/2* base * height\n",
    "print(\"Area of traingle is : \", area)"
   ]
  },
  {
   "cell_type": "code",
   "execution_count": 15,
   "id": "005139da-4248-494a-9533-a68d8b9faaf4",
   "metadata": {},
   "outputs": [
    {
     "name": "stdin",
     "output_type": "stream",
     "text": [
      "Enter number here :  7\n"
     ]
    },
    {
     "name": "stdout",
     "output_type": "stream",
     "text": [
      "Square of athe number is :  49\n"
     ]
    }
   ],
   "source": [
    "#Square ofa  given number\n",
    "a = int(input(\"Enter number here : \"))\n",
    "result = a ** 2\n",
    "print(\"Square of athe number is : \", result)"
   ]
  },
  {
   "cell_type": "code",
   "execution_count": 16,
   "id": "1f8147db-29cd-44f0-adf0-fd82036f5741",
   "metadata": {},
   "outputs": [
    {
     "name": "stdin",
     "output_type": "stream",
     "text": [
      "Enter number here :  3\n"
     ]
    },
    {
     "name": "stdout",
     "output_type": "stream",
     "text": [
      "Cube of athe number is :  27\n"
     ]
    }
   ],
   "source": [
    "#Cube ofa  given number\n",
    "a = int(input(\"Enter number here : \"))\n",
    "result = a ** 3\n",
    "print(\"Cube of athe number is : \", result)"
   ]
  },
  {
   "cell_type": "code",
   "execution_count": 21,
   "id": "acacf2ab-fb8a-435c-ad85-eb44903782db",
   "metadata": {},
   "outputs": [
    {
     "name": "stdin",
     "output_type": "stream",
     "text": [
      "Enter only 5 subject marks here :  85 74 75 95 74 \n"
     ]
    },
    {
     "name": "stdout",
     "output_type": "stream",
     "text": [
      "The total marks is 403 out of 500 and the percentage is 80.6\n"
     ]
    }
   ],
   "source": [
    "#Write a Python program to enter marks of five subjects and calculate total, and percentage\n",
    "history, maths, geo, eco, art = map(int, input(\"Enter only 5 subject marks here : \").split())\n",
    "total = history+maths+geo+eco+art\n",
    "percentage = total/5\n",
    "print(f\"The total marks is {total} out of 500 and the percentage is {percentage}\")"
   ]
  },
  {
   "cell_type": "code",
   "execution_count": 26,
   "id": "15ea5344-0244-410c-bc69-cf2adf8a2375",
   "metadata": {},
   "outputs": [
    {
     "name": "stdin",
     "output_type": "stream",
     "text": [
      "Enter mark here for subjet 1: 85\n",
      "Enter mark here for subjet 2: 85\n",
      "Enter mark here for subjet 3: 85\n",
      "Enter mark here for subjet 4: 85\n",
      "Enter mark here for subjet 5: 85\n"
     ]
    },
    {
     "name": "stdout",
     "output_type": "stream",
     "text": [
      "The total marks is 425.0 out of 500 and the percentage is 85.0\n"
     ]
    }
   ],
   "source": [
    "# using for in and list\n",
    "marks =  []\n",
    "for i in range(1, 6):\n",
    "    mark = float(input(f\"Enter mark here for subjet {i}:\"))\n",
    "    marks.append(mark)\n",
    "total = sum(marks)\n",
    "per = total/5\n",
    "print(f\"The total marks is {total} out of 500 and the percentage is {per}\")"
   ]
  },
  {
   "cell_type": "code",
   "execution_count": 33,
   "id": "d887234a-1c3b-47e3-a938-29a3d68515f8",
   "metadata": {},
   "outputs": [
    {
     "name": "stdin",
     "output_type": "stream",
     "text": [
      "Enter P, T, R in this sequence here :  4000 12 4\n"
     ]
    },
    {
     "name": "stdout",
     "output_type": "stream",
     "text": [
      "The SI is :  1920.0\n"
     ]
    }
   ],
   "source": [
    "P, T, R = map(float, input(\"Enter P, T, R in this sequence here : \").split())\n",
    "si = (P*T*R)/100\n",
    "print(\"The SI is : \", si)"
   ]
  },
  {
   "cell_type": "code",
   "execution_count": 34,
   "id": "ecf5fcc0-2cce-4359-8d0d-2e2e13a38535",
   "metadata": {},
   "outputs": [
    {
     "name": "stdout",
     "output_type": "stream",
     "text": [
      "1920.0\n"
     ]
    }
   ],
   "source": [
    "print((4000*12*4)/100)"
   ]
  },
  {
   "cell_type": "code",
   "execution_count": 35,
   "id": "3959c522-e509-461b-a90e-9489b6d2934f",
   "metadata": {},
   "outputs": [
    {
     "name": "stdin",
     "output_type": "stream",
     "text": [
      "Enter Length and Breadth here one by one ::  5 5\n"
     ]
    },
    {
     "name": "stdout",
     "output_type": "stream",
     "text": [
      "Area of rectangle is = 50\n"
     ]
    }
   ],
   "source": [
    "# PERIMETER OF RECTANGLE\n",
    "length, breadth = map(int,input(\"Enter Length and Breadth here one by one :: \").split())\n",
    "\n",
    "P = 2*(length * breadth)\n",
    "print(f\"Area of rectangle is = {P}\")"
   ]
  },
  {
   "cell_type": "code",
   "execution_count": null,
   "id": "50d23d80-60b7-4606-b861-8b05360f2e33",
   "metadata": {},
   "outputs": [],
   "source": []
  }
 ],
 "metadata": {
  "kernelspec": {
   "display_name": "Python [conda env:base] *",
   "language": "python",
   "name": "conda-base-py"
  },
  "language_info": {
   "codemirror_mode": {
    "name": "ipython",
    "version": 3
   },
   "file_extension": ".py",
   "mimetype": "text/x-python",
   "name": "python",
   "nbconvert_exporter": "python",
   "pygments_lexer": "ipython3",
   "version": "3.12.7"
  }
 },
 "nbformat": 4,
 "nbformat_minor": 5
}
