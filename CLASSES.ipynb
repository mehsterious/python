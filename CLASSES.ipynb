{
 "cells": [
  {
   "cell_type": "code",
   "execution_count": 11,
   "id": "a7552226-c06b-454f-8719-16fc1601c07a",
   "metadata": {},
   "outputs": [
    {
     "name": "stdout",
     "output_type": "stream",
     "text": [
      "Requirement already satisfied: rich in c:\\users\\mehul\\anaconda3\\lib\\site-packages (13.7.1)\n",
      "Requirement already satisfied: markdown-it-py>=2.2.0 in c:\\users\\mehul\\anaconda3\\lib\\site-packages (from rich) (2.2.0)\n",
      "Requirement already satisfied: pygments<3.0.0,>=2.13.0 in c:\\users\\mehul\\anaconda3\\lib\\site-packages (from rich) (2.15.1)\n",
      "Requirement already satisfied: mdurl~=0.1 in c:\\users\\mehul\\anaconda3\\lib\\site-packages (from markdown-it-py>=2.2.0->rich) (0.1.0)\n",
      "Note: you may need to restart the kernel to use updated packages.\n"
     ]
    }
   ],
   "source": [
    "pip install rich"
   ]
  },
  {
   "cell_type": "code",
   "execution_count": 9,
   "id": "fb41ceaa-192a-4294-87a0-f6d92b1fc739",
   "metadata": {},
   "outputs": [
    {
     "data": {
      "text/html": [
       "<pre style=\"white-space:pre;overflow-x:auto;line-height:normal;font-family:Menlo,'DejaVu Sans Mono',consolas,'Courier New',monospace\">This is the default theme text!\n",
       "</pre>\n"
      ],
      "text/plain": [
       "This is the default theme text!\n"
      ]
     },
     "metadata": {},
     "output_type": "display_data"
    }
   ],
   "source": [
    "from rich.console import Console\n",
    "\n",
    "# Create a new console without passing any custom theme\n",
    "console = Console()\n",
    "\n",
    "# Now, it will use the default theme\n",
    "console.print(\"This is the default theme text!\")\n"
   ]
  },
  {
   "cell_type": "code",
   "execution_count": 96,
   "id": "87c320f0-3296-4025-8aac-d89506211c0f",
   "metadata": {},
   "outputs": [
    {
     "name": "stdout",
     "output_type": "stream",
     "text": [
      "\u001b[31mThis is red text\n",
      "\u001b[32mFormatted number: 3.14\n",
      "\u001b[0m\n"
     ]
    }
   ],
   "source": [
    "from colorama import Fore, Style\n",
    "\n",
    "print(Fore.RED + \"This is red text\")\n",
    "print(Fore.GREEN + f\"Formatted number: {3.14159:.2f}\")\n",
    "print(Style.RESET_ALL)\n"
   ]
  },
  {
   "cell_type": "code",
   "execution_count": 5,
   "id": "bb7b8702-23cf-40d4-a78b-95479dab88cc",
   "metadata": {},
   "outputs": [
    {
     "name": "stdout",
     "output_type": "stream",
     "text": [
      "Name : Bruce | Age : 45 | self.salary : 500000\n"
     ]
    }
   ],
   "source": [
    "class Employee():\n",
    "    def __init__(self, name, age, salary):\n",
    "        self.name = name\n",
    "        self.age = age\n",
    "        self.salary = salary\n",
    "    def __str__(self):\n",
    "        return f\"Name : {self.name} | Age : {self.age} | self.salary : {self.salary}\"\n",
    "        \n",
    "e1 = Employee('Bruce',45, 500000)\n",
    "print(e1)"
   ]
  },
  {
   "cell_type": "code",
   "execution_count": 6,
   "id": "b0f6f53e-9da5-4bbe-9d2d-119f373939b2",
   "metadata": {},
   "outputs": [
    {
     "name": "stdout",
     "output_type": "stream",
     "text": [
      "Student name :  Bruce\n",
      "Student roll number :  7\n",
      "Student marks :  77\n"
     ]
    }
   ],
   "source": [
    "class Student():\n",
    "    def __init__(self, name, roll_no, marks):\n",
    "        self.name = name\n",
    "        self.roll_no = roll_no\n",
    "        self.marks = marks\n",
    "    def display(self):\n",
    "        print(\"Student name : \", self.name)\n",
    "        print(\"Student roll number : \", self.roll_no)\n",
    "        print(\"Student marks : \", self.marks)\n",
    "s1= Student(\"Bruce\", 7, 77)\n",
    "#s1.accept(\"Bruce\", 7, 77)\n",
    "s1.display()"
   ]
  },
  {
   "cell_type": "code",
   "execution_count": 16,
   "id": "5aa351e0-450d-4d11-9413-7bd322c65b1f",
   "metadata": {},
   "outputs": [
    {
     "data": {
      "text/html": [
       "<pre style=\"white-space:pre;overflow-x:auto;line-height:normal;font-family:Menlo,'DejaVu Sans Mono',consolas,'Courier New',monospace\">OBJECT <span style=\"color: #008080; text-decoration-color: #008080; font-weight: bold\">1</span>\n",
       "</pre>\n"
      ],
      "text/plain": [
       "OBJECT \u001b[1;36m1\u001b[0m\n"
      ]
     },
     "metadata": {},
     "output_type": "display_data"
    },
    {
     "data": {
      "text/html": [
       "<pre style=\"white-space:pre;overflow-x:auto;line-height:normal;font-family:Menlo,'DejaVu Sans Mono',consolas,'Courier New',monospace\">Employee Name : Bruce\n",
       "</pre>\n"
      ],
      "text/plain": [
       "Employee Name : Bruce\n"
      ]
     },
     "metadata": {},
     "output_type": "display_data"
    },
    {
     "data": {
      "text/html": [
       "<pre style=\"white-space:pre;overflow-x:auto;line-height:normal;font-family:Menlo,'DejaVu Sans Mono',consolas,'Courier New',monospace\">Basic Salary = ₹<span style=\"color: #008080; text-decoration-color: #008080; font-weight: bold\">70000</span>, \n",
       "ALLOWANCES = House Rent : ₹<span style=\"color: #008080; text-decoration-color: #008080; font-weight: bold\">7000</span> | Dearness : ₹<span style=\"color: #008080; text-decoration-color: #008080; font-weight: bold\">5000</span> | Travel : ₹<span style=\"color: #008080; text-decoration-color: #008080; font-weight: bold\">2000</span> | Provident Fund : ₹<span style=\"color: #008080; text-decoration-color: #008080; font-weight: bold\">8400</span>\n",
       "</pre>\n"
      ],
      "text/plain": [
       "Basic Salary = ₹\u001b[1;36m70000\u001b[0m, \n",
       "ALLOWANCES = House Rent : ₹\u001b[1;36m7000\u001b[0m | Dearness : ₹\u001b[1;36m5000\u001b[0m | Travel : ₹\u001b[1;36m2000\u001b[0m | Provident Fund : ₹\u001b[1;36m8400\u001b[0m\n"
      ]
     },
     "metadata": {},
     "output_type": "display_data"
    },
    {
     "data": {
      "text/html": [
       "<pre style=\"white-space:pre;overflow-x:auto;line-height:normal;font-family:Menlo,'DejaVu Sans Mono',consolas,'Courier New',monospace\">Gross Salary = <span style=\"color: #008080; text-decoration-color: #008080; font-weight: bold\">75600</span>\n",
       "</pre>\n"
      ],
      "text/plain": [
       "Gross Salary = \u001b[1;36m75600\u001b[0m\n"
      ]
     },
     "metadata": {},
     "output_type": "display_data"
    },
    {
     "data": {
      "text/html": [
       "<pre style=\"white-space:pre;overflow-x:auto;line-height:normal;font-family:Menlo,'DejaVu Sans Mono',consolas,'Courier New',monospace\">------------------------------\n",
       "</pre>\n"
      ],
      "text/plain": [
       "------------------------------\n"
      ]
     },
     "metadata": {},
     "output_type": "display_data"
    },
    {
     "data": {
      "text/html": [
       "<pre style=\"white-space:pre;overflow-x:auto;line-height:normal;font-family:Menlo,'DejaVu Sans Mono',consolas,'Courier New',monospace\">OBJECT <span style=\"color: #008080; text-decoration-color: #008080; font-weight: bold\">2</span>\n",
       "</pre>\n"
      ],
      "text/plain": [
       "OBJECT \u001b[1;36m2\u001b[0m\n"
      ]
     },
     "metadata": {},
     "output_type": "display_data"
    },
    {
     "data": {
      "text/html": [
       "<pre style=\"white-space:pre;overflow-x:auto;line-height:normal;font-family:Menlo,'DejaVu Sans Mono',consolas,'Courier New',monospace\">Employee Name : Selina\n",
       "</pre>\n"
      ],
      "text/plain": [
       "Employee Name : Selina\n"
      ]
     },
     "metadata": {},
     "output_type": "display_data"
    },
    {
     "data": {
      "text/html": [
       "<pre style=\"white-space:pre;overflow-x:auto;line-height:normal;font-family:Menlo,'DejaVu Sans Mono',consolas,'Courier New',monospace\">Basic Salary = ₹<span style=\"color: #008080; text-decoration-color: #008080; font-weight: bold\">80000</span>, \n",
       "ALLOWANCES = House Rent : ₹<span style=\"color: #008080; text-decoration-color: #008080; font-weight: bold\">10000</span> | Dearness : ₹<span style=\"color: #008080; text-decoration-color: #008080; font-weight: bold\">5000</span> | Travel : ₹<span style=\"color: #008080; text-decoration-color: #008080; font-weight: bold\">1000</span> | Provident Fund : ₹<span style=\"color: #008080; text-decoration-color: #008080; font-weight: bold\">9600</span>\n",
       "</pre>\n"
      ],
      "text/plain": [
       "Basic Salary = ₹\u001b[1;36m80000\u001b[0m, \n",
       "ALLOWANCES = House Rent : ₹\u001b[1;36m10000\u001b[0m | Dearness : ₹\u001b[1;36m5000\u001b[0m | Travel : ₹\u001b[1;36m1000\u001b[0m | Provident Fund : ₹\u001b[1;36m9600\u001b[0m\n"
      ]
     },
     "metadata": {},
     "output_type": "display_data"
    },
    {
     "data": {
      "text/html": [
       "<pre style=\"white-space:pre;overflow-x:auto;line-height:normal;font-family:Menlo,'DejaVu Sans Mono',consolas,'Courier New',monospace\">Gross Salary = <span style=\"color: #008080; text-decoration-color: #008080; font-weight: bold\">86400</span>\n",
       "</pre>\n"
      ],
      "text/plain": [
       "Gross Salary = \u001b[1;36m86400\u001b[0m\n"
      ]
     },
     "metadata": {},
     "output_type": "display_data"
    }
   ],
   "source": [
    "'''\n",
    "# Create Employee class , accept basic salary & allowances like HRA, DA, TA, PF\n",
    "Calculate the gross salary & display\n",
    "Bs+allowances  - PF\n",
    "Create two objects & display data for each object\n",
    "'''\n",
    "class Employee():\n",
    "    def __init__(self, name, basic_salary, HRA, DA, TA, PF):\n",
    "        self.basic_salary = basic_salary\n",
    "        self.HRA = HRA\n",
    "        self.name = name\n",
    "        self.DA = DA\n",
    "        self.TA = TA\n",
    "        self.PF = PF\n",
    "    def calculate(self):    \n",
    "        self.Gross_salary = self.basic_salary+self.HRA+self.DA+self.TA - self.PF\n",
    "    def display(self):\n",
    "        print(\"Employee Name :\",self.name)\n",
    "        print(f\"Basic Salary = ₹{self.basic_salary}, \\nALLOWANCES = House Rent : ₹{self.HRA} | Dearness : ₹{self.DA} | Travel : ₹{self.TA} | Provident Fund : ₹{self.PF}\")\n",
    "        print(\"Gross Salary =\", self.Gross_salary)\n",
    "print(\"OBJECT 1\")\n",
    "e1= Employee(\"Bruce\", 70000, 7000, 5000, 2000, 8400)\n",
    "e1.calculate()\n",
    "e1.display()\n",
    "print(\"-\"*30)\n",
    "print(\"OBJECT 2\")\n",
    "e2 = Employee(\"Selina\",80000, 10000, 5000, 1000, 9600)\n",
    "e2.calculate()\n",
    "e2.display()"
   ]
  },
  {
   "cell_type": "code",
   "execution_count": 2,
   "id": "502d46e4-eec4-4bf5-b134-03800345488f",
   "metadata": {},
   "outputs": [
    {
     "name": "stdout",
     "output_type": "stream",
     "text": [
      "Product id : 7 | Product name : Car\n",
      "Actual Price 10000\n",
      "Discounted Price 8000.0\n"
     ]
    }
   ],
   "source": [
    "'''Create a class Product, assign value for product id, name, price\n",
    "\n",
    "If price is >2000  → 20% discount\n",
    "If price 1000- 2000  → 10% discount\n",
    "Price <1000           → 5% discount\n",
    "\n",
    "Display id, name actual price & discounted price \n",
    "'''\n",
    "\n",
    "class Product():\n",
    "    def __init__(self, *args):\n",
    "        if len(args)==0:\n",
    "            self.product_id = \"7\"\n",
    "            self.name = \"Longclaw sword\"\n",
    "            self.price = 70000\n",
    "        else:\n",
    "            self.product_id = args[0]\n",
    "            self.name = args[1]\n",
    "            self.price = args[2]\n",
    "            self.discount_price = self.discount()\n",
    "    def discount(self):\n",
    "        if self.price > 2000:\n",
    "            discount = 0.20\n",
    "        elif self.price > 1000 and self.price <2000:\n",
    "            discount = 0.10\n",
    "        elif self.price < 1000:\n",
    "            discount = 0.05\n",
    "        return self.price * (1-discount)\n",
    "    def display(self):\n",
    "        print(f\"Product id : {self.product_id} | Product name : {self.name}\")\n",
    "        print(\"Actual Price\", self.price)\n",
    "        print(\"Discounted Price\", self.discount_price)\n",
    "p1 = Product(7, \"Car\", 10000)\n",
    "p1.display()"
   ]
  },
  {
   "cell_type": "code",
   "execution_count": 10,
   "id": "2f617e3b-f383-4b4c-ab1a-9b82dc363a7f",
   "metadata": {},
   "outputs": [
    {
     "name": "stdout",
     "output_type": "stream",
     "text": [
      "Product id : 7 | Product name : Car\n",
      "Actual Price 1500\n",
      "Discounted Price 1350.0\n"
     ]
    }
   ],
   "source": [
    "'''Create a class Product, assign value for product id, name, price\n",
    "\n",
    "If price is >2000  → 20% discount\n",
    "If price 1000- 2000  → 10% discount\n",
    "Price <1000           → 5% discount\n",
    "\n",
    "Display id, name actual price & discounted price \n",
    "'''\n",
    "\n",
    "class Product():\n",
    "    def __init__(self, product_id, name, price):\n",
    "        self.product_id = product_id\n",
    "        self.name = name\n",
    "        self.price = price\n",
    "        self.discount_price = self.discount(price)\n",
    "            \n",
    "    def discount(self, price):\n",
    "        if price > 2000:\n",
    "            discount = 0.20\n",
    "        elif price > 1000 and self.price <2000:\n",
    "            discount = 0.10\n",
    "        elif price < 1000:\n",
    "            discount = 0.05\n",
    "        return price * (1-discount)\n",
    "        \n",
    "    def display(self):\n",
    "        print(f\"Product id : {self.product_id} | Product name : {self.name}\")\n",
    "        print(f\"Actual Price {self.price}\" )\n",
    "        print(f\"Discounted Price {self.discount_price}\")\n",
    "p1 = Product(7, \"Car\", 1500)\n",
    "p1.display()"
   ]
  },
  {
   "cell_type": "code",
   "execution_count": 39,
   "id": "78e13466-fdeb-4361-9c2a-809dd848f74a",
   "metadata": {},
   "outputs": [
    {
     "data": {
      "text/html": [
       "<pre style=\"white-space:pre;overflow-x:auto;line-height:normal;font-family:Menlo,'DejaVu Sans Mono',consolas,'Courier New',monospace\">Radius : <span style=\"color: #008080; text-decoration-color: #008080; font-weight: bold\">5</span>\n",
       "</pre>\n"
      ],
      "text/plain": [
       "Radius : \u001b[1;36m5\u001b[0m\n"
      ]
     },
     "metadata": {},
     "output_type": "display_data"
    },
    {
     "data": {
      "text/html": [
       "<pre style=\"white-space:pre;overflow-x:auto;line-height:normal;font-family:Menlo,'DejaVu Sans Mono',consolas,'Courier New',monospace\">Area : <span style=\"color: #008080; text-decoration-color: #008080; font-weight: bold\">78.50</span>\n",
       "</pre>\n"
      ],
      "text/plain": [
       "Area : \u001b[1;36m78.50\u001b[0m\n"
      ]
     },
     "metadata": {},
     "output_type": "display_data"
    }
   ],
   "source": [
    "'''Create a class Circle accept the value of radius & initialise using initializer\n",
    "Calculate the area of circle\n",
    "'''\n",
    "\n",
    "class Circle():\n",
    "    def __init__(self, radius):\n",
    "        self.radius = radius\n",
    "    def calc(self):\n",
    "        pi = 3.14\n",
    "        return pi*self.radius **2\n",
    "    def display(self):\n",
    "        area = self.calc()\n",
    "        print(f\"Radius : {self.radius}\")\n",
    "        print(f\"Area : {area:.2f}\")\n",
    "c1=Circle(5)\n",
    "c1.display()"
   ]
  },
  {
   "cell_type": "code",
   "execution_count": 3,
   "id": "3bb2caa1-73a9-4298-9086-4be77ddea0d8",
   "metadata": {},
   "outputs": [
    {
     "data": {
      "text/html": [
       "<pre style=\"white-space:pre;overflow-x:auto;line-height:normal;font-family:Menlo,'DejaVu Sans Mono',consolas,'Courier New',monospace\">Name : Bruce | Income : <span style=\"color: #008080; text-decoration-color: #008080; font-weight: bold\">800000</span> | Tax : <span style=\"color: #008080; text-decoration-color: #008080; font-weight: bold\">60000.00</span>\n",
       "</pre>\n"
      ],
      "text/plain": [
       "Name : Bruce | Income : \u001b[1;36m800000\u001b[0m | Tax : \u001b[1;36m60000.00\u001b[0m\n"
      ]
     },
     "metadata": {},
     "output_type": "display_data"
    },
    {
     "data": {
      "text/html": [
       "<pre style=\"white-space:pre;overflow-x:auto;line-height:normal;font-family:Menlo,'DejaVu Sans Mono',consolas,'Courier New',monospace\">Name : Selina | Income : <span style=\"color: #008080; text-decoration-color: #008080; font-weight: bold\">9000000</span> | Tax : <span style=\"color: #008080; text-decoration-color: #008080; font-weight: bold\">3675000.00</span>\n",
       "</pre>\n"
      ],
      "text/plain": [
       "Name : Selina | Income : \u001b[1;36m9000000\u001b[0m | Tax : \u001b[1;36m3675000.00\u001b[0m\n"
      ]
     },
     "metadata": {},
     "output_type": "display_data"
    }
   ],
   "source": [
    "'''Create a class IncomeTax\n",
    "\n",
    "Accept the annual income\n",
    "\n",
    "0- 5lcs  → 0 % tax\n",
    "5- 10  → 20% tax\n",
    "10-15 → 40%\n",
    "Above 15 → 45 % tax\n",
    "\n",
    "Display name of person, annual income  & tax amount to pay\n",
    "\n",
    "'''\n",
    "from rich import print\n",
    "class IncomeTax():\n",
    "    def __init__(self, name, annual_income):\n",
    "        self.name = name\n",
    "        self.annual_income = annual_income\n",
    "        self.tax_calc = self.tax_calc()\n",
    "    def tax_calc(self):\n",
    "        if self.annual_income < 500000:\n",
    "            tax = 0\n",
    "        elif self.annual_income <=1000000:\n",
    "            tax = (self.annual_income - 500000) *0.20\n",
    "        elif self.annual_income <= 1500000:\n",
    "            tax = (500000*0.20) + (self.annual_income - 1000000)*0.40\n",
    "        else:\n",
    "            tax = (500000*0.20)+(500000*0.40)+(self.annual_income -1500000)*0.45\n",
    "        return tax    \n",
    "    def __str__(self):\n",
    "         return f\"Name : {self.name} | Income : {self.annual_income} | Tax : {self.tax_calc:.2f}\"\n",
    "i1 = IncomeTax(\"Bruce\", 800000)\n",
    "i2 = IncomeTax(\"Selina\", 9000000)\n",
    "print(i1)\n",
    "print(i2)"
   ]
  },
  {
   "cell_type": "code",
   "execution_count": 15,
   "id": "53bcb558-f454-49fe-a5e1-bc7086650d0c",
   "metadata": {},
   "outputs": [
    {
     "name": "stdin",
     "output_type": "stream",
     "text": [
      "Enter the countdown duration in seconds:  12\n"
     ]
    },
    {
     "data": {
      "text/html": [
       "<pre style=\"white-space:pre;overflow-x:auto;line-height:normal;font-family:Menlo,'DejaVu Sans Mono',consolas,'Courier New',monospace\"><span style=\"color: #00ff00; text-decoration-color: #00ff00; font-weight: bold\">00:12</span>\r",
       "</pre>\n"
      ],
      "text/plain": [
       "\u001b[1;92m00:12\u001b[0m\r"
      ]
     },
     "metadata": {},
     "output_type": "display_data"
    },
    {
     "data": {
      "text/html": [
       "<pre style=\"white-space:pre;overflow-x:auto;line-height:normal;font-family:Menlo,'DejaVu Sans Mono',consolas,'Courier New',monospace\"><span style=\"color: #00ff00; text-decoration-color: #00ff00; font-weight: bold\">00:11</span>\r",
       "</pre>\n"
      ],
      "text/plain": [
       "\u001b[1;92m00:11\u001b[0m\r"
      ]
     },
     "metadata": {},
     "output_type": "display_data"
    },
    {
     "data": {
      "text/html": [
       "<pre style=\"white-space:pre;overflow-x:auto;line-height:normal;font-family:Menlo,'DejaVu Sans Mono',consolas,'Courier New',monospace\"><span style=\"color: #00ff00; text-decoration-color: #00ff00; font-weight: bold\">00:10</span>\r",
       "</pre>\n"
      ],
      "text/plain": [
       "\u001b[1;92m00:10\u001b[0m\r"
      ]
     },
     "metadata": {},
     "output_type": "display_data"
    },
    {
     "data": {
      "text/html": [
       "<pre style=\"white-space:pre;overflow-x:auto;line-height:normal;font-family:Menlo,'DejaVu Sans Mono',consolas,'Courier New',monospace\"><span style=\"color: #00ff00; text-decoration-color: #00ff00; font-weight: bold\">00:09</span>\r",
       "</pre>\n"
      ],
      "text/plain": [
       "\u001b[1;92m00:09\u001b[0m\r"
      ]
     },
     "metadata": {},
     "output_type": "display_data"
    },
    {
     "data": {
      "text/html": [
       "<pre style=\"white-space:pre;overflow-x:auto;line-height:normal;font-family:Menlo,'DejaVu Sans Mono',consolas,'Courier New',monospace\"><span style=\"color: #00ff00; text-decoration-color: #00ff00; font-weight: bold\">00:08</span>\r",
       "</pre>\n"
      ],
      "text/plain": [
       "\u001b[1;92m00:08\u001b[0m\r"
      ]
     },
     "metadata": {},
     "output_type": "display_data"
    },
    {
     "data": {
      "text/html": [
       "<pre style=\"white-space:pre;overflow-x:auto;line-height:normal;font-family:Menlo,'DejaVu Sans Mono',consolas,'Courier New',monospace\"><span style=\"color: #00ff00; text-decoration-color: #00ff00; font-weight: bold\">00:07</span>\r",
       "</pre>\n"
      ],
      "text/plain": [
       "\u001b[1;92m00:07\u001b[0m\r"
      ]
     },
     "metadata": {},
     "output_type": "display_data"
    },
    {
     "data": {
      "text/html": [
       "<pre style=\"white-space:pre;overflow-x:auto;line-height:normal;font-family:Menlo,'DejaVu Sans Mono',consolas,'Courier New',monospace\"><span style=\"color: #00ff00; text-decoration-color: #00ff00; font-weight: bold\">00:06</span>\r",
       "</pre>\n"
      ],
      "text/plain": [
       "\u001b[1;92m00:06\u001b[0m\r"
      ]
     },
     "metadata": {},
     "output_type": "display_data"
    },
    {
     "data": {
      "text/html": [
       "<pre style=\"white-space:pre;overflow-x:auto;line-height:normal;font-family:Menlo,'DejaVu Sans Mono',consolas,'Courier New',monospace\"><span style=\"color: #00ff00; text-decoration-color: #00ff00; font-weight: bold\">00:05</span>\r",
       "</pre>\n"
      ],
      "text/plain": [
       "\u001b[1;92m00:05\u001b[0m\r"
      ]
     },
     "metadata": {},
     "output_type": "display_data"
    },
    {
     "data": {
      "text/html": [
       "<pre style=\"white-space:pre;overflow-x:auto;line-height:normal;font-family:Menlo,'DejaVu Sans Mono',consolas,'Courier New',monospace\"><span style=\"color: #00ff00; text-decoration-color: #00ff00; font-weight: bold\">00:04</span>\r",
       "</pre>\n"
      ],
      "text/plain": [
       "\u001b[1;92m00:04\u001b[0m\r"
      ]
     },
     "metadata": {},
     "output_type": "display_data"
    },
    {
     "data": {
      "text/html": [
       "<pre style=\"white-space:pre;overflow-x:auto;line-height:normal;font-family:Menlo,'DejaVu Sans Mono',consolas,'Courier New',monospace\"><span style=\"color: #00ff00; text-decoration-color: #00ff00; font-weight: bold\">00:03</span>\r",
       "</pre>\n"
      ],
      "text/plain": [
       "\u001b[1;92m00:03\u001b[0m\r"
      ]
     },
     "metadata": {},
     "output_type": "display_data"
    },
    {
     "data": {
      "text/html": [
       "<pre style=\"white-space:pre;overflow-x:auto;line-height:normal;font-family:Menlo,'DejaVu Sans Mono',consolas,'Courier New',monospace\"><span style=\"color: #00ff00; text-decoration-color: #00ff00; font-weight: bold\">00:02</span>\r",
       "</pre>\n"
      ],
      "text/plain": [
       "\u001b[1;92m00:02\u001b[0m\r"
      ]
     },
     "metadata": {},
     "output_type": "display_data"
    },
    {
     "data": {
      "text/html": [
       "<pre style=\"white-space:pre;overflow-x:auto;line-height:normal;font-family:Menlo,'DejaVu Sans Mono',consolas,'Courier New',monospace\"><span style=\"color: #00ff00; text-decoration-color: #00ff00; font-weight: bold\">00:01</span>\r",
       "</pre>\n"
      ],
      "text/plain": [
       "\u001b[1;92m00:01\u001b[0m\r"
      ]
     },
     "metadata": {},
     "output_type": "display_data"
    },
    {
     "data": {
      "text/html": [
       "<pre style=\"white-space:pre;overflow-x:auto;line-height:normal;font-family:Menlo,'DejaVu Sans Mono',consolas,'Courier New',monospace\">Countdown finished!\n",
       "</pre>\n"
      ],
      "text/plain": [
       "Countdown finished!\n"
      ]
     },
     "metadata": {},
     "output_type": "display_data"
    }
   ],
   "source": [
    "import time\n",
    "\n",
    "def countdown(t):\n",
    "    while t:\n",
    "        mins, secs = divmod(t, 60)\n",
    "        timer = '{:02d}:{:02d}'.format(mins, secs)\n",
    "        print(timer, end=\"\\r\")\n",
    "        time.sleep(1)\n",
    "        t -= 1\n",
    "    print('Countdown finished!')\n",
    "\n",
    "duration = int(input(\"Enter the countdown duration in seconds: \"))\n",
    "countdown(duration)"
   ]
  },
  {
   "cell_type": "code",
   "execution_count": 14,
   "id": "66cd5d59-fbb9-4e64-a62f-5fd7b9c5c6c7",
   "metadata": {},
   "outputs": [
    {
     "data": {
      "text/html": [
       "<pre style=\"white-space:pre;overflow-x:auto;line-height:normal;font-family:Menlo,'DejaVu Sans Mono',consolas,'Courier New',monospace\"><span style=\"background-color: #800000\"> SETTER AND GETTER </span> \n",
       "</pre>\n"
      ],
      "text/plain": [
       "\u001b[41m SETTER AND GETTER \u001b[0m \n"
      ]
     },
     "metadata": {},
     "output_type": "display_data"
    },
    {
     "data": {
      "text/html": [
       "<pre style=\"white-space:pre;overflow-x:auto;line-height:normal;font-family:Menlo,'DejaVu Sans Mono',consolas,'Courier New',monospace\"><span style=\"color: #808000; text-decoration-color: #808000\">Id</span>= <span style=\"color: #008080; text-decoration-color: #008080; font-weight: bold\">7</span> , <span style=\"color: #808000; text-decoration-color: #808000\">Name</span>=<span style=\"color: #800080; text-decoration-color: #800080\">Fyodor</span>, <span style=\"color: #808000; text-decoration-color: #808000\">Price</span>=<span style=\"color: #008080; text-decoration-color: #008080; font-weight: bold\">700</span>\n",
       "</pre>\n"
      ],
      "text/plain": [
       "\u001b[33mId\u001b[0m= \u001b[1;36m7\u001b[0m , \u001b[33mName\u001b[0m=\u001b[35mFyodor\u001b[0m, \u001b[33mPrice\u001b[0m=\u001b[1;36m700\u001b[0m\n"
      ]
     },
     "metadata": {},
     "output_type": "display_data"
    },
    {
     "data": {
      "text/html": [
       "<pre style=\"white-space:pre;overflow-x:auto;line-height:normal;font-family:Menlo,'DejaVu Sans Mono',consolas,'Courier New',monospace\">ID : <span style=\"color: #008080; text-decoration-color: #008080; font-weight: bold\">7</span>\n",
       "</pre>\n"
      ],
      "text/plain": [
       "ID : \u001b[1;36m7\u001b[0m\n"
      ]
     },
     "metadata": {},
     "output_type": "display_data"
    },
    {
     "data": {
      "text/html": [
       "<pre style=\"white-space:pre;overflow-x:auto;line-height:normal;font-family:Menlo,'DejaVu Sans Mono',consolas,'Courier New',monospace\">NAME : Fyodor\n",
       "</pre>\n"
      ],
      "text/plain": [
       "NAME : Fyodor\n"
      ]
     },
     "metadata": {},
     "output_type": "display_data"
    },
    {
     "data": {
      "text/html": [
       "<pre style=\"white-space:pre;overflow-x:auto;line-height:normal;font-family:Menlo,'DejaVu Sans Mono',consolas,'Courier New',monospace\">PRICE : <span style=\"color: #008080; text-decoration-color: #008080; font-weight: bold\">700</span>\n",
       "</pre>\n"
      ],
      "text/plain": [
       "PRICE : \u001b[1;36m700\u001b[0m\n"
      ]
     },
     "metadata": {},
     "output_type": "display_data"
    }
   ],
   "source": [
    "print(f\"[on red] SETTER AND GETTER [/on red] \")\n",
    "'''# Book → id, name, price\n",
    "Create setters & getters for book class & display the data\n",
    "__str__ also to display book details\n",
    "'''\n",
    "class Book():\n",
    "    __id = None\n",
    "    __name = None\n",
    "    __price = None\n",
    "#setters\n",
    "    def setid(self, id):\n",
    "        self.__id = id\n",
    "        \n",
    "    def setname(self, name):\n",
    "        self.__name = name\n",
    "    \n",
    "    def setprice(self, price):\n",
    "        self.__price = price\n",
    "#getters\n",
    "    def getid(self):\n",
    "        return self.__id\n",
    "    \n",
    "    def getname(self):\n",
    "        return self.__name\n",
    "    \n",
    "    def getprice(self):\n",
    "        return self.__price\n",
    "\n",
    "    def __str__(self):\n",
    "        return f'Id= {self.__id} , Name={self.__name}, Price={self.__price}'\n",
    "\n",
    "b1 = Book()\n",
    "b1.setid(7)\n",
    "b1.setname(\"Fyodor\")\n",
    "b1.setprice(700)\n",
    "print(b1)\n",
    "\n",
    "print(f\"ID : {b1.getid()}\")\n",
    "print(f\"NAME : {b1.getname()}\")\n",
    "print(f\"PRICE : {b1.getprice()}\")"
   ]
  },
  {
   "cell_type": "code",
   "execution_count": 4,
   "id": "feebdcda-fdeb-4191-a739-0be621e4200a",
   "metadata": {},
   "outputs": [
    {
     "data": {
      "text/html": [
       "<pre style=\"white-space:pre;overflow-x:auto;line-height:normal;font-family:Menlo,'DejaVu Sans Mono',consolas,'Courier New',monospace\"><span style=\"background-color: #800000\"> STATIC VARIABLE AND METHOD </span> \n",
       "</pre>\n"
      ],
      "text/plain": [
       "\u001b[41m STATIC VARIABLE AND METHOD \u001b[0m \n"
      ]
     },
     "metadata": {},
     "output_type": "display_data"
    },
    {
     "data": {
      "text/html": [
       "<pre style=\"white-space:pre;overflow-x:auto;line-height:normal;font-family:Menlo,'DejaVu Sans Mono',consolas,'Courier New',monospace\">BANK name : AXIS Bank \n",
       "Name : akon\n",
       "</pre>\n"
      ],
      "text/plain": [
       "BANK name : AXIS Bank \n",
       "Name : akon\n"
      ]
     },
     "metadata": {},
     "output_type": "display_data"
    },
    {
     "data": {
      "text/html": [
       "<pre style=\"white-space:pre;overflow-x:auto;line-height:normal;font-family:Menlo,'DejaVu Sans Mono',consolas,'Courier New',monospace\">BANK name : AXIS Bank \n",
       "Name : rahul\n",
       "</pre>\n"
      ],
      "text/plain": [
       "BANK name : AXIS Bank \n",
       "Name : rahul\n"
      ]
     },
     "metadata": {},
     "output_type": "display_data"
    },
    {
     "data": {
      "text/html": [
       "<pre style=\"white-space:pre;overflow-x:auto;line-height:normal;font-family:Menlo,'DejaVu Sans Mono',consolas,'Courier New',monospace\">BANK name : HDFC \n",
       "Name : akon\n",
       "</pre>\n"
      ],
      "text/plain": [
       "BANK name : HDFC \n",
       "Name : akon\n"
      ]
     },
     "metadata": {},
     "output_type": "display_data"
    },
    {
     "data": {
      "text/html": [
       "<pre style=\"white-space:pre;overflow-x:auto;line-height:normal;font-family:Menlo,'DejaVu Sans Mono',consolas,'Courier New',monospace\">BANK name : HDFC \n",
       "Name : rahul\n",
       "</pre>\n"
      ],
      "text/plain": [
       "BANK name : HDFC \n",
       "Name : rahul\n"
      ]
     },
     "metadata": {},
     "output_type": "display_data"
    },
    {
     "data": {
      "text/html": [
       "<pre style=\"white-space:pre;overflow-x:auto;line-height:normal;font-family:Menlo,'DejaVu Sans Mono',consolas,'Courier New',monospace\">HDFC\n",
       "</pre>\n"
      ],
      "text/plain": [
       "HDFC\n"
      ]
     },
     "metadata": {},
     "output_type": "display_data"
    }
   ],
   "source": [
    "print(f\"[on red] STATIC VARIABLE AND METHOD [/on red] \")\n",
    "class Bank():\n",
    "    bank_name = \"AXIS Bank\"\n",
    "\n",
    "    def __init__(self, name):\n",
    "        self.name = name\n",
    "\n",
    "    def __str__(self):\n",
    "        return f\"BANK name : {Bank.bank_name} \\nName : {self.name}\"\n",
    "   \n",
    "    @staticmethod\n",
    "    def displayBankName():\n",
    "        print(Bank.bank_name)\n",
    "\n",
    "b1 = Bank('akon')\n",
    "b2 = Bank('rahul')\n",
    "print(b1)\n",
    "print(b2)\n",
    "\n",
    "Bank.bank_name = \"HDFC\"\n",
    "print(b1)\n",
    "print(b2)\n",
    "Bank.displayBankName()"
   ]
  },
  {
   "cell_type": "code",
   "execution_count": 10,
   "id": "6736b81f-ed9c-4ef9-8a76-762e0a967395",
   "metadata": {},
   "outputs": [
    {
     "data": {
      "text/html": [
       "<pre style=\"white-space:pre;overflow-x:auto;line-height:normal;font-family:Menlo,'DejaVu Sans Mono',consolas,'Courier New',monospace\">------------------------------ EMPLOYEE DETAILS ------------------------------\n",
       "</pre>\n"
      ],
      "text/plain": [
       "------------------------------ EMPLOYEE DETAILS ------------------------------\n"
      ]
     },
     "metadata": {},
     "output_type": "display_data"
    },
    {
     "data": {
      "text/html": [
       "<pre style=\"white-space:pre;overflow-x:auto;line-height:normal;font-family:Menlo,'DejaVu Sans Mono',consolas,'Courier New',monospace\">ID        NAME                BASIC           GROSS           \n",
       "</pre>\n"
      ],
      "text/plain": [
       "ID        NAME                BASIC           GROSS           \n"
      ]
     },
     "metadata": {},
     "output_type": "display_data"
    },
    {
     "data": {
      "text/html": [
       "<pre style=\"white-space:pre;overflow-x:auto;line-height:normal;font-family:Menlo,'DejaVu Sans Mono',consolas,'Courier New',monospace\">\n",
       "<span style=\"color: #008080; text-decoration-color: #008080; font-weight: bold\">7</span>         Bruce Wayne         <span style=\"color: #008080; text-decoration-color: #008080; font-weight: bold\">70000</span>           <span style=\"color: #008080; text-decoration-color: #008080; font-weight: bold\">103600.00</span>\n",
       "</pre>\n"
      ],
      "text/plain": [
       "\n",
       "\u001b[1;36m7\u001b[0m         Bruce Wayne         \u001b[1;36m70000\u001b[0m           \u001b[1;36m103600.00\u001b[0m\n"
      ]
     },
     "metadata": {},
     "output_type": "display_data"
    },
    {
     "data": {
      "text/html": [
       "<pre style=\"white-space:pre;overflow-x:auto;line-height:normal;font-family:Menlo,'DejaVu Sans Mono',consolas,'Courier New',monospace\">\n",
       "<span style=\"color: #008080; text-decoration-color: #008080; font-weight: bold\">12</span>        Alfred Pennyworth   <span style=\"color: #008080; text-decoration-color: #008080; font-weight: bold\">100000</span>          <span style=\"color: #008080; text-decoration-color: #008080; font-weight: bold\">148000.00</span>\n",
       "</pre>\n"
      ],
      "text/plain": [
       "\n",
       "\u001b[1;36m12\u001b[0m        Alfred Pennyworth   \u001b[1;36m100000\u001b[0m          \u001b[1;36m148000.00\u001b[0m\n"
      ]
     },
     "metadata": {},
     "output_type": "display_data"
    },
    {
     "data": {
      "text/html": [
       "<pre style=\"white-space:pre;overflow-x:auto;line-height:normal;font-family:Menlo,'DejaVu Sans Mono',consolas,'Courier New',monospace\"><span style=\"text-decoration: underline\">                                MANAGER DETAILS                                </span>\n",
       "</pre>\n"
      ],
      "text/plain": [
       "\u001b[4m                                MANAGER DETAILS                                \u001b[0m\n"
      ]
     },
     "metadata": {},
     "output_type": "display_data"
    },
    {
     "data": {
      "text/html": [
       "<pre style=\"white-space:pre;overflow-x:auto;line-height:normal;font-family:Menlo,'DejaVu Sans Mono',consolas,'Courier New',monospace\"><span style=\"background-color: #808000\">ID        NAME            BASIC           BONUS           GROSS           </span>\n",
       "</pre>\n"
      ],
      "text/plain": [
       "\u001b[43mID        NAME            BASIC           BONUS           GROSS           \u001b[0m\n"
      ]
     },
     "metadata": {},
     "output_type": "display_data"
    },
    {
     "data": {
      "text/html": [
       "<pre style=\"white-space:pre;overflow-x:auto;line-height:normal;font-family:Menlo,'DejaVu Sans Mono',consolas,'Courier New',monospace\">\n",
       "<span style=\"color: #008080; text-decoration-color: #008080; font-weight: bold\">10</span>        Selina          <span style=\"color: #008080; text-decoration-color: #008080; font-weight: bold\">80000</span>           <span style=\"color: #008080; text-decoration-color: #008080; font-weight: bold\">8000</span>            <span style=\"color: #008080; text-decoration-color: #008080; font-weight: bold\">94400.00</span>\n",
       "</pre>\n"
      ],
      "text/plain": [
       "\n",
       "\u001b[1;36m10\u001b[0m        Selina          \u001b[1;36m80000\u001b[0m           \u001b[1;36m8000\u001b[0m            \u001b[1;36m94400.00\u001b[0m\n"
      ]
     },
     "metadata": {},
     "output_type": "display_data"
    },
    {
     "data": {
      "text/html": [
       "<pre style=\"white-space:pre;overflow-x:auto;line-height:normal;font-family:Menlo,'DejaVu Sans Mono',consolas,'Courier New',monospace\"><span style=\"text-decoration: underline\">                                         CEO DETAILS                                      </span>\n",
       "</pre>\n"
      ],
      "text/plain": [
       "\u001b[4m                                         CEO DETAILS                                      \u001b[0m\n"
      ]
     },
     "metadata": {},
     "output_type": "display_data"
    },
    {
     "data": {
      "text/html": [
       "<pre style=\"white-space:pre;overflow-x:auto;line-height:normal;font-family:Menlo,'DejaVu Sans Mono',consolas,'Courier New',monospace\"><span style=\"background-color: #008000\">ID        NAME                BASIC           TRAVEL          FOOD            GROSS       </span>\n",
       "</pre>\n"
      ],
      "text/plain": [
       "\u001b[42mID        NAME                BASIC           TRAVEL          FOOD            GROSS       \u001b[0m\n"
      ]
     },
     "metadata": {},
     "output_type": "display_data"
    },
    {
     "data": {
      "text/html": [
       "<pre style=\"white-space:pre;overflow-x:auto;line-height:normal;font-family:Menlo,'DejaVu Sans Mono',consolas,'Courier New',monospace\">\n",
       "<span style=\"color: #008080; text-decoration-color: #008080; font-weight: bold\">1</span>         Harvey Spector      <span style=\"color: #008080; text-decoration-color: #008080; font-weight: bold\">5000000</span>         <span style=\"color: #008080; text-decoration-color: #008080; font-weight: bold\">50000</span>           <span style=\"color: #008080; text-decoration-color: #008080; font-weight: bold\">50000</span>           <span style=\"color: #008080; text-decoration-color: #008080; font-weight: bold\">5500000.00</span>\n",
       "</pre>\n"
      ],
      "text/plain": [
       "\n",
       "\u001b[1;36m1\u001b[0m         Harvey Spector      \u001b[1;36m5000000\u001b[0m         \u001b[1;36m50000\u001b[0m           \u001b[1;36m50000\u001b[0m           \u001b[1;36m5500000.00\u001b[0m\n"
      ]
     },
     "metadata": {},
     "output_type": "display_data"
    }
   ],
   "source": [
    "'''INHERITANCE + POLYMORPHISM, METHOD OVERRIDING'''\n",
    "from rich import print\n",
    "class Employee():\n",
    "    def __init__(self, id, name, basic):\n",
    "        self._id = id\n",
    "        self._name = name\n",
    "        self._basic = basic\n",
    "    def calculate(self):\n",
    "        self._hra = self._basic*0.40\n",
    "        self._da = self._basic*0.20\n",
    "        self._pf = self._basic*0.12\n",
    "        self._gross = (self._basic + self._hra + self._da) - self._pf\n",
    "\n",
    "    def __str__(self):\n",
    "        return f\"\\n{self._id:<10}{self._name:<20}{self._basic:<16}{self._gross:.2f}\"\n",
    "    def emp_disp(self):\n",
    "        print(\"-\"*30, \"EMPLOYEE DETAILS\", \"-\"*30)\n",
    "        print(f\"{'ID':<10}{'NAME':<20}{'BASIC':<16}{\"GROSS\":<16}\")\n",
    "\n",
    "class Manager(Employee):\n",
    "    def __init__(self, id, name, basic, bonus):\n",
    "        super().__init__(id, name, basic)\n",
    "        self.__bonus = bonus\n",
    "    def calculate(self):\n",
    "        self._hra = self._basic*0.40\n",
    "        self._da = self._basic*0.20\n",
    "        self._pf = self._basic*0.12\n",
    "        self._gross = (self._basic + self._da +self.__bonus) - self._pf\n",
    "         \n",
    "    def __str__(self):\n",
    "        return f\"\\n{self._id:<10}{self._name:<16}{self._basic:<16}{self.__bonus:<16}{self._gross:.2f}\"\n",
    "    def mgr_disp(self):\n",
    "        print(f\"[underline] {\" \"*30} {\"MANAGER DETAILS\"} {\" \"*30} [/underline]\")\n",
    "        print(f\"[on yellow]{'ID':<10}{'NAME':<16}{'BASIC':<16}{\"BONUS\":<16}{\"GROSS\":<16}[/on yellow]\")\n",
    "        \n",
    "class CEO(Employee):\n",
    "    def __init__(self, id, name, basic, ta, food):\n",
    "        super().__init__(id, name, basic)\n",
    "        self.__ta = ta\n",
    "        self.__food = food\n",
    "    def calculate(self):\n",
    "        self._hra = self._basic*0.40\n",
    "        self._da = self._basic*0.20\n",
    "        self._pf = self._basic*0.12\n",
    "        self._gross = (self._basic + self._da + self.__ta + self.__food) - self._pf\n",
    "        \n",
    "    def __str__(self):\n",
    "        return f\"\\n{self._id:<10}{self._name:<20}{self._basic:<16}{self.__ta:<16}{self.__food:<16}{self._gross:.2f}\"\n",
    "    def ceo_disp(self):\n",
    "        print(f\"[underline]{\" \"*40} {\"CEO DETAILS\"} {\" \"*37}[underline]\")\n",
    "        print(f\"[on green]{'ID':<10}{'NAME':<20}{'BASIC':<16}{\"TRAVEL\":<16}{\"FOOD\":<16}{\"GROSS\":<12}[/on green]\")\n",
    "        \n",
    "e1 = Employee(7, \"Bruce Wayne\", 70000)\n",
    "e2 = Employee(12, \"Alfred Pennyworth\", 100000)\n",
    "e1.calculate()\n",
    "e1.emp_disp()\n",
    "print(e1)\n",
    "e2.calculate()\n",
    "print(e2)\n",
    "\n",
    "m1 = Manager(10, \"Selina\", 80000, 8000)\n",
    "m1.calculate()\n",
    "m1.mgr_disp()\n",
    "print(m1)\n",
    "\n",
    "c1 = CEO(1, \"Harvey Spector\", 5000000, 50000, 50000)\n",
    "c1.calculate()\n",
    "c1.ceo_disp()\n",
    "print(c1)"
   ]
  },
  {
   "cell_type": "code",
   "execution_count": 4,
   "id": "f9d2c6b4-5280-49e7-aef5-8b17ed297683",
   "metadata": {},
   "outputs": [
    {
     "data": {
      "text/html": [
       "<pre style=\"white-space:pre;overflow-x:auto;line-height:normal;font-family:Menlo,'DejaVu Sans Mono',consolas,'Courier New',monospace\"><span style=\"background-color: #800000\"> Duck typing in python </span>\n",
       "</pre>\n"
      ],
      "text/plain": [
       "\u001b[41m Duck typing in python \u001b[0m\n"
      ]
     },
     "metadata": {},
     "output_type": "display_data"
    },
    {
     "data": {
      "text/html": [
       "<pre style=\"white-space:pre;overflow-x:auto;line-height:normal;font-family:Menlo,'DejaVu Sans Mono',consolas,'Courier New',monospace\"><span style=\"color: #00ff00; text-decoration-color: #00ff00\"> Write code </span>\n",
       "</pre>\n"
      ],
      "text/plain": [
       "\u001b[92m Write code \u001b[0m\n"
      ]
     },
     "metadata": {},
     "output_type": "display_data"
    },
    {
     "data": {
      "text/html": [
       "<pre style=\"white-space:pre;overflow-x:auto;line-height:normal;font-family:Menlo,'DejaVu Sans Mono',consolas,'Courier New',monospace\"><span style=\"color: #00ff00; text-decoration-color: #00ff00\"> Compile code </span>\n",
       "</pre>\n"
      ],
      "text/plain": [
       "\u001b[92m Compile code \u001b[0m\n"
      ]
     },
     "metadata": {},
     "output_type": "display_data"
    },
    {
     "data": {
      "text/html": [
       "<pre style=\"white-space:pre;overflow-x:auto;line-height:normal;font-family:Menlo,'DejaVu Sans Mono',consolas,'Courier New',monospace\"><span style=\"color: #00ff00; text-decoration-color: #00ff00\"> Run a code </span>\n",
       "</pre>\n"
      ],
      "text/plain": [
       "\u001b[92m Run a code \u001b[0m\n"
      ]
     },
     "metadata": {},
     "output_type": "display_data"
    }
   ],
   "source": [
    "from rich import print\n",
    "print(\"[on red] Duck typing in python [/on red]\")\n",
    "\n",
    "class vscode():\n",
    "    def executeTask(self):\n",
    "        print(f\"[bright_green] Write code [/bright_green]\")\n",
    "        print(f\"[bright_green] Compile code [/bright_green]\")\n",
    "        print(f\"[bright_green] Run a code [/bright_green]\")\n",
    "\n",
    "class spyder():\n",
    "    def executeTask(self):\n",
    "        print(f\"[bright_green] Write code [/bright_green]\")\n",
    "        print(f\"[bright_green] Compile code [/bright_green]\")\n",
    "        print(f\"[bright_green] Run a code [/bright_green]\")\n",
    "\n",
    "def editor(obj):\n",
    "    obj.executeTask()\n",
    "\n",
    "sp = spyder()\n",
    "sp.executeTask()"
   ]
  },
  {
   "cell_type": "code",
   "execution_count": 26,
   "id": "54477401-2020-43ce-932a-eef6d8819259",
   "metadata": {},
   "outputs": [
    {
     "data": {
      "text/html": [
       "<pre style=\"white-space:pre;overflow-x:auto;line-height:normal;font-family:Menlo,'DejaVu Sans Mono',consolas,'Courier New',monospace\">NEW SAL\n",
       "</pre>\n"
      ],
      "text/plain": [
       "NEW SAL\n"
      ]
     },
     "metadata": {},
     "output_type": "display_data"
    }
   ],
   "source": [
    "from rich import print\n",
    "class employee():\n",
    "    def calcsal(self):\n",
    "        print(\"old sal\")\n",
    "\n",
    "def newsal(self):\n",
    "        print(f\"NEW SAL\")\n",
    "        \n",
    "employee.calcsal=newsal       \n",
    "e1 = employee()\n",
    "e1.calcsal()"
   ]
  },
  {
   "cell_type": "code",
   "execution_count": 4,
   "id": "1c0ddd16-57b1-4e42-968e-fffe92326e09",
   "metadata": {},
   "outputs": [
    {
     "data": {
      "text/html": [
       "<pre style=\"white-space:pre;overflow-x:auto;line-height:normal;font-family:Menlo,'DejaVu Sans Mono',consolas,'Courier New',monospace\"><span style=\"background-color: #800000\">EXCEPTION HANDLING</span>\n",
       "</pre>\n"
      ],
      "text/plain": [
       "\u001b[41mEXCEPTION HANDLING\u001b[0m\n"
      ]
     },
     "metadata": {},
     "output_type": "display_data"
    },
    {
     "data": {
      "text/html": [
       "<pre style=\"white-space:pre;overflow-x:auto;line-height:normal;font-family:Menlo,'DejaVu Sans Mono',consolas,'Courier New',monospace\">Bruce Wayne\n",
       "</pre>\n"
      ],
      "text/plain": [
       "Bruce Wayne\n"
      ]
     },
     "metadata": {},
     "output_type": "display_data"
    },
    {
     "data": {
      "text/html": [
       "<pre style=\"white-space:pre;overflow-x:auto;line-height:normal;font-family:Menlo,'DejaVu Sans Mono',consolas,'Courier New',monospace\">Error : Name is mandatory\n",
       "</pre>\n"
      ],
      "text/plain": [
       "Error : Name is mandatory\n"
      ]
     },
     "metadata": {},
     "output_type": "display_data"
    }
   ],
   "source": [
    "from rich import print\n",
    "print(\"[on red]EXCEPTION HANDLING[/on red]\")\n",
    "\n",
    "class Student():\n",
    "    def __init__(self, name = None):\n",
    "        if not name:\n",
    "            raise ValueError(\"Error : Name is mandatory\")\n",
    "        self.name = name\n",
    "\n",
    "try:\n",
    "    s1 = Student(\"Bruce Wayne\")\n",
    "    print(s1.name)\n",
    "\n",
    "    s2 = Student()\n",
    "except ValueError as ex:\n",
    "    print(ex)"
   ]
  },
  {
   "cell_type": "code",
   "execution_count": 9,
   "id": "1d6fa26f-a4f0-4141-a962-dedee1b0390a",
   "metadata": {},
   "outputs": [
    {
     "data": {
      "text/html": [
       "<pre style=\"white-space:pre;overflow-x:auto;line-height:normal;font-family:Menlo,'DejaVu Sans Mono',consolas,'Courier New',monospace\"><span style=\"background-color: #000080\"> Custom Exception handling in python </span>\n",
       "</pre>\n"
      ],
      "text/plain": [
       "\u001b[44m Custom Exception handling in python \u001b[0m\n"
      ]
     },
     "metadata": {},
     "output_type": "display_data"
    },
    {
     "data": {
      "text/html": [
       "<pre style=\"white-space:pre;overflow-x:auto;line-height:normal;font-family:Menlo,'DejaVu Sans Mono',consolas,'Courier New',monospace\">**Warning : Balance is low**\n",
       "</pre>\n"
      ],
      "text/plain": [
       "**Warning : Balance is low**\n"
      ]
     },
     "metadata": {},
     "output_type": "display_data"
    }
   ],
   "source": [
    "from rich import print\n",
    "print(f'[on blue] Custom Exception handling in python [/on blue]')\n",
    "\n",
    "class lowBalanceError(Exception): #custom exception\n",
    "    def __init__(self, msg):\n",
    "        super().__init__(msg)\n",
    "\n",
    "class Employee():\n",
    "    def __init__(self, balance):\n",
    "        if balance >= 1000:\n",
    "            self.balance = balance\n",
    "        else:\n",
    "            raise lowBalanceError(\"**Warning : Balance is low**\")  #raise keyword to raise and exception\n",
    "\n",
    "    def __str__(self):\n",
    "        return f\"Current Balance is : {self.balance}\"\n",
    "try:\n",
    "    e1 = Employee(700)\n",
    "except lowBalanceError as ex:\n",
    "    print(ex)\n",
    "else:\n",
    "    print(e1)"
   ]
  },
  {
   "cell_type": "code",
   "execution_count": 11,
   "id": "7e43d6af-c64f-41aa-82ff-167c1c6ad59a",
   "metadata": {},
   "outputs": [
    {
     "data": {
      "text/html": [
       "<pre style=\"white-space:pre;overflow-x:auto;line-height:normal;font-family:Menlo,'DejaVu Sans Mono',consolas,'Courier New',monospace\"><span style=\"background-color: #000080\"> **Date Time in python** </span>\n",
       "</pre>\n"
      ],
      "text/plain": [
       "\u001b[44m **Date Time in python** \u001b[0m\n"
      ]
     },
     "metadata": {},
     "output_type": "display_data"
    }
   ],
   "source": [
    "from rich import print\n",
    "print(f'[on blue] **Date Time in python** [/on blue]')"
   ]
  },
  {
   "cell_type": "code",
   "execution_count": 37,
   "id": "b6d9f1e6-ff9d-4477-ba23-7c8230a858a4",
   "metadata": {},
   "outputs": [
    {
     "data": {
      "text/html": [
       "<pre style=\"white-space:pre;overflow-x:auto;line-height:normal;font-family:Menlo,'DejaVu Sans Mono',consolas,'Courier New',monospace\">nextdate <span style=\"color: #008080; text-decoration-color: #008080; font-weight: bold\">2025</span>-<span style=\"color: #008080; text-decoration-color: #008080; font-weight: bold\">11</span>-<span style=\"color: #008080; text-decoration-color: #008080; font-weight: bold\">04</span>\n",
       "</pre>\n"
      ],
      "text/plain": [
       "nextdate \u001b[1;36m2025\u001b[0m-\u001b[1;36m11\u001b[0m-\u001b[1;36m04\u001b[0m\n"
      ]
     },
     "metadata": {},
     "output_type": "display_data"
    },
    {
     "data": {
      "text/html": [
       "<pre style=\"white-space:pre;overflow-x:auto;line-height:normal;font-family:Menlo,'DejaVu Sans Mono',consolas,'Courier New',monospace\">precious date <span style=\"color: #008080; text-decoration-color: #008080; font-weight: bold\">2025</span>-<span style=\"color: #008080; text-decoration-color: #008080; font-weight: bold\">05</span>-<span style=\"color: #008080; text-decoration-color: #008080; font-weight: bold\">08</span>\n",
       "</pre>\n"
      ],
      "text/plain": [
       "precious date \u001b[1;36m2025\u001b[0m-\u001b[1;36m05\u001b[0m-\u001b[1;36m08\u001b[0m\n"
      ]
     },
     "metadata": {},
     "output_type": "display_data"
    },
    {
     "data": {
      "text/html": [
       "<pre style=\"white-space:pre;overflow-x:auto;line-height:normal;font-family:Menlo,'DejaVu Sans Mono',consolas,'Courier New',monospace\"><span style=\"color: #008080; text-decoration-color: #008080; font-weight: bold\">11084</span> days, <span style=\"color: #00ff00; text-decoration-color: #00ff00; font-weight: bold\">23:39:53</span>\n",
       "</pre>\n"
      ],
      "text/plain": [
       "\u001b[1;36m11084\u001b[0m days, \u001b[1;92m23:39:53\u001b[0m\n"
      ]
     },
     "metadata": {},
     "output_type": "display_data"
    },
    {
     "data": {
      "text/html": [
       "<pre style=\"white-space:pre;overflow-x:auto;line-height:normal;font-family:Menlo,'DejaVu Sans Mono',consolas,'Courier New',monospace\">Days to years conversion :  <span style=\"color: #008080; text-decoration-color: #008080; font-weight: bold\">30.34633812457221</span>\n",
       "</pre>\n"
      ],
      "text/plain": [
       "Days to years conversion :  \u001b[1;36m30.34633812457221\u001b[0m\n"
      ]
     },
     "metadata": {},
     "output_type": "display_data"
    },
    {
     "data": {
      "text/html": [
       "<pre style=\"white-space:pre;overflow-x:auto;line-height:normal;font-family:Menlo,'DejaVu Sans Mono',consolas,'Courier New',monospace\">Current <span style=\"color: #008080; text-decoration-color: #008080; font-weight: bold\">2025</span>-<span style=\"color: #008080; text-decoration-color: #008080; font-weight: bold\">08</span>-<span style=\"color: #008080; text-decoration-color: #008080; font-weight: bold\">06</span> <span style=\"color: #00ff00; text-decoration-color: #00ff00; font-weight: bold\">10:48:11</span>.<span style=\"color: #008080; text-decoration-color: #008080; font-weight: bold\">538635</span>\n",
       "</pre>\n"
      ],
      "text/plain": [
       "Current \u001b[1;36m2025\u001b[0m-\u001b[1;36m08\u001b[0m-\u001b[1;36m06\u001b[0m \u001b[1;92m10:48:11\u001b[0m.\u001b[1;36m538635\u001b[0m\n"
      ]
     },
     "metadata": {},
     "output_type": "display_data"
    },
    {
     "data": {
      "text/html": [
       "<pre style=\"white-space:pre;overflow-x:auto;line-height:normal;font-family:Menlo,'DejaVu Sans Mono',consolas,'Courier New',monospace\">Today's date <span style=\"color: #008080; text-decoration-color: #008080; font-weight: bold\">2025</span>-<span style=\"color: #008080; text-decoration-color: #008080; font-weight: bold\">08</span>-<span style=\"color: #008080; text-decoration-color: #008080; font-weight: bold\">06</span>\n",
       "</pre>\n"
      ],
      "text/plain": [
       "Today's date \u001b[1;36m2025\u001b[0m-\u001b[1;36m08\u001b[0m-\u001b[1;36m06\u001b[0m\n"
      ]
     },
     "metadata": {},
     "output_type": "display_data"
    },
    {
     "data": {
      "text/html": [
       "<pre style=\"white-space:pre;overflow-x:auto;line-height:normal;font-family:Menlo,'DejaVu Sans Mono',consolas,'Courier New',monospace\">Current Year  <span style=\"color: #008080; text-decoration-color: #008080; font-weight: bold\">2025</span>\n",
       "</pre>\n"
      ],
      "text/plain": [
       "Current Year  \u001b[1;36m2025\u001b[0m\n"
      ]
     },
     "metadata": {},
     "output_type": "display_data"
    },
    {
     "data": {
      "text/html": [
       "<pre style=\"white-space:pre;overflow-x:auto;line-height:normal;font-family:Menlo,'DejaVu Sans Mono',consolas,'Courier New',monospace\">Current day <span style=\"color: #008080; text-decoration-color: #008080; font-weight: bold\">6</span>\n",
       "</pre>\n"
      ],
      "text/plain": [
       "Current day \u001b[1;36m6\u001b[0m\n"
      ]
     },
     "metadata": {},
     "output_type": "display_data"
    },
    {
     "data": {
      "text/html": [
       "<pre style=\"white-space:pre;overflow-x:auto;line-height:normal;font-family:Menlo,'DejaVu Sans Mono',consolas,'Courier New',monospace\">Current month <span style=\"color: #008080; text-decoration-color: #008080; font-weight: bold\">8</span>\n",
       "</pre>\n"
      ],
      "text/plain": [
       "Current month \u001b[1;36m8\u001b[0m\n"
      ]
     },
     "metadata": {},
     "output_type": "display_data"
    },
    {
     "data": {
      "text/html": [
       "<pre style=\"white-space:pre;overflow-x:auto;line-height:normal;font-family:Menlo,'DejaVu Sans Mono',consolas,'Courier New',monospace\">Time is : <span style=\"color: #00ff00; text-decoration-color: #00ff00; font-weight: bold\">10:30:10</span>\n",
       "</pre>\n"
      ],
      "text/plain": [
       "Time is : \u001b[1;92m10:30:10\u001b[0m\n"
      ]
     },
     "metadata": {},
     "output_type": "display_data"
    },
    {
     "data": {
      "text/html": [
       "<pre style=\"white-space:pre;overflow-x:auto;line-height:normal;font-family:Menlo,'DejaVu Sans Mono',consolas,'Courier New',monospace\">Future date :  <span style=\"color: #008080; text-decoration-color: #008080; font-weight: bold\">2025</span>-<span style=\"color: #008080; text-decoration-color: #008080; font-weight: bold\">08</span>-<span style=\"color: #008080; text-decoration-color: #008080; font-weight: bold\">11</span>\n",
       "</pre>\n"
      ],
      "text/plain": [
       "Future date :  \u001b[1;36m2025\u001b[0m-\u001b[1;36m08\u001b[0m-\u001b[1;36m11\u001b[0m\n"
      ]
     },
     "metadata": {},
     "output_type": "display_data"
    },
    {
     "data": {
      "text/html": [
       "<pre style=\"white-space:pre;overflow-x:auto;line-height:normal;font-family:Menlo,'DejaVu Sans Mono',consolas,'Courier New',monospace\"><span style=\"color: #00ff00; text-decoration-color: #00ff00; font-weight: bold\">10:34:10</span>.<span style=\"color: #008080; text-decoration-color: #008080; font-weight: bold\">000200</span>\n",
       "</pre>\n"
      ],
      "text/plain": [
       "\u001b[1;92m10:34:10\u001b[0m.\u001b[1;36m000200\u001b[0m\n"
      ]
     },
     "metadata": {},
     "output_type": "display_data"
    },
    {
     "data": {
      "text/html": [
       "<pre style=\"white-space:pre;overflow-x:auto;line-height:normal;font-family:Menlo,'DejaVu Sans Mono',consolas,'Courier New',monospace\"><span style=\"color: #008080; text-decoration-color: #008080; font-weight: bold\">10</span>\n",
       "</pre>\n"
      ],
      "text/plain": [
       "\u001b[1;36m10\u001b[0m\n"
      ]
     },
     "metadata": {},
     "output_type": "display_data"
    },
    {
     "data": {
      "text/html": [
       "<pre style=\"white-space:pre;overflow-x:auto;line-height:normal;font-family:Menlo,'DejaVu Sans Mono',consolas,'Courier New',monospace\"><span style=\"color: #008080; text-decoration-color: #008080; font-weight: bold\">34</span>\n",
       "</pre>\n"
      ],
      "text/plain": [
       "\u001b[1;36m34\u001b[0m\n"
      ]
     },
     "metadata": {},
     "output_type": "display_data"
    },
    {
     "data": {
      "text/html": [
       "<pre style=\"white-space:pre;overflow-x:auto;line-height:normal;font-family:Menlo,'DejaVu Sans Mono',consolas,'Courier New',monospace\"><span style=\"color: #008080; text-decoration-color: #008080; font-weight: bold\">10</span>\n",
       "</pre>\n"
      ],
      "text/plain": [
       "\u001b[1;36m10\u001b[0m\n"
      ]
     },
     "metadata": {},
     "output_type": "display_data"
    },
    {
     "data": {
      "text/html": [
       "<pre style=\"white-space:pre;overflow-x:auto;line-height:normal;font-family:Menlo,'DejaVu Sans Mono',consolas,'Courier New',monospace\"><span style=\"color: #008080; text-decoration-color: #008080; font-weight: bold\">200</span>\n",
       "</pre>\n"
      ],
      "text/plain": [
       "\u001b[1;36m200\u001b[0m\n"
      ]
     },
     "metadata": {},
     "output_type": "display_data"
    }
   ],
   "source": [
    "from datetime import datetime, time, date, timedelta\n",
    "dt = date.today()\n",
    "previous_date = dt - timedelta(90)\n",
    "next_date = dt + timedelta(90)\n",
    "print('nextdate',next_date)\n",
    "print(\"precious date\", previous_date)\n",
    "start_date = datetime(1995,8,26,00,20,7)\n",
    "end_date = datetime(2025,12,31,0,0,0)\n",
    "end = end_date - start_date\n",
    "print(end)\n",
    "days = end.days  \n",
    "in_years = days / 365.25\n",
    "print(\"Days to years conversion : \", in_years)\n",
    "\n",
    "now = datetime.now()\n",
    "print(\"Current\",now)\n",
    "today = date.today()\n",
    "print(\"Today's date\", today)\n",
    "print(\"Current Year \",today.year)\n",
    "print(\"Current day\", today.day)\n",
    "print(\"Current month\", today.month)\n",
    "t = time(10, 30, 10)\n",
    "print('Time is :',t)\n",
    "\n",
    "delta = timedelta(days=5)\n",
    "future = today+delta\n",
    "print(\"Future date : \", future)\n",
    "\n",
    "t1= time(10,34, 10, 200)\n",
    "print(t1)\n",
    "print(t1.hour)\n",
    "print(t1.minute)\n",
    "print(t1.second)\n",
    "print(t1.microsecond)"
   ]
  },
  {
   "cell_type": "code",
   "execution_count": 43,
   "id": "05dc58b7-b334-4512-b047-2541f1f0f90f",
   "metadata": {},
   "outputs": [
    {
     "data": {
      "text/html": [
       "<pre style=\"white-space:pre;overflow-x:auto;line-height:normal;font-family:Menlo,'DejaVu Sans Mono',consolas,'Courier New',monospace\"><span style=\"color: #00ff00; text-decoration-color: #00ff00; font-style: italic\">True</span>\n",
       "</pre>\n"
      ],
      "text/plain": [
       "\u001b[3;92mTrue\u001b[0m\n"
      ]
     },
     "metadata": {},
     "output_type": "display_data"
    },
    {
     "data": {
      "text/html": [
       "<pre style=\"white-space:pre;overflow-x:auto;line-height:normal;font-family:Menlo,'DejaVu Sans Mono',consolas,'Courier New',monospace\"><span style=\"color: #ff0000; text-decoration-color: #ff0000; font-style: italic\">False</span>\n",
       "</pre>\n"
      ],
      "text/plain": [
       "\u001b[3;91mFalse\u001b[0m\n"
      ]
     },
     "metadata": {},
     "output_type": "display_data"
    }
   ],
   "source": [
    "import calendar\n",
    "print(calendar.isleap(2024))\n",
    "print(calendar.isleap(2025))"
   ]
  },
  {
   "cell_type": "code",
   "execution_count": null,
   "id": "44e6cace-d5f8-443c-9aa5-b0836f8ac59e",
   "metadata": {},
   "outputs": [],
   "source": []
  }
 ],
 "metadata": {
  "kernelspec": {
   "display_name": "Python [conda env:base] *",
   "language": "python",
   "name": "conda-base-py"
  },
  "language_info": {
   "codemirror_mode": {
    "name": "ipython",
    "version": 3
   },
   "file_extension": ".py",
   "mimetype": "text/x-python",
   "name": "python",
   "nbconvert_exporter": "python",
   "pygments_lexer": "ipython3",
   "version": "3.12.7"
  }
 },
 "nbformat": 4,
 "nbformat_minor": 5
}
